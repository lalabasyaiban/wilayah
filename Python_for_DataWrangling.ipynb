{
  "nbformat": 4,
  "nbformat_minor": 0,
  "metadata": {
    "kernelspec": {
      "display_name": "Python 3",
      "language": "python",
      "name": "python3"
    },
    "language_info": {
      "codemirror_mode": {
        "name": "ipython",
        "version": 3
      },
      "file_extension": ".py",
      "mimetype": "text/x-python",
      "name": "python",
      "nbconvert_exporter": "python",
      "pygments_lexer": "ipython3",
      "version": "3.7.3"
    },
    "latex_envs": {
      "LaTeX_envs_menu_present": true,
      "autoclose": false,
      "autocomplete": true,
      "bibliofile": "biblio.bib",
      "cite_by": "apalike",
      "current_citInitial": 1,
      "eqLabelWithNumbers": true,
      "eqNumInitial": 1,
      "hotkeys": {
        "equation": "Ctrl-E",
        "itemize": "Ctrl-I"
      },
      "labels_anchors": false,
      "latex_user_defs": false,
      "report_style_numbering": false,
      "user_envs_cfg": false
    },
    "toc": {
      "base_numbering": 1,
      "nav_menu": {},
      "number_sections": true,
      "sideBar": true,
      "skip_h1_title": false,
      "title_cell": "Table of Contents",
      "title_sidebar": "Contents",
      "toc_cell": false,
      "toc_position": {},
      "toc_section_display": true,
      "toc_window_display": false
    },
    "colab": {
      "name": "Python_for_DataWrangling.ipynb",
      "provenance": [],
      "collapsed_sections": [
        "rnGbH-svTuAT",
        "XrhCVbrTTuAT",
        "RP9Zfx7STuAU",
        "1TZJU8oOTuAZ",
        "T5RyWQStTuAd",
        "lRFHmowwTuAf",
        "I2tzrMIhTuAg",
        "vOpqrMGETuAi",
        "XCGkwwxITuAr",
        "DxACxB0iTuAu",
        "ADwgET4_TuAw",
        "rzqKhtWmTuAx",
        "6f6URmIwTuAy",
        "q5qpmX6LTuAz",
        "znltnQOBTuA0"
      ],
      "include_colab_link": true
    }
  },
  "cells": [
    {
      "cell_type": "markdown",
      "metadata": {
        "id": "view-in-github",
        "colab_type": "text"
      },
      "source": [
        "<a href=\"https://colab.research.google.com/github/lalabasyaiban/wilayah/blob/master/Python_for_DataWrangling.ipynb\" target=\"_parent\"><img src=\"https://colab.research.google.com/assets/colab-badge.svg\" alt=\"Open In Colab\"/></a>"
      ]
    },
    {
      "cell_type": "markdown",
      "metadata": {
        "id": "Y7XE7xsFTt_p"
      },
      "source": [
        "**Coursebook: Python for Data Wrangling**\n",
        "- Part 2 of Python Fundamental Course\n",
        "- Course Length: 12 hours\n",
        "- Last Updated: July 2019\n",
        "\n",
        "___\n",
        "\n",
        "- Developed by [Algoritma](https://algorit.ma)'s product division and instructors team"
      ]
    },
    {
      "cell_type": "code",
      "metadata": {
        "colab": {
          "base_uri": "https://localhost:8080/"
        },
        "id": "VFRFkKowURfi",
        "outputId": "af8ddcf2-2cfd-4757-93e8-99713d670b54"
      },
      "source": [
        "from google.colab import drive\n",
        "\n",
        "drive.mount(\"/content/gdrive\")"
      ],
      "execution_count": null,
      "outputs": [
        {
          "output_type": "stream",
          "text": [
            "Drive already mounted at /content/gdrive; to attempt to forcibly remount, call drive.mount(\"/content/gdrive\", force_remount=True).\n"
          ],
          "name": "stdout"
        }
      ]
    },
    {
      "cell_type": "markdown",
      "metadata": {
        "id": "7Ei6nfB2Tt_y"
      },
      "source": [
        "# Background"
      ]
    },
    {
      "cell_type": "markdown",
      "metadata": {
        "id": "OpRYh0PuTt_y"
      },
      "source": [
        "The coursebook is part of the **Python Fundamental Course** prepared by [Algoritma](https://algorit.ma). The coursebook is intended for a restricted audience only, i.e. the individuals and organizations having received this coursebook directly from the training organization. It may not be reproduced, distributed, translated or adapted in any form outside these individuals and organizations without permission.\n",
        "\n",
        "Algoritma is a data science education center based in Jakarta. We organize workshops and training programs to help working professionals and students gain mastery in various data science sub-fields: data visualization, machine learning, data modeling, statistical inference etc."
      ]
    },
    {
      "cell_type": "markdown",
      "metadata": {
        "id": "Ly5yuuX9Tt_z"
      },
      "source": [
        "## Training Objectives\n",
        "\n",
        "On the second section of this **Python Fundamental Course**, we'll start exercising data wrangling practices using `pandas` libray. In this coursebook we will cover:\n",
        "\n",
        "- Introduction to `pandas` library\n",
        "- Exploratory Analysis Tools\n",
        "- Group By Aggregation\n",
        "- Multi-index Data Frame\n",
        "- Data Tidying\n",
        "- Connecting to SQL Source\n",
        "\n",
        "By the end of this course, you'll be working on a **learn-by-building** module to create a data exploratory analysis project to apply what you have learned on provided dataset and attempt to answer all the given questions. This final part is considered as a Graded Assignment so make sure you do well."
      ]
    },
    {
      "cell_type": "markdown",
      "metadata": {
        "id": "w2FSEstMTt_1"
      },
      "source": [
        "----\n",
        "# Introduction to pandas Library"
      ]
    },
    {
      "cell_type": "markdown",
      "metadata": {
        "id": "Ad6mbsa9Tt_1"
      },
      "source": [
        "We will start off by learning about a powerful Python data analysis library by the name of `pandas`. Its official documentation introduces itself as the \"fundamental high-level building block for doing practical, real world data analysis in Python\", and strive to do so by implementing many of the key data manipulation functionalities in R. This makes `pandas` a core member of many Python-based scientific computing environments.\n",
        "\n",
        "From its [official documentation](https://pandas.pydata.org):\n",
        "\n",
        "> Python has long been great for data munging and preparation, but less so for data analysis and modeling. pandas helps fill this gap, enabling you to carry out your entire data analysis workflow in Python without having to switch to a more domain specific language like R.\n",
        "\n",
        "To use `pandas`, we will use Python's `import` function. Once imported, all `pandas` function can be accessed using the *pandas.function_name* notation."
      ]
    },
    {
      "cell_type": "code",
      "metadata": {
        "colab": {
          "base_uri": "https://localhost:8080/"
        },
        "id": "3trVXOLRTt_3",
        "outputId": "afcbbfef-10e1-44cd-e7cc-c20e903db090"
      },
      "source": [
        "import pandas as pd\n",
        "print(pd.__version__)"
      ],
      "execution_count": null,
      "outputs": [
        {
          "output_type": "stream",
          "text": [
            "1.1.5\n"
          ],
          "name": "stdout"
        }
      ]
    },
    {
      "cell_type": "markdown",
      "metadata": {
        "id": "jA1A3eqkTt_5"
      },
      "source": [
        "## Working with DataFrame"
      ]
    },
    {
      "cell_type": "markdown",
      "metadata": {
        "id": "6lrerZ5zTt_6"
      },
      "source": [
        "Let's start with reading our first dataset, `amazon-electronic.csv`. The dataset is a sample sales data from electronic section of Amazon ecommerce."
      ]
    },
    {
      "cell_type": "code",
      "metadata": {
        "scrolled": true,
        "id": "l2C-tWkjTt_6",
        "colab": {
          "base_uri": "https://localhost:8080/",
          "height": 388
        },
        "outputId": "a67279ef-35d0-48ac-fc55-c3c823b088b7"
      },
      "source": [
        "elec = pd.read_csv(\"/content/gdrive/My Drive/Materi Acube/Data science with Python by Algorit.ma/2_PythonDW/data_input/amazon-electronic-edited.csv\", index_col=1)\n",
        "elec.head()\n",
        "\n",
        "# Make a shortcut for the folder in your \"My Drive\" folder before reading the data\n",
        "# elec = pd.read_csv(\"/content/gdrive/My Drive/Data science with Python by Algorit.ma/2_PythonDW/data_input/amazon-electronic-edited.csv\", index_col=0)\n",
        "# elec.head()"
      ],
      "execution_count": null,
      "outputs": [
        {
          "output_type": "execute_result",
          "data": {
            "text/html": [
              "<div>\n",
              "<style scoped>\n",
              "    .dataframe tbody tr th:only-of-type {\n",
              "        vertical-align: middle;\n",
              "    }\n",
              "\n",
              "    .dataframe tbody tr th {\n",
              "        vertical-align: top;\n",
              "    }\n",
              "\n",
              "    .dataframe thead th {\n",
              "        text-align: right;\n",
              "    }\n",
              "</style>\n",
              "<table border=\"1\" class=\"dataframe\">\n",
              "  <thead>\n",
              "    <tr style=\"text-align: right;\">\n",
              "      <th></th>\n",
              "      <th>product_id</th>\n",
              "      <th>date</th>\n",
              "      <th>categories</th>\n",
              "      <th>brand</th>\n",
              "      <th>name</th>\n",
              "      <th>merchant</th>\n",
              "      <th>quantity</th>\n",
              "      <th>unit_price</th>\n",
              "    </tr>\n",
              "    <tr>\n",
              "      <th>id</th>\n",
              "      <th></th>\n",
              "      <th></th>\n",
              "      <th></th>\n",
              "      <th></th>\n",
              "      <th></th>\n",
              "      <th></th>\n",
              "      <th></th>\n",
              "      <th></th>\n",
              "    </tr>\n",
              "  </thead>\n",
              "  <tbody>\n",
              "    <tr>\n",
              "      <th>1</th>\n",
              "      <td>44342</td>\n",
              "      <td>2017-03-02</td>\n",
              "      <td>Camera &amp; Photo</td>\n",
              "      <td>Panasonic</td>\n",
              "      <td>Lumix G 25mm f/1.7 ASPH. Lens</td>\n",
              "      <td>Bestbuy.com</td>\n",
              "      <td>1</td>\n",
              "      <td>201,99USD</td>\n",
              "    </tr>\n",
              "    <tr>\n",
              "      <th>2</th>\n",
              "      <td>46876</td>\n",
              "      <td>2017-03-02</td>\n",
              "      <td>Camera &amp; Photo</td>\n",
              "      <td>Sony</td>\n",
              "      <td>Cyber-shot DSC-WX220 Digital Camera (Black)</td>\n",
              "      <td>Bestbuy.com</td>\n",
              "      <td>1</td>\n",
              "      <td>159,99USD</td>\n",
              "    </tr>\n",
              "    <tr>\n",
              "      <th>3</th>\n",
              "      <td>12136</td>\n",
              "      <td>2017-03-02</td>\n",
              "      <td>Camera &amp; Photo</td>\n",
              "      <td>Sony</td>\n",
              "      <td>Sony - BC-TRX Battery Charger - Black</td>\n",
              "      <td>Bestbuy.com</td>\n",
              "      <td>1</td>\n",
              "      <td>26,99USD</td>\n",
              "    </tr>\n",
              "    <tr>\n",
              "      <th>6</th>\n",
              "      <td>79238</td>\n",
              "      <td>2017-03-03</td>\n",
              "      <td>Accessories &amp; Supplies</td>\n",
              "      <td>Insignia</td>\n",
              "      <td>Insignia - Fixed TV Wall Mount For Most 40-70\"...</td>\n",
              "      <td>Bestbuy.com</td>\n",
              "      <td>1</td>\n",
              "      <td>56,99USD</td>\n",
              "    </tr>\n",
              "    <tr>\n",
              "      <th>7</th>\n",
              "      <td>46643</td>\n",
              "      <td>2017-03-03</td>\n",
              "      <td>Camera &amp; Photo</td>\n",
              "      <td>Sony</td>\n",
              "      <td>Cyber-shot DSC-RX100 V Digital Camera</td>\n",
              "      <td>Bestbuy.com</td>\n",
              "      <td>1</td>\n",
              "      <td>849,99USD</td>\n",
              "    </tr>\n",
              "  </tbody>\n",
              "</table>\n",
              "</div>"
            ],
            "text/plain": [
              "    product_id        date  ... quantity unit_price\n",
              "id                          ...                    \n",
              "1        44342  2017-03-02  ...        1  201,99USD\n",
              "2        46876  2017-03-02  ...        1  159,99USD\n",
              "3        12136  2017-03-02  ...        1   26,99USD\n",
              "6        79238  2017-03-03  ...        1   56,99USD\n",
              "7        46643  2017-03-03  ...        1  849,99USD\n",
              "\n",
              "[5 rows x 8 columns]"
            ]
          },
          "metadata": {
            "tags": []
          },
          "execution_count": 44
        }
      ]
    },
    {
      "cell_type": "markdown",
      "metadata": {
        "id": "R8WSjj6DTt_7"
      },
      "source": [
        "In the code above, we used `.read_csv()` to read a csv file from a specified path. Notice that we set `index_col=0` so the first column in the csv is used as the index. By default, this function treats the first row as the header row. We can add `header=None` to the function call telling `pandas` to read in a CSV without headers.\n",
        "\n",
        "You may find it curious that we use `0` to reference the first element of an axis; This is because Python uses 0-based indexing, a behavior that is different from other languages such as R and Matlab."
      ]
    },
    {
      "cell_type": "markdown",
      "metadata": {
        "id": "5S8b6YveTt_7"
      },
      "source": [
        "**Discussion:**"
      ]
    },
    {
      "cell_type": "markdown",
      "metadata": {
        "id": "HXxeqSchTt_7"
      },
      "source": [
        "Let's go further into understanding the `index_col` parameter. From the documentation:\n",
        "\n",
        "> `index_col` : int or sequence or `False`  \n",
        "Column to use as the row labels of the DataFrame.\n",
        "\n",
        "1. How would you change the `read.csv()` code such that the DataFrame uses `product_id` as the row label (index)? \n",
        "2. `pandas.DataFrame.head()` accepts an additional parameter, `n`, and returns the first `n` rows of the DataFrame; Set `n=8` to see the first 8 rows of your `elec` DataFrame\n",
        "3. The opposite of `.head()` is `.tail()`. It returns the last `n` row of your DataFrame. Create a new cell below and print the last 4 rows of our DataFrame \n",
        "\n",
        "*Reminder: Python uses 0-based indexing, and `product_id` is the second column in the csv*"
      ]
    },
    {
      "cell_type": "code",
      "metadata": {
        "id": "LnWgOSwuTt_8"
      },
      "source": [
        "## Your code below\n",
        "\n",
        "# -- Refer to solution key 1"
      ],
      "execution_count": null,
      "outputs": []
    },
    {
      "cell_type": "markdown",
      "metadata": {
        "id": "M6bik_kOaF3T"
      },
      "source": [
        "Solution\n",
        "```\n",
        "# 1\n",
        "elec = pd.read_csv(\"/content/gdrive/My Drive/Materi Acube/Data science with Python by Algorit.ma/2_PythonDW/data_input/amazon-electronic.csv\", index_col=\"product_id\")\n",
        "elec.head()\n",
        "\n",
        "# 2\n",
        "elec.head(8)\n",
        "\n",
        "# 3\n",
        "elec.tail(4)\n",
        "```"
      ]
    },
    {
      "cell_type": "markdown",
      "metadata": {
        "id": "KltZdkIPTt_8"
      },
      "source": [
        "Recall what you have learned about **python keywords**! Which of the following 4 lines of code will evaluate without raising an error?\n",
        "\n",
        "- [ ] `pd.read_csv(\"data_input/amazon-electronic.csv\", index_col=false)`\n",
        "- [ ] `Import pandas as pd`\n",
        "- [ ] `print(100-2)`\n",
        "- [ ] `None = 2`"
      ]
    },
    {
      "cell_type": "markdown",
      "metadata": {
        "id": "a4Ds7Nq0Tt_9"
      },
      "source": [
        "You'll be tempted to go through all the keywords above and try to wrap your head around each one of them. If this proves to be a tad overwhelming, my recommendation is to move along the rest of the section; Most of us do not know the inner workings of every components of our car engine, but that shouldn't stop you from being an effective driver. \n",
        "\n",
        "\n",
        "A we're going to learn with a top-down approach and concepts will be presented on a \"need-to-know\" basis. We'll no doubt come across many of the keywords again (since collectively they form the backbone of the language) but for now, there is no need to stress about them if that only serve to discourage you from learning to code.\n",
        "\n",
        "\n",
        "**What you need to know**:\n",
        "- Python, as with `R`, `Swift`, `C`, and many other languages, are case-sensitive. `Sales` and `sales` refer to different objects.  \n",
        "- You cannot use any Python keywords as identifers. \n",
        "- When naming your variables, start with a letter and use underscore (`_`) to join multiple words.\n",
        "    - Wrong: `2019`, `2019sales`, `sales-2019`, `sales.2019`\n",
        "    - Correct: `sales_2019`, `profit_after_tax`"
      ]
    },
    {
      "cell_type": "markdown",
      "metadata": {
        "id": "ALnamWeETt_9"
      },
      "source": [
        "`pandas` allow data analysts to create Series objects and DataFrame objects. Series is used to represent a one-dimensional array whereas DataFrame emulates the functionality of \"Data Frames\" in R and is useful for tabular data. \n",
        "\n",
        "In practice, a large proportion of our data is tabular: when we import data from a relational database (MySQL, Postgre) or from a spreadsheet software (Google Sheets, Microsoft Excel) we can represent these data as a DataFrame object."
      ]
    },
    {
      "cell_type": "markdown",
      "metadata": {
        "id": "cWQzHRpJTt_-"
      },
      "source": [
        "## Data Types"
      ]
    },
    {
      "cell_type": "markdown",
      "metadata": {
        "id": "_I7XTHy9Tt_-"
      },
      "source": [
        "When we call `pd.read_csv()` earlier, `pandas` will try to infer data types from the values in each column. Sometimes, it get it right but more often that not, a data analyst's intervention is required. In the following sub-section, we'll learn about various techniques an analyst have at his/her disposal when it comes to the treatment of pandas data types."
      ]
    },
    {
      "cell_type": "code",
      "metadata": {
        "id": "NUNew1HaTt__",
        "colab": {
          "base_uri": "https://localhost:8080/"
        },
        "outputId": "0d1fef1c-e791-48b7-ddb5-1b4518d85733"
      },
      "source": [
        "elec.dtypes"
      ],
      "execution_count": null,
      "outputs": [
        {
          "output_type": "execute_result",
          "data": {
            "text/plain": [
              "id              int64\n",
              "date           object\n",
              "categories     object\n",
              "brand          object\n",
              "name           object\n",
              "merchant       object\n",
              "quantity        int64\n",
              "unit_price    float64\n",
              "dtype: object"
            ]
          },
          "metadata": {
            "tags": []
          },
          "execution_count": 15
        }
      ]
    },
    {
      "cell_type": "markdown",
      "metadata": {
        "id": "SUdt-OuWTt__"
      },
      "source": [
        "`dtypes` simply stands for \"data types\". Because `elec` is a `pandas` object, accessing the `dtypes` attribute will return a series with the data type of each column. \n",
        "\n",
        "Look at the following code - what is the expected output from the following code? Why?\n",
        "```\n",
        "x = [2019, 4, 'data science']\n",
        "x.dtypes\n",
        "```\n",
        "\n",
        "Hint: Try `type(x)` and verify the type for object `x`."
      ]
    },
    {
      "cell_type": "markdown",
      "metadata": {
        "id": "ZTl3JVBiTt__"
      },
      "source": [
        "Let's take a look at some examples of `DataFrame.dtypes`:"
      ]
    },
    {
      "cell_type": "code",
      "metadata": {
        "id": "6zNAMgz2Tt__",
        "colab": {
          "base_uri": "https://localhost:8080/",
          "height": 111
        },
        "outputId": "30f5be1d-bcc7-43ce-c97c-528b20087be2"
      },
      "source": [
        "member = pd.DataFrame({\n",
        "    'name': ['Anita', 'Brian'],\n",
        "    'birth': [pd.Timestamp('19931108'), pd.Timestamp('19800612')],\n",
        "    'gender': pd.Categorical(['F','M']),\n",
        "    'vip': [True, False],\n",
        "    'ordercount': [11, 7],\n",
        "    'avgbuy': [250554.32,500004.23 ]\n",
        "})\n",
        "member"
      ],
      "execution_count": null,
      "outputs": [
        {
          "output_type": "execute_result",
          "data": {
            "text/html": [
              "<div>\n",
              "<style scoped>\n",
              "    .dataframe tbody tr th:only-of-type {\n",
              "        vertical-align: middle;\n",
              "    }\n",
              "\n",
              "    .dataframe tbody tr th {\n",
              "        vertical-align: top;\n",
              "    }\n",
              "\n",
              "    .dataframe thead th {\n",
              "        text-align: right;\n",
              "    }\n",
              "</style>\n",
              "<table border=\"1\" class=\"dataframe\">\n",
              "  <thead>\n",
              "    <tr style=\"text-align: right;\">\n",
              "      <th></th>\n",
              "      <th>name</th>\n",
              "      <th>birth</th>\n",
              "      <th>gender</th>\n",
              "      <th>vip</th>\n",
              "      <th>ordercount</th>\n",
              "      <th>avgbuy</th>\n",
              "    </tr>\n",
              "  </thead>\n",
              "  <tbody>\n",
              "    <tr>\n",
              "      <th>0</th>\n",
              "      <td>Anita</td>\n",
              "      <td>1993-11-08</td>\n",
              "      <td>F</td>\n",
              "      <td>True</td>\n",
              "      <td>11</td>\n",
              "      <td>250554.32</td>\n",
              "    </tr>\n",
              "    <tr>\n",
              "      <th>1</th>\n",
              "      <td>Brian</td>\n",
              "      <td>1980-06-12</td>\n",
              "      <td>M</td>\n",
              "      <td>False</td>\n",
              "      <td>7</td>\n",
              "      <td>500004.23</td>\n",
              "    </tr>\n",
              "  </tbody>\n",
              "</table>\n",
              "</div>"
            ],
            "text/plain": [
              "    name      birth gender    vip  ordercount     avgbuy\n",
              "0  Anita 1993-11-08      F   True          11  250554.32\n",
              "1  Brian 1980-06-12      M  False           7  500004.23"
            ]
          },
          "metadata": {
            "tags": []
          },
          "execution_count": 17
        }
      ]
    },
    {
      "cell_type": "markdown",
      "metadata": {
        "id": "kge4c4enTuAA"
      },
      "source": [
        "To see the columns type, we'll use DataFrame attribute `.dtypes`, in which will show you the data types from the values in each column:"
      ]
    },
    {
      "cell_type": "code",
      "metadata": {
        "id": "CavFNh6MTuAA",
        "colab": {
          "base_uri": "https://localhost:8080/"
        },
        "outputId": "74528d61-1658-4e80-e415-fc63da776f3e"
      },
      "source": [
        "member.dtypes"
      ],
      "execution_count": null,
      "outputs": [
        {
          "output_type": "execute_result",
          "data": {
            "text/plain": [
              "name                  object\n",
              "birth         datetime64[ns]\n",
              "gender              category\n",
              "vip                     bool\n",
              "ordercount             int64\n",
              "avgbuy               float64\n",
              "dtype: object"
            ]
          },
          "metadata": {
            "tags": []
          },
          "execution_count": 18
        }
      ]
    },
    {
      "cell_type": "markdown",
      "metadata": {
        "id": "HfIefa00TuAB"
      },
      "source": [
        "Let's go through the columns and their data types from the above `DataFrame`:\n",
        "\n",
        "- `name` [`object`]: store text values\n",
        "- `birth` [`int`]: date and time values\n",
        "- `gender`[`category`]: store categorical values\n",
        "- `vip` [`bool`]: True/False values\n",
        "- `ordercount` [`datetime`]: integer values\n",
        "- `avgbuy` [`float`]: floating point values\n",
        "\n",
        "Among these columns, only `ordercount` and `avgbuy` are columns with numeric values. This is a simple, but important, observation to make as we make our way into the Exploratory Data Analysis phase. But before we do, let's do one more exercise. Take a closer look at the Data Frame we just created again.\n",
        "\n",
        "Both `name` and `gender` is not numerical, hence, `name` was stored as `object` while the `gender` store as `category`."
      ]
    },
    {
      "cell_type": "markdown",
      "metadata": {
        "id": "9CZw32R6TuAB"
      },
      "source": [
        "### Data Tidying\n",
        "\n",
        "Now going back to our `elect` data frame, let's quickly inspect our dataset:"
      ]
    },
    {
      "cell_type": "code",
      "metadata": {
        "id": "iKI4yvwlTuAB",
        "colab": {
          "base_uri": "https://localhost:8080/",
          "height": 388
        },
        "outputId": "3af9722c-b99e-4cc0-c8e2-394bb58a28dd"
      },
      "source": [
        "elec.head()"
      ],
      "execution_count": null,
      "outputs": [
        {
          "output_type": "execute_result",
          "data": {
            "text/html": [
              "<div>\n",
              "<style scoped>\n",
              "    .dataframe tbody tr th:only-of-type {\n",
              "        vertical-align: middle;\n",
              "    }\n",
              "\n",
              "    .dataframe tbody tr th {\n",
              "        vertical-align: top;\n",
              "    }\n",
              "\n",
              "    .dataframe thead th {\n",
              "        text-align: right;\n",
              "    }\n",
              "</style>\n",
              "<table border=\"1\" class=\"dataframe\">\n",
              "  <thead>\n",
              "    <tr style=\"text-align: right;\">\n",
              "      <th></th>\n",
              "      <th>id</th>\n",
              "      <th>date</th>\n",
              "      <th>categories</th>\n",
              "      <th>brand</th>\n",
              "      <th>name</th>\n",
              "      <th>merchant</th>\n",
              "      <th>quantity</th>\n",
              "      <th>unit_price</th>\n",
              "    </tr>\n",
              "    <tr>\n",
              "      <th>product_id</th>\n",
              "      <th></th>\n",
              "      <th></th>\n",
              "      <th></th>\n",
              "      <th></th>\n",
              "      <th></th>\n",
              "      <th></th>\n",
              "      <th></th>\n",
              "      <th></th>\n",
              "    </tr>\n",
              "  </thead>\n",
              "  <tbody>\n",
              "    <tr>\n",
              "      <th>44342</th>\n",
              "      <td>1</td>\n",
              "      <td>2017-03-02</td>\n",
              "      <td>Camera &amp; Photo</td>\n",
              "      <td>Panasonic</td>\n",
              "      <td>Lumix G 25mm f/1.7 ASPH. Lens</td>\n",
              "      <td>Bestbuy.com</td>\n",
              "      <td>1</td>\n",
              "      <td>201.99</td>\n",
              "    </tr>\n",
              "    <tr>\n",
              "      <th>46876</th>\n",
              "      <td>2</td>\n",
              "      <td>2017-03-02</td>\n",
              "      <td>Camera &amp; Photo</td>\n",
              "      <td>Sony</td>\n",
              "      <td>Cyber-shot DSC-WX220 Digital Camera (Black)</td>\n",
              "      <td>Bestbuy.com</td>\n",
              "      <td>1</td>\n",
              "      <td>159.99</td>\n",
              "    </tr>\n",
              "    <tr>\n",
              "      <th>12136</th>\n",
              "      <td>3</td>\n",
              "      <td>2017-03-02</td>\n",
              "      <td>Camera &amp; Photo</td>\n",
              "      <td>Sony</td>\n",
              "      <td>Sony - BC-TRX Battery Charger - Black</td>\n",
              "      <td>Bestbuy.com</td>\n",
              "      <td>1</td>\n",
              "      <td>26.99</td>\n",
              "    </tr>\n",
              "    <tr>\n",
              "      <th>79238</th>\n",
              "      <td>6</td>\n",
              "      <td>2017-03-03</td>\n",
              "      <td>Accessories &amp; Supplies</td>\n",
              "      <td>Insignia</td>\n",
              "      <td>Insignia - Fixed TV Wall Mount For Most 40-70\"...</td>\n",
              "      <td>Bestbuy.com</td>\n",
              "      <td>1</td>\n",
              "      <td>56.99</td>\n",
              "    </tr>\n",
              "    <tr>\n",
              "      <th>46643</th>\n",
              "      <td>7</td>\n",
              "      <td>2017-03-03</td>\n",
              "      <td>Camera &amp; Photo</td>\n",
              "      <td>Sony</td>\n",
              "      <td>Cyber-shot DSC-RX100 V Digital Camera</td>\n",
              "      <td>Bestbuy.com</td>\n",
              "      <td>1</td>\n",
              "      <td>849.99</td>\n",
              "    </tr>\n",
              "  </tbody>\n",
              "</table>\n",
              "</div>"
            ],
            "text/plain": [
              "            id        date  ... quantity unit_price\n",
              "product_id                  ...                    \n",
              "44342        1  2017-03-02  ...        1     201.99\n",
              "46876        2  2017-03-02  ...        1     159.99\n",
              "12136        3  2017-03-02  ...        1      26.99\n",
              "79238        6  2017-03-03  ...        1      56.99\n",
              "46643        7  2017-03-03  ...        1     849.99\n",
              "\n",
              "[5 rows x 8 columns]"
            ]
          },
          "metadata": {
            "tags": []
          },
          "execution_count": 19
        }
      ]
    },
    {
      "cell_type": "markdown",
      "metadata": {
        "id": "ym2Gw0PgTuAB"
      },
      "source": [
        "Notice that the dataset has some formatting inconsistencies by design: The `unit_price` column has comma delimiter and the currency (`USD`) whereas related columns use values that has omitted the separator. To perform arithmetic computations on the numeric columns, we have to drop the 'USD' currency string and treat these columns as numbers. We'll use the built-in `.replace()` method for this.\n",
        "\n",
        "How do we apply that replace function? We can call `.apply(our_function)` on our `DataFrame`. What's interesting is that `our_function` could be any of `python` built-in functions, functions from third-party modules, or it could also be a list of functions:"
      ]
    },
    {
      "cell_type": "code",
      "metadata": {
        "id": "4tSxFmmBTuAC",
        "colab": {
          "base_uri": "https://localhost:8080/"
        },
        "outputId": "27083c54-123b-4eb1-8ed9-28128bd46a0c"
      },
      "source": [
        "elec['quantity'].apply([max, min])"
      ],
      "execution_count": null,
      "outputs": [
        {
          "output_type": "execute_result",
          "data": {
            "text/plain": [
              "max    6\n",
              "min    1\n",
              "Name: quantity, dtype: int64"
            ]
          },
          "metadata": {
            "tags": []
          },
          "execution_count": 13
        }
      ]
    },
    {
      "cell_type": "markdown",
      "metadata": {
        "id": "ajhThq8QTuAC"
      },
      "source": [
        "Back to removing the currency string from `unit_price` using `.apply()` and `.replace()`. We could create our own function , name it `removeUSD` for example and then apply it the following way:\n",
        "\n",
        "`elec['unit_price'].apply(removeUSD)`\n",
        "\n",
        "Writing functions is a topic that is more suited for a later time, and students new to the trade of programming in Python will be gradually introduced to this aspect of Python programming.\n",
        "\n",
        "However, given the task at hand, this seems like a reasonable time to introduce **Lambdas**."
      ]
    },
    {
      "cell_type": "code",
      "metadata": {
        "id": "dnGL7MH1TuAC",
        "colab": {
          "base_uri": "https://localhost:8080/"
        },
        "outputId": "3fffb7e2-2e44-4974-e8fc-9e9730385b7d"
      },
      "source": [
        "elec['unit_price'] = elec['unit_price'].apply(lambda x: x.replace('USD', ''))\n",
        "elec['unit_price'] = elec['unit_price'].apply(lambda x: x.replace(',', ''))\n",
        "elec.dtypes"
      ],
      "execution_count": null,
      "outputs": [
        {
          "output_type": "execute_result",
          "data": {
            "text/plain": [
              "product_id     int64\n",
              "date          object\n",
              "categories    object\n",
              "brand         object\n",
              "name          object\n",
              "merchant      object\n",
              "quantity       int64\n",
              "unit_price    object\n",
              "dtype: object"
            ]
          },
          "metadata": {
            "tags": []
          },
          "execution_count": 45
        }
      ]
    },
    {
      "cell_type": "markdown",
      "metadata": {
        "id": "fa9hvS74TuAD"
      },
      "source": [
        "You may have noticed that `unit_price` are still not stored in the right data type.\n",
        "\n",
        "The following code uses the `pd.to_numeric` method to transform these columns to numeric data types. \n",
        "\n",
        "```py\n",
        "elec['unit_price'] = elec['unit_price'].apply(pd.to_numeric)\n",
        "```\n",
        "\n",
        "Add the transformation code and then now try to double check the types by using `.dtypes`."
      ]
    },
    {
      "cell_type": "code",
      "metadata": {
        "id": "qsQtytKNTuAD"
      },
      "source": [
        "## Your code below\n",
        "\n"
      ],
      "execution_count": null,
      "outputs": []
    },
    {
      "cell_type": "markdown",
      "metadata": {
        "id": "nrNxFnkOTuAD"
      },
      "source": [
        "When you are done, you can find *reference answer* section on the bottom part of our notebook."
      ]
    },
    {
      "cell_type": "markdown",
      "metadata": {
        "id": "h9MHYf8TTuAE"
      },
      "source": [
        "### Categorical and Numerical Variables\n",
        "\n",
        "When working with categories, it is recommended both from a business point of a view and a technical one to use `pandas` categorical data type. From a business perspective, this adds clarity to the analyst's mind about the type of data he/she is working with. This informs and guides the analysis, on questions such as which statistical methods or plot types to use.\n",
        "\n",
        "From a technical viewpoint, the memory savings -- and in turn, computation speed as well as computational resources -- can be quite significant. Specifically, the docs remarked:\n",
        "\n",
        "> The memory usage of a `Categorical` is proportional to the number of categories plus the length of the data. In contrast, an `object` dtype is a constant times the length of the data\n",
        "\n",
        "Now, let's get back to our `elec` data. Can you spot which of our column holds values that should be encoded in the `category` data type? Once you've spotted it, use the `astype('category')` method to perform the conversion. Remember to re-assign this new column so the original column (`object`) type is overwritten with the new `category` type column."
      ]
    },
    {
      "cell_type": "code",
      "metadata": {
        "id": "9sNCGAImTuAE",
        "colab": {
          "base_uri": "https://localhost:8080/"
        },
        "outputId": "ec923586-18f9-4120-e125-d4ba9f243858"
      },
      "source": [
        "elec.dtypes"
      ],
      "execution_count": null,
      "outputs": [
        {
          "output_type": "execute_result",
          "data": {
            "text/plain": [
              "product_id     int64\n",
              "date          object\n",
              "categories    object\n",
              "brand         object\n",
              "name          object\n",
              "merchant      object\n",
              "quantity       int64\n",
              "unit_price    object\n",
              "dtype: object"
            ]
          },
          "metadata": {
            "tags": []
          },
          "execution_count": 46
        }
      ]
    },
    {
      "cell_type": "code",
      "metadata": {
        "id": "XpDzTZfBTuAE"
      },
      "source": [
        "## Your code below\n",
        "\n"
      ],
      "execution_count": null,
      "outputs": []
    },
    {
      "cell_type": "markdown",
      "metadata": {
        "id": "1KfHWpn7TuAF"
      },
      "source": [
        "### Datetime Variables"
      ]
    },
    {
      "cell_type": "markdown",
      "metadata": {
        "id": "ZqtjkGMJTuAF"
      },
      "source": [
        "Given the program's special emphasis on business-driven analytics, one data type of particular interest to us is the `datetime`. In the first part of this coursebook, we've seen an example of `datetime` in the section introducing data types (`member.birth`).\n",
        "\n",
        "Now, let's take a look at the data types of our `DataFrame` again:"
      ]
    },
    {
      "cell_type": "code",
      "metadata": {
        "id": "LMtG4jAbTuAF",
        "colab": {
          "base_uri": "https://localhost:8080/"
        },
        "outputId": "ac392862-48d2-4608-f66c-00e152c15761"
      },
      "source": [
        "elec.dtypes"
      ],
      "execution_count": null,
      "outputs": [
        {
          "output_type": "execute_result",
          "data": {
            "text/plain": [
              "product_id     int64\n",
              "date          object\n",
              "categories    object\n",
              "brand         object\n",
              "name          object\n",
              "merchant      object\n",
              "quantity       int64\n",
              "unit_price    object\n",
              "dtype: object"
            ]
          },
          "metadata": {
            "tags": []
          },
          "execution_count": 47
        }
      ]
    },
    {
      "cell_type": "markdown",
      "metadata": {
        "id": "pj-I5dX5TuAG"
      },
      "source": [
        "Notice that all columns are in the right data types, except for `date`. The correct data type for this column would have to be a `datetime`. \n",
        "\n",
        "If our datetime data was stored in ISO format (YYYY-MM-DD) we can apply the same `astype('datetime64')` method. Or, another way to convert a column to a datetime is to use:\n",
        "\n",
        "    `x = pd.to_datetime(x)`\n",
        "    "
      ]
    },
    {
      "cell_type": "code",
      "metadata": {
        "id": "lUoOiE8LTuAG"
      },
      "source": [
        "# elec['date'].astype('datetime64')\n",
        "\n",
        "elec['date'] = pd.to_datetime(elec['date'])"
      ],
      "execution_count": null,
      "outputs": []
    },
    {
      "cell_type": "markdown",
      "metadata": {
        "id": "5GdxLJ3DTuAG"
      },
      "source": [
        "In fact, `pandas` has a number of machineries to work with `datetime` objects. These are convenient for when we need to extract the `month`, or `year`, or `weekday_name` from `datetime`. Some common applications in business analysis include:\n",
        "\n",
        "- `elec['date'].dt.month`\n",
        "- `elec['date'].dt.year`\n",
        "- `elec['date'].dt.day`\n",
        "- `elec['date'].dt.dayofweek`\n",
        "- `elec['date'].dt.hour`\n",
        "- `elec['date'].dt.weekday_name`"
      ]
    },
    {
      "cell_type": "markdown",
      "metadata": {
        "id": "JMGtP4ibTuAG"
      },
      "source": [
        "There are also other functions that can be helpful in certain situations. Supposed we want to transform the existing `datetime` column into values of periods we can use the `.to_period` method:\n",
        "\n",
        "- `elec['date'].dt.to_period('D')`\n",
        "- `elec['date'].dt.to_period('W')`\n",
        "- `elec['date'].dt.to_period('M')`\n",
        "- `elec['date'].dt.to_period('Q')`"
      ]
    },
    {
      "cell_type": "markdown",
      "metadata": {
        "id": "KoLhE9tiTuAH"
      },
      "source": [
        "For example, if we want to count how many sales records do we obtained within each quarter:"
      ]
    },
    {
      "cell_type": "code",
      "metadata": {
        "scrolled": false,
        "id": "ApbfIz1PTuAH",
        "colab": {
          "base_uri": "https://localhost:8080/"
        },
        "outputId": "29c4d132-6691-4b53-8784-9ef3ba3d791d"
      },
      "source": [
        "elec['date'].dt.to_period('Q').value_counts()"
      ],
      "execution_count": null,
      "outputs": [
        {
          "output_type": "execute_result",
          "data": {
            "text/plain": [
              "2017Q3    891\n",
              "2017Q4    520\n",
              "2018Q2    421\n",
              "2017Q2    269\n",
              "2017Q1    207\n",
              "2018Q1    186\n",
              "2018Q3     25\n",
              "Freq: Q-DEC, Name: date, dtype: int64"
            ]
          },
          "metadata": {
            "tags": []
          },
          "execution_count": 49
        }
      ]
    },
    {
      "cell_type": "markdown",
      "metadata": {
        "id": "tT4fu0vkTuAI"
      },
      "source": [
        "## DataFrame Exploratory Analysis Tools\n",
        "\n",
        "In simple words, exploratory data analysis (EDA) refers to the process of performing initial investigations on data, often with the objective of becoming familiar with certain characteristics of the data. This is usually done with the aid of summary statistics and simple graphical techniques that purposefully uncover the structure of our data.\n",
        "\n",
        "We'll start off by using some of the most convenient EDA tools conveniently built into `DataFrame`. Particularly, this is a summary of what we'll cover in common EDA workflows:\n",
        "\n",
        "- `.head()` and `.tail()`\n",
        "- `.describe()`\n",
        "- `.shape` and `.size`\n",
        "- `.axes`\n",
        "- `.dtypes`"
      ]
    },
    {
      "cell_type": "code",
      "metadata": {
        "scrolled": true,
        "id": "1G11riU3TuAI",
        "colab": {
          "base_uri": "https://localhost:8080/",
          "height": 297
        },
        "outputId": "376631f9-b615-4080-9b7b-2bdba779ecf5"
      },
      "source": [
        "elec.describe()"
      ],
      "execution_count": null,
      "outputs": [
        {
          "output_type": "execute_result",
          "data": {
            "text/html": [
              "<div>\n",
              "<style scoped>\n",
              "    .dataframe tbody tr th:only-of-type {\n",
              "        vertical-align: middle;\n",
              "    }\n",
              "\n",
              "    .dataframe tbody tr th {\n",
              "        vertical-align: top;\n",
              "    }\n",
              "\n",
              "    .dataframe thead th {\n",
              "        text-align: right;\n",
              "    }\n",
              "</style>\n",
              "<table border=\"1\" class=\"dataframe\">\n",
              "  <thead>\n",
              "    <tr style=\"text-align: right;\">\n",
              "      <th></th>\n",
              "      <th>product_id</th>\n",
              "      <th>quantity</th>\n",
              "    </tr>\n",
              "  </thead>\n",
              "  <tbody>\n",
              "    <tr>\n",
              "      <th>count</th>\n",
              "      <td>2519.000000</td>\n",
              "      <td>2519.000000</td>\n",
              "    </tr>\n",
              "    <tr>\n",
              "      <th>mean</th>\n",
              "      <td>38543.870584</td>\n",
              "      <td>1.154426</td>\n",
              "    </tr>\n",
              "    <tr>\n",
              "      <th>std</th>\n",
              "      <td>22545.966776</td>\n",
              "      <td>0.468605</td>\n",
              "    </tr>\n",
              "    <tr>\n",
              "      <th>min</th>\n",
              "      <td>366.000000</td>\n",
              "      <td>1.000000</td>\n",
              "    </tr>\n",
              "    <tr>\n",
              "      <th>25%</th>\n",
              "      <td>18956.000000</td>\n",
              "      <td>1.000000</td>\n",
              "    </tr>\n",
              "    <tr>\n",
              "      <th>50%</th>\n",
              "      <td>38926.000000</td>\n",
              "      <td>1.000000</td>\n",
              "    </tr>\n",
              "    <tr>\n",
              "      <th>75%</th>\n",
              "      <td>56249.000000</td>\n",
              "      <td>1.000000</td>\n",
              "    </tr>\n",
              "    <tr>\n",
              "      <th>max</th>\n",
              "      <td>81681.000000</td>\n",
              "      <td>6.000000</td>\n",
              "    </tr>\n",
              "  </tbody>\n",
              "</table>\n",
              "</div>"
            ],
            "text/plain": [
              "         product_id     quantity\n",
              "count   2519.000000  2519.000000\n",
              "mean   38543.870584     1.154426\n",
              "std    22545.966776     0.468605\n",
              "min      366.000000     1.000000\n",
              "25%    18956.000000     1.000000\n",
              "50%    38926.000000     1.000000\n",
              "75%    56249.000000     1.000000\n",
              "max    81681.000000     6.000000"
            ]
          },
          "metadata": {
            "tags": []
          },
          "execution_count": 55
        }
      ]
    },
    {
      "cell_type": "markdown",
      "metadata": {
        "id": "tEZgXS-NTuAI"
      },
      "source": [
        "The `describe()` method will generate descriptive statistics of our data, and by default include all numeric columns in our DataFrame. The code above calls `.describe()` on `elec`, from which there are two numeric columns. This method is an \"instruction\" to perform something (functions) associated with the object. We've seen earlier how to use `.head()` and `.tail()` on our DataFrame: these are also method calls!\n",
        "\n",
        "We can add an `include` parameter in the `.describe()` method call, which takes a list-like of dtypes to be included or `all` for all columns of the dataframe.\n",
        "\n",
        "Add a new cell below, calling `describe()` but only on columns of `object` and `datetime` types (`['object', 'datetime']`)."
      ]
    },
    {
      "cell_type": "code",
      "metadata": {
        "id": "ulS1PU30TuAI"
      },
      "source": [
        "## Your code below\n",
        "\n",
        "# -- Refer to solution key 2"
      ],
      "execution_count": null,
      "outputs": []
    },
    {
      "cell_type": "markdown",
      "metadata": {
        "id": "XaQ5swTrTuAJ"
      },
      "source": [
        "Very often, we also want to know the shape of our data - i.e. how many rows and columns are there in our DataFrame? \n",
        "\n",
        "Our DataFrame has attributes that we can use to answer those questions. An attribute is a value stored within an object that describe an aspect of the object's characteristic. In the following call, we are asking for the `.shape` and the `.size` attribute of our `elect` DataFrame.\n",
        "\n",
        "_Tip:_\n",
        "Unlike `describe()`, which is a method call; `shape` and `size` are **attributes** of our DataFrame - that means no function is evaluated; Only a value stored in the object's instance is looked up and returned."
      ]
    },
    {
      "cell_type": "code",
      "metadata": {
        "id": "bkfQyWAATuAJ",
        "outputId": "f72eb33a-524f-436c-c1fe-d590ef92519b"
      },
      "source": [
        "print(elec.shape)\n",
        "print(elec.size)"
      ],
      "execution_count": null,
      "outputs": [
        {
          "output_type": "stream",
          "text": [
            "(2519, 8)\n",
            "20152\n"
          ],
          "name": "stdout"
        }
      ]
    },
    {
      "cell_type": "markdown",
      "metadata": {
        "id": "BwUmhcgMTuAJ"
      },
      "source": [
        "`size` returns the number of elements in the `elec` DataFrame. Because we have 2,519 rows and 8 columns, the total number of elements would be a total of 28416. \n",
        "\n",
        "Use `.shape` on the `member` DataFrame we created earlier. From the resulting output, could you tell what would be the result of calling `member.size`?"
      ]
    },
    {
      "cell_type": "code",
      "metadata": {
        "id": "pCUu3XChTuAJ"
      },
      "source": [
        "## Your code below\n",
        "\n"
      ],
      "execution_count": null,
      "outputs": []
    },
    {
      "cell_type": "markdown",
      "metadata": {
        "id": "tIfskBuGTuAJ"
      },
      "source": [
        "One other attribute that is often useful is `.axes`, which return a list representing the axes of our DataFrame. Most likely, this would be a list of length 2, one for the row axis and one for the column axis, in that particular order.\n",
        "\n",
        "Because it is ordered that way, calling `.axes[0]` would return the first item of that list, which would be the row axis (or row names if present) and calling `.axes[1]` would return the column axis, which would be equivalent to calling `elec.columns`:"
      ]
    },
    {
      "cell_type": "code",
      "metadata": {
        "scrolled": false,
        "id": "LLPnE9bpTuAK",
        "outputId": "0b1e0498-21e0-430a-fcec-337c48248e94"
      },
      "source": [
        "elec.axes[1]"
      ],
      "execution_count": null,
      "outputs": [
        {
          "output_type": "execute_result",
          "data": {
            "text/plain": [
              "Index(['product_id', 'date', 'categories', 'brand', 'name', 'merchant',\n",
              "       'quantity', 'unit_price'],\n",
              "      dtype='object')"
            ]
          },
          "metadata": {
            "tags": []
          },
          "execution_count": 19
        }
      ]
    },
    {
      "cell_type": "markdown",
      "metadata": {
        "id": "sq4AcZpQTuAK"
      },
      "source": [
        "## Indexing and Subsetting with Pandas\n",
        "\n",
        "Using indexing operators to select, summarize or transform only a subset of data is a critical part of any data analysis workflow. Consider the following use-cases:\n",
        "\n",
        "- Compare the sales in Year 2018 vs Year 2019  \n",
        "- Identify missed opportunities in a specific market segment\n",
        "- Best quarter of the year to execute cross-selling promos / discounts\n",
        "- Study profitability of goods in the higher price range (e.g. IDR45000000+) and how competitors positioning affect sales in that price range\n",
        "\n",
        "Notice that in all of these use-cases, data analysts will want to use some combination of indexing and then perform the necessary computations on that specific slice or slices of data. Unsurprisingly, `pandas` come with a number of methods to help you accomplish this task.\n",
        "\n",
        "In the following section, we'll take a closer look at some of the most common slicing and subsetting operations in `pandas`:\n",
        "- `head()` and `tail()`  \n",
        "- `select_dtypes()`  \n",
        "- Using `.drop()` \n",
        "- The `[]` operator\n",
        "- `.loc`  \n",
        "- `.iloc`\n",
        "- Conditional subsetting"
      ]
    },
    {
      "cell_type": "markdown",
      "metadata": {
        "id": "zBC7qGh_TuAK"
      },
      "source": [
        "Say we're only really interested in the numeric columns of our data, we can use `select_dtypes` to selectively include or exclude only particular data types.\n",
        "\n",
        "In the following example, I use `select_dtypes` to _include_ only textual columns (`objects`) and then proceed to pass the output of this function call into `.head()`. Notice that when we chain two methods this way, the output of the first function call will be \"passed\" into the second function call: "
      ]
    },
    {
      "cell_type": "code",
      "metadata": {
        "id": "ZW6LnU8mTuAK",
        "colab": {
          "base_uri": "https://localhost:8080/",
          "height": 235
        },
        "outputId": "37d3a841-dd31-48c7-cfae-42243bd680ca"
      },
      "source": [
        "elec.select_dtypes(include = 'object').head()"
      ],
      "execution_count": null,
      "outputs": [
        {
          "output_type": "execute_result",
          "data": {
            "text/html": [
              "<div>\n",
              "<style scoped>\n",
              "    .dataframe tbody tr th:only-of-type {\n",
              "        vertical-align: middle;\n",
              "    }\n",
              "\n",
              "    .dataframe tbody tr th {\n",
              "        vertical-align: top;\n",
              "    }\n",
              "\n",
              "    .dataframe thead th {\n",
              "        text-align: right;\n",
              "    }\n",
              "</style>\n",
              "<table border=\"1\" class=\"dataframe\">\n",
              "  <thead>\n",
              "    <tr style=\"text-align: right;\">\n",
              "      <th></th>\n",
              "      <th>categories</th>\n",
              "      <th>brand</th>\n",
              "      <th>name</th>\n",
              "      <th>merchant</th>\n",
              "      <th>unit_price</th>\n",
              "    </tr>\n",
              "    <tr>\n",
              "      <th>id</th>\n",
              "      <th></th>\n",
              "      <th></th>\n",
              "      <th></th>\n",
              "      <th></th>\n",
              "      <th></th>\n",
              "    </tr>\n",
              "  </thead>\n",
              "  <tbody>\n",
              "    <tr>\n",
              "      <th>1</th>\n",
              "      <td>Camera &amp; Photo</td>\n",
              "      <td>Panasonic</td>\n",
              "      <td>Lumix G 25mm f/1.7 ASPH. Lens</td>\n",
              "      <td>Bestbuy.com</td>\n",
              "      <td>20199</td>\n",
              "    </tr>\n",
              "    <tr>\n",
              "      <th>2</th>\n",
              "      <td>Camera &amp; Photo</td>\n",
              "      <td>Sony</td>\n",
              "      <td>Cyber-shot DSC-WX220 Digital Camera (Black)</td>\n",
              "      <td>Bestbuy.com</td>\n",
              "      <td>15999</td>\n",
              "    </tr>\n",
              "    <tr>\n",
              "      <th>3</th>\n",
              "      <td>Camera &amp; Photo</td>\n",
              "      <td>Sony</td>\n",
              "      <td>Sony - BC-TRX Battery Charger - Black</td>\n",
              "      <td>Bestbuy.com</td>\n",
              "      <td>2699</td>\n",
              "    </tr>\n",
              "    <tr>\n",
              "      <th>6</th>\n",
              "      <td>Accessories &amp; Supplies</td>\n",
              "      <td>Insignia</td>\n",
              "      <td>Insignia - Fixed TV Wall Mount For Most 40-70\"...</td>\n",
              "      <td>Bestbuy.com</td>\n",
              "      <td>5699</td>\n",
              "    </tr>\n",
              "    <tr>\n",
              "      <th>7</th>\n",
              "      <td>Camera &amp; Photo</td>\n",
              "      <td>Sony</td>\n",
              "      <td>Cyber-shot DSC-RX100 V Digital Camera</td>\n",
              "      <td>Bestbuy.com</td>\n",
              "      <td>84999</td>\n",
              "    </tr>\n",
              "  </tbody>\n",
              "</table>\n",
              "</div>"
            ],
            "text/plain": [
              "                categories      brand  ...     merchant unit_price\n",
              "id                                     ...                        \n",
              "1           Camera & Photo  Panasonic  ...  Bestbuy.com      20199\n",
              "2           Camera & Photo       Sony  ...  Bestbuy.com      15999\n",
              "3           Camera & Photo       Sony  ...  Bestbuy.com       2699\n",
              "6   Accessories & Supplies   Insignia  ...  Bestbuy.com       5699\n",
              "7           Camera & Photo       Sony  ...  Bestbuy.com      84999\n",
              "\n",
              "[5 rows x 5 columns]"
            ]
          },
          "metadata": {
            "tags": []
          },
          "execution_count": 56
        }
      ]
    },
    {
      "cell_type": "markdown",
      "metadata": {
        "id": "mByLF5dJTuAK"
      },
      "source": [
        "Change the following code from `include` to `exclude` and observe the difference in the output from our `.describe()` call:"
      ]
    },
    {
      "cell_type": "code",
      "metadata": {
        "id": "4zfUu3RjTuAL",
        "outputId": "43646ae1-8f90-42c3-a2ce-0f95255d8e05"
      },
      "source": [
        "elec.select_dtypes(exclude='object').describe()"
      ],
      "execution_count": null,
      "outputs": [
        {
          "output_type": "execute_result",
          "data": {
            "text/html": [
              "<div>\n",
              "<style scoped>\n",
              "    .dataframe tbody tr th:only-of-type {\n",
              "        vertical-align: middle;\n",
              "    }\n",
              "\n",
              "    .dataframe tbody tr th {\n",
              "        vertical-align: top;\n",
              "    }\n",
              "\n",
              "    .dataframe thead th {\n",
              "        text-align: right;\n",
              "    }\n",
              "</style>\n",
              "<table border=\"1\" class=\"dataframe\">\n",
              "  <thead>\n",
              "    <tr style=\"text-align: right;\">\n",
              "      <th></th>\n",
              "      <th>product_id</th>\n",
              "      <th>quantity</th>\n",
              "      <th>unit_price</th>\n",
              "    </tr>\n",
              "  </thead>\n",
              "  <tbody>\n",
              "    <tr>\n",
              "      <th>count</th>\n",
              "      <td>2519.000000</td>\n",
              "      <td>2519.000000</td>\n",
              "      <td>2519.000000</td>\n",
              "    </tr>\n",
              "    <tr>\n",
              "      <th>mean</th>\n",
              "      <td>38543.870584</td>\n",
              "      <td>1.154426</td>\n",
              "      <td>568.362060</td>\n",
              "    </tr>\n",
              "    <tr>\n",
              "      <th>std</th>\n",
              "      <td>22545.966776</td>\n",
              "      <td>0.468605</td>\n",
              "      <td>620.874159</td>\n",
              "    </tr>\n",
              "    <tr>\n",
              "      <th>min</th>\n",
              "      <td>366.000000</td>\n",
              "      <td>1.000000</td>\n",
              "      <td>1.000000</td>\n",
              "    </tr>\n",
              "    <tr>\n",
              "      <th>25%</th>\n",
              "      <td>18956.000000</td>\n",
              "      <td>1.000000</td>\n",
              "      <td>149.990000</td>\n",
              "    </tr>\n",
              "    <tr>\n",
              "      <th>50%</th>\n",
              "      <td>38926.000000</td>\n",
              "      <td>1.000000</td>\n",
              "      <td>479.750000</td>\n",
              "    </tr>\n",
              "    <tr>\n",
              "      <th>75%</th>\n",
              "      <td>56249.000000</td>\n",
              "      <td>1.000000</td>\n",
              "      <td>548.000000</td>\n",
              "    </tr>\n",
              "    <tr>\n",
              "      <th>max</th>\n",
              "      <td>81681.000000</td>\n",
              "      <td>6.000000</td>\n",
              "      <td>4199.990000</td>\n",
              "    </tr>\n",
              "  </tbody>\n",
              "</table>\n",
              "</div>"
            ],
            "text/plain": [
              "         product_id     quantity   unit_price\n",
              "count   2519.000000  2519.000000  2519.000000\n",
              "mean   38543.870584     1.154426   568.362060\n",
              "std    22545.966776     0.468605   620.874159\n",
              "min      366.000000     1.000000     1.000000\n",
              "25%    18956.000000     1.000000   149.990000\n",
              "50%    38926.000000     1.000000   479.750000\n",
              "75%    56249.000000     1.000000   548.000000\n",
              "max    81681.000000     6.000000  4199.990000"
            ]
          },
          "metadata": {
            "tags": []
          },
          "execution_count": 21
        }
      ]
    },
    {
      "cell_type": "markdown",
      "metadata": {
        "id": "MKY6MtpSTuAL"
      },
      "source": [
        "You can also use `include` or `exclude` with a list of data types instead of a singular value. To include all columns of data types integer and float, we can do either of these:\n",
        "- `include='number'`  \n",
        "- `include=['int', 'float']`\n",
        "\n",
        "Try and do that now; Chain the `select_dtypes()` command with `.head()` to limit the output to only the first 5 rows:"
      ]
    },
    {
      "cell_type": "markdown",
      "metadata": {
        "id": "mrTkepRgTuAL"
      },
      "source": [
        "Apart from using `select_dtypes` to exclude columns, we can also use `.drop()` to remove rows or columns by label names and the corresponding axis. By default, the `axis` is assumed to be 0, i.e. referring to the row. Hence the following code will drop the **row** with label `1`: "
      ]
    },
    {
      "cell_type": "code",
      "metadata": {
        "id": "8h2sSuLWTuAL",
        "colab": {
          "base_uri": "https://localhost:8080/",
          "height": 388
        },
        "outputId": "21a6d4f8-c0ff-4bae-9123-8c2a49049f13"
      },
      "source": [
        "elec.drop(1).head()"
      ],
      "execution_count": null,
      "outputs": [
        {
          "output_type": "execute_result",
          "data": {
            "text/html": [
              "<div>\n",
              "<style scoped>\n",
              "    .dataframe tbody tr th:only-of-type {\n",
              "        vertical-align: middle;\n",
              "    }\n",
              "\n",
              "    .dataframe tbody tr th {\n",
              "        vertical-align: top;\n",
              "    }\n",
              "\n",
              "    .dataframe thead th {\n",
              "        text-align: right;\n",
              "    }\n",
              "</style>\n",
              "<table border=\"1\" class=\"dataframe\">\n",
              "  <thead>\n",
              "    <tr style=\"text-align: right;\">\n",
              "      <th></th>\n",
              "      <th>product_id</th>\n",
              "      <th>date</th>\n",
              "      <th>categories</th>\n",
              "      <th>brand</th>\n",
              "      <th>name</th>\n",
              "      <th>merchant</th>\n",
              "      <th>quantity</th>\n",
              "      <th>unit_price</th>\n",
              "    </tr>\n",
              "    <tr>\n",
              "      <th>id</th>\n",
              "      <th></th>\n",
              "      <th></th>\n",
              "      <th></th>\n",
              "      <th></th>\n",
              "      <th></th>\n",
              "      <th></th>\n",
              "      <th></th>\n",
              "      <th></th>\n",
              "    </tr>\n",
              "  </thead>\n",
              "  <tbody>\n",
              "    <tr>\n",
              "      <th>2</th>\n",
              "      <td>46876</td>\n",
              "      <td>2017-03-02</td>\n",
              "      <td>Camera &amp; Photo</td>\n",
              "      <td>Sony</td>\n",
              "      <td>Cyber-shot DSC-WX220 Digital Camera (Black)</td>\n",
              "      <td>Bestbuy.com</td>\n",
              "      <td>1</td>\n",
              "      <td>15999</td>\n",
              "    </tr>\n",
              "    <tr>\n",
              "      <th>3</th>\n",
              "      <td>12136</td>\n",
              "      <td>2017-03-02</td>\n",
              "      <td>Camera &amp; Photo</td>\n",
              "      <td>Sony</td>\n",
              "      <td>Sony - BC-TRX Battery Charger - Black</td>\n",
              "      <td>Bestbuy.com</td>\n",
              "      <td>1</td>\n",
              "      <td>2699</td>\n",
              "    </tr>\n",
              "    <tr>\n",
              "      <th>6</th>\n",
              "      <td>79238</td>\n",
              "      <td>2017-03-03</td>\n",
              "      <td>Accessories &amp; Supplies</td>\n",
              "      <td>Insignia</td>\n",
              "      <td>Insignia - Fixed TV Wall Mount For Most 40-70\"...</td>\n",
              "      <td>Bestbuy.com</td>\n",
              "      <td>1</td>\n",
              "      <td>5699</td>\n",
              "    </tr>\n",
              "    <tr>\n",
              "      <th>7</th>\n",
              "      <td>46643</td>\n",
              "      <td>2017-03-03</td>\n",
              "      <td>Camera &amp; Photo</td>\n",
              "      <td>Sony</td>\n",
              "      <td>Cyber-shot DSC-RX100 V Digital Camera</td>\n",
              "      <td>Bestbuy.com</td>\n",
              "      <td>1</td>\n",
              "      <td>84999</td>\n",
              "    </tr>\n",
              "    <tr>\n",
              "      <th>8</th>\n",
              "      <td>9472</td>\n",
              "      <td>2017-03-03</td>\n",
              "      <td>Camera &amp; Photo</td>\n",
              "      <td>Yamaha</td>\n",
              "      <td>R-S202 Stereo Receiver with Bluetooth (Black)</td>\n",
              "      <td>Bestbuy.com</td>\n",
              "      <td>1</td>\n",
              "      <td>12599</td>\n",
              "    </tr>\n",
              "  </tbody>\n",
              "</table>\n",
              "</div>"
            ],
            "text/plain": [
              "    product_id       date  ... quantity unit_price\n",
              "id                         ...                    \n",
              "2        46876 2017-03-02  ...        1      15999\n",
              "3        12136 2017-03-02  ...        1       2699\n",
              "6        79238 2017-03-03  ...        1       5699\n",
              "7        46643 2017-03-03  ...        1      84999\n",
              "8         9472 2017-03-03  ...        1      12599\n",
              "\n",
              "[5 rows x 8 columns]"
            ]
          },
          "metadata": {
            "tags": []
          },
          "execution_count": 57
        }
      ]
    },
    {
      "cell_type": "markdown",
      "metadata": {
        "id": "YV-RzNm3TuAM"
      },
      "source": [
        "We can drop multiple rows or columns by passing in a list. In the following code, we override the default `axis` value by passing `axis=1`; As a result `pandas` will drop the specified columns, while preserving all rows:"
      ]
    },
    {
      "cell_type": "code",
      "metadata": {
        "id": "BJ9yps9ATuAM",
        "outputId": "b5e651b5-1941-450e-c48d-c732b57c40a2"
      },
      "source": [
        "elec.drop(['product_id', 'brand', 'name'],axis = 1).head()"
      ],
      "execution_count": null,
      "outputs": [
        {
          "output_type": "execute_result",
          "data": {
            "text/html": [
              "<div>\n",
              "<style scoped>\n",
              "    .dataframe tbody tr th:only-of-type {\n",
              "        vertical-align: middle;\n",
              "    }\n",
              "\n",
              "    .dataframe tbody tr th {\n",
              "        vertical-align: top;\n",
              "    }\n",
              "\n",
              "    .dataframe thead th {\n",
              "        text-align: right;\n",
              "    }\n",
              "</style>\n",
              "<table border=\"1\" class=\"dataframe\">\n",
              "  <thead>\n",
              "    <tr style=\"text-align: right;\">\n",
              "      <th></th>\n",
              "      <th>date</th>\n",
              "      <th>categories</th>\n",
              "      <th>merchant</th>\n",
              "      <th>quantity</th>\n",
              "      <th>unit_price</th>\n",
              "    </tr>\n",
              "    <tr>\n",
              "      <th>id</th>\n",
              "      <th></th>\n",
              "      <th></th>\n",
              "      <th></th>\n",
              "      <th></th>\n",
              "      <th></th>\n",
              "    </tr>\n",
              "  </thead>\n",
              "  <tbody>\n",
              "    <tr>\n",
              "      <th>1</th>\n",
              "      <td>2017-03-02</td>\n",
              "      <td>Camera &amp; Photo</td>\n",
              "      <td>Bestbuy.com</td>\n",
              "      <td>1</td>\n",
              "      <td>201.99</td>\n",
              "    </tr>\n",
              "    <tr>\n",
              "      <th>2</th>\n",
              "      <td>2017-03-02</td>\n",
              "      <td>Camera &amp; Photo</td>\n",
              "      <td>Bestbuy.com</td>\n",
              "      <td>1</td>\n",
              "      <td>159.99</td>\n",
              "    </tr>\n",
              "    <tr>\n",
              "      <th>3</th>\n",
              "      <td>2017-03-02</td>\n",
              "      <td>Camera &amp; Photo</td>\n",
              "      <td>Bestbuy.com</td>\n",
              "      <td>1</td>\n",
              "      <td>26.99</td>\n",
              "    </tr>\n",
              "    <tr>\n",
              "      <th>6</th>\n",
              "      <td>2017-03-03</td>\n",
              "      <td>Accessories &amp; Supplies</td>\n",
              "      <td>Bestbuy.com</td>\n",
              "      <td>1</td>\n",
              "      <td>56.99</td>\n",
              "    </tr>\n",
              "    <tr>\n",
              "      <th>7</th>\n",
              "      <td>2017-03-03</td>\n",
              "      <td>Camera &amp; Photo</td>\n",
              "      <td>Bestbuy.com</td>\n",
              "      <td>1</td>\n",
              "      <td>849.99</td>\n",
              "    </tr>\n",
              "  </tbody>\n",
              "</table>\n",
              "</div>"
            ],
            "text/plain": [
              "         date              categories     merchant  quantity  unit_price\n",
              "id                                                                      \n",
              "1  2017-03-02          Camera & Photo  Bestbuy.com         1      201.99\n",
              "2  2017-03-02          Camera & Photo  Bestbuy.com         1      159.99\n",
              "3  2017-03-02          Camera & Photo  Bestbuy.com         1       26.99\n",
              "6  2017-03-03  Accessories & Supplies  Bestbuy.com         1       56.99\n",
              "7  2017-03-03          Camera & Photo  Bestbuy.com         1      849.99"
            ]
          },
          "metadata": {
            "tags": []
          },
          "execution_count": 23
        }
      ]
    },
    {
      "cell_type": "markdown",
      "metadata": {
        "id": "FU32vO3STuAM"
      },
      "source": [
        "Rather commonly, you may want to perform subsetting by slicing out a set of rows. This can be done using the `elec[start:end]` syntax, where `start` is inclusive.\n",
        "\n",
        "The code follows slices out the first to fourth row, or equivalently, row with the index 0, 1, 2, and 3. "
      ]
    },
    {
      "cell_type": "code",
      "metadata": {
        "id": "_EcXI_uMTuAM",
        "colab": {
          "base_uri": "https://localhost:8080/",
          "height": 323
        },
        "outputId": "2a74982d-dd88-4bbd-f749-fe2ef18b29fe"
      },
      "source": [
        "elec[0:4]"
      ],
      "execution_count": null,
      "outputs": [
        {
          "output_type": "execute_result",
          "data": {
            "text/html": [
              "<div>\n",
              "<style scoped>\n",
              "    .dataframe tbody tr th:only-of-type {\n",
              "        vertical-align: middle;\n",
              "    }\n",
              "\n",
              "    .dataframe tbody tr th {\n",
              "        vertical-align: top;\n",
              "    }\n",
              "\n",
              "    .dataframe thead th {\n",
              "        text-align: right;\n",
              "    }\n",
              "</style>\n",
              "<table border=\"1\" class=\"dataframe\">\n",
              "  <thead>\n",
              "    <tr style=\"text-align: right;\">\n",
              "      <th></th>\n",
              "      <th>product_id</th>\n",
              "      <th>date</th>\n",
              "      <th>categories</th>\n",
              "      <th>brand</th>\n",
              "      <th>name</th>\n",
              "      <th>merchant</th>\n",
              "      <th>quantity</th>\n",
              "      <th>unit_price</th>\n",
              "    </tr>\n",
              "    <tr>\n",
              "      <th>id</th>\n",
              "      <th></th>\n",
              "      <th></th>\n",
              "      <th></th>\n",
              "      <th></th>\n",
              "      <th></th>\n",
              "      <th></th>\n",
              "      <th></th>\n",
              "      <th></th>\n",
              "    </tr>\n",
              "  </thead>\n",
              "  <tbody>\n",
              "    <tr>\n",
              "      <th>1</th>\n",
              "      <td>44342</td>\n",
              "      <td>2017-03-02</td>\n",
              "      <td>Camera &amp; Photo</td>\n",
              "      <td>Panasonic</td>\n",
              "      <td>Lumix G 25mm f/1.7 ASPH. Lens</td>\n",
              "      <td>Bestbuy.com</td>\n",
              "      <td>1</td>\n",
              "      <td>20199</td>\n",
              "    </tr>\n",
              "    <tr>\n",
              "      <th>2</th>\n",
              "      <td>46876</td>\n",
              "      <td>2017-03-02</td>\n",
              "      <td>Camera &amp; Photo</td>\n",
              "      <td>Sony</td>\n",
              "      <td>Cyber-shot DSC-WX220 Digital Camera (Black)</td>\n",
              "      <td>Bestbuy.com</td>\n",
              "      <td>1</td>\n",
              "      <td>15999</td>\n",
              "    </tr>\n",
              "    <tr>\n",
              "      <th>3</th>\n",
              "      <td>12136</td>\n",
              "      <td>2017-03-02</td>\n",
              "      <td>Camera &amp; Photo</td>\n",
              "      <td>Sony</td>\n",
              "      <td>Sony - BC-TRX Battery Charger - Black</td>\n",
              "      <td>Bestbuy.com</td>\n",
              "      <td>1</td>\n",
              "      <td>2699</td>\n",
              "    </tr>\n",
              "    <tr>\n",
              "      <th>6</th>\n",
              "      <td>79238</td>\n",
              "      <td>2017-03-03</td>\n",
              "      <td>Accessories &amp; Supplies</td>\n",
              "      <td>Insignia</td>\n",
              "      <td>Insignia - Fixed TV Wall Mount For Most 40-70\"...</td>\n",
              "      <td>Bestbuy.com</td>\n",
              "      <td>1</td>\n",
              "      <td>5699</td>\n",
              "    </tr>\n",
              "  </tbody>\n",
              "</table>\n",
              "</div>"
            ],
            "text/plain": [
              "    product_id       date  ... quantity unit_price\n",
              "id                         ...                    \n",
              "1        44342 2017-03-02  ...        1      20199\n",
              "2        46876 2017-03-02  ...        1      15999\n",
              "3        12136 2017-03-02  ...        1       2699\n",
              "6        79238 2017-03-03  ...        1       5699\n",
              "\n",
              "[4 rows x 8 columns]"
            ]
          },
          "metadata": {
            "tags": []
          },
          "execution_count": 58
        }
      ]
    },
    {
      "cell_type": "markdown",
      "metadata": {
        "id": "XeaGsiFiTuAM"
      },
      "source": [
        "Recalling that the `end` is not inclusive and Python's 0-based indexing behavior, if we have wanted to subset the **8th to 12th** row of our data, how would we have done it instead? Pick the right answer and try it in a new code cell below.\n",
        "\n",
        "- [ ] `elec[7:12]`\n",
        "- [ ] `elec[8:12]`\n",
        "- [ ] `elec[7:13]`\n",
        "- [ ] `elec[8:13]`"
      ]
    },
    {
      "cell_type": "markdown",
      "metadata": {
        "id": "pcfpUgMUTuAN"
      },
      "source": [
        "Using `.loc` and `.iloc`, we can perform slicing on both the row and column indices, offering us even greater flexibility and control over our subsetting operations.\n",
        "\n",
        "`.iloc` requires us to pass an `integer` to either the row or/and column. We can also use `:` to indicate no subsetting in a certain direction. The following code slices out the first 4 rows but take all columns (pay attention to the use of the `:` operator): "
      ]
    },
    {
      "cell_type": "code",
      "metadata": {
        "id": "ur5GCO-PTuAN",
        "colab": {
          "base_uri": "https://localhost:8080/",
          "height": 323
        },
        "outputId": "09b812e7-6f8c-4690-8c26-b9d559bff745"
      },
      "source": [
        "elec.iloc[0:4, :]"
      ],
      "execution_count": null,
      "outputs": [
        {
          "output_type": "execute_result",
          "data": {
            "text/html": [
              "<div>\n",
              "<style scoped>\n",
              "    .dataframe tbody tr th:only-of-type {\n",
              "        vertical-align: middle;\n",
              "    }\n",
              "\n",
              "    .dataframe tbody tr th {\n",
              "        vertical-align: top;\n",
              "    }\n",
              "\n",
              "    .dataframe thead th {\n",
              "        text-align: right;\n",
              "    }\n",
              "</style>\n",
              "<table border=\"1\" class=\"dataframe\">\n",
              "  <thead>\n",
              "    <tr style=\"text-align: right;\">\n",
              "      <th></th>\n",
              "      <th>product_id</th>\n",
              "      <th>date</th>\n",
              "      <th>categories</th>\n",
              "      <th>brand</th>\n",
              "      <th>name</th>\n",
              "      <th>merchant</th>\n",
              "      <th>quantity</th>\n",
              "      <th>unit_price</th>\n",
              "    </tr>\n",
              "    <tr>\n",
              "      <th>id</th>\n",
              "      <th></th>\n",
              "      <th></th>\n",
              "      <th></th>\n",
              "      <th></th>\n",
              "      <th></th>\n",
              "      <th></th>\n",
              "      <th></th>\n",
              "      <th></th>\n",
              "    </tr>\n",
              "  </thead>\n",
              "  <tbody>\n",
              "    <tr>\n",
              "      <th>1</th>\n",
              "      <td>44342</td>\n",
              "      <td>2017-03-02</td>\n",
              "      <td>Camera &amp; Photo</td>\n",
              "      <td>Panasonic</td>\n",
              "      <td>Lumix G 25mm f/1.7 ASPH. Lens</td>\n",
              "      <td>Bestbuy.com</td>\n",
              "      <td>1</td>\n",
              "      <td>20199</td>\n",
              "    </tr>\n",
              "    <tr>\n",
              "      <th>2</th>\n",
              "      <td>46876</td>\n",
              "      <td>2017-03-02</td>\n",
              "      <td>Camera &amp; Photo</td>\n",
              "      <td>Sony</td>\n",
              "      <td>Cyber-shot DSC-WX220 Digital Camera (Black)</td>\n",
              "      <td>Bestbuy.com</td>\n",
              "      <td>1</td>\n",
              "      <td>15999</td>\n",
              "    </tr>\n",
              "    <tr>\n",
              "      <th>3</th>\n",
              "      <td>12136</td>\n",
              "      <td>2017-03-02</td>\n",
              "      <td>Camera &amp; Photo</td>\n",
              "      <td>Sony</td>\n",
              "      <td>Sony - BC-TRX Battery Charger - Black</td>\n",
              "      <td>Bestbuy.com</td>\n",
              "      <td>1</td>\n",
              "      <td>2699</td>\n",
              "    </tr>\n",
              "    <tr>\n",
              "      <th>6</th>\n",
              "      <td>79238</td>\n",
              "      <td>2017-03-03</td>\n",
              "      <td>Accessories &amp; Supplies</td>\n",
              "      <td>Insignia</td>\n",
              "      <td>Insignia - Fixed TV Wall Mount For Most 40-70\"...</td>\n",
              "      <td>Bestbuy.com</td>\n",
              "      <td>1</td>\n",
              "      <td>5699</td>\n",
              "    </tr>\n",
              "  </tbody>\n",
              "</table>\n",
              "</div>"
            ],
            "text/plain": [
              "    product_id       date  ... quantity unit_price\n",
              "id                         ...                    \n",
              "1        44342 2017-03-02  ...        1      20199\n",
              "2        46876 2017-03-02  ...        1      15999\n",
              "3        12136 2017-03-02  ...        1       2699\n",
              "6        79238 2017-03-03  ...        1       5699\n",
              "\n",
              "[4 rows x 8 columns]"
            ]
          },
          "metadata": {
            "tags": []
          },
          "execution_count": 59
        }
      ]
    },
    {
      "cell_type": "markdown",
      "metadata": {
        "id": "KvcbeK_8TuAN"
      },
      "source": [
        "`.loc`, in contrast to `.iloc` does not subset based on _integer_ but rather subset based on `label`. We can still use `integer` but our integers will be treated or interpreted as _labels_.\n",
        "\n",
        "Say, we're now wanted to use the `product_id` as the row labels:"
      ]
    },
    {
      "cell_type": "code",
      "metadata": {
        "scrolled": true,
        "id": "3Yluy2QCTuAN",
        "colab": {
          "base_uri": "https://localhost:8080/",
          "height": 320
        },
        "outputId": "781c762c-4b74-4a29-e1aa-608a17f93fc1"
      },
      "source": [
        "product = elec.set_index('product_id')\n",
        "\n",
        "product.head()"
      ],
      "execution_count": null,
      "outputs": [
        {
          "output_type": "execute_result",
          "data": {
            "text/html": [
              "<div>\n",
              "<style scoped>\n",
              "    .dataframe tbody tr th:only-of-type {\n",
              "        vertical-align: middle;\n",
              "    }\n",
              "\n",
              "    .dataframe tbody tr th {\n",
              "        vertical-align: top;\n",
              "    }\n",
              "\n",
              "    .dataframe thead th {\n",
              "        text-align: right;\n",
              "    }\n",
              "</style>\n",
              "<table border=\"1\" class=\"dataframe\">\n",
              "  <thead>\n",
              "    <tr style=\"text-align: right;\">\n",
              "      <th></th>\n",
              "      <th>date</th>\n",
              "      <th>categories</th>\n",
              "      <th>brand</th>\n",
              "      <th>name</th>\n",
              "      <th>merchant</th>\n",
              "      <th>quantity</th>\n",
              "      <th>unit_price</th>\n",
              "    </tr>\n",
              "    <tr>\n",
              "      <th>product_id</th>\n",
              "      <th></th>\n",
              "      <th></th>\n",
              "      <th></th>\n",
              "      <th></th>\n",
              "      <th></th>\n",
              "      <th></th>\n",
              "      <th></th>\n",
              "    </tr>\n",
              "  </thead>\n",
              "  <tbody>\n",
              "    <tr>\n",
              "      <th>44342</th>\n",
              "      <td>2017-03-02</td>\n",
              "      <td>Camera &amp; Photo</td>\n",
              "      <td>Panasonic</td>\n",
              "      <td>Lumix G 25mm f/1.7 ASPH. Lens</td>\n",
              "      <td>Bestbuy.com</td>\n",
              "      <td>1</td>\n",
              "      <td>20199</td>\n",
              "    </tr>\n",
              "    <tr>\n",
              "      <th>46876</th>\n",
              "      <td>2017-03-02</td>\n",
              "      <td>Camera &amp; Photo</td>\n",
              "      <td>Sony</td>\n",
              "      <td>Cyber-shot DSC-WX220 Digital Camera (Black)</td>\n",
              "      <td>Bestbuy.com</td>\n",
              "      <td>1</td>\n",
              "      <td>15999</td>\n",
              "    </tr>\n",
              "    <tr>\n",
              "      <th>12136</th>\n",
              "      <td>2017-03-02</td>\n",
              "      <td>Camera &amp; Photo</td>\n",
              "      <td>Sony</td>\n",
              "      <td>Sony - BC-TRX Battery Charger - Black</td>\n",
              "      <td>Bestbuy.com</td>\n",
              "      <td>1</td>\n",
              "      <td>2699</td>\n",
              "    </tr>\n",
              "    <tr>\n",
              "      <th>79238</th>\n",
              "      <td>2017-03-03</td>\n",
              "      <td>Accessories &amp; Supplies</td>\n",
              "      <td>Insignia</td>\n",
              "      <td>Insignia - Fixed TV Wall Mount For Most 40-70\"...</td>\n",
              "      <td>Bestbuy.com</td>\n",
              "      <td>1</td>\n",
              "      <td>5699</td>\n",
              "    </tr>\n",
              "    <tr>\n",
              "      <th>46643</th>\n",
              "      <td>2017-03-03</td>\n",
              "      <td>Camera &amp; Photo</td>\n",
              "      <td>Sony</td>\n",
              "      <td>Cyber-shot DSC-RX100 V Digital Camera</td>\n",
              "      <td>Bestbuy.com</td>\n",
              "      <td>1</td>\n",
              "      <td>84999</td>\n",
              "    </tr>\n",
              "  </tbody>\n",
              "</table>\n",
              "</div>"
            ],
            "text/plain": [
              "                 date              categories  ... quantity unit_price\n",
              "product_id                                     ...                    \n",
              "44342      2017-03-02          Camera & Photo  ...        1      20199\n",
              "46876      2017-03-02          Camera & Photo  ...        1      15999\n",
              "12136      2017-03-02          Camera & Photo  ...        1       2699\n",
              "79238      2017-03-03  Accessories & Supplies  ...        1       5699\n",
              "46643      2017-03-03          Camera & Photo  ...        1      84999\n",
              "\n",
              "[5 rows x 7 columns]"
            ]
          },
          "metadata": {
            "tags": []
          },
          "execution_count": 61
        }
      ]
    },
    {
      "cell_type": "markdown",
      "metadata": {
        "id": "r0LERP_wTuAN"
      },
      "source": [
        "To subset for the row of transactions corresponding to product id 62320, we can use label-based indexing (`.loc`) as such:"
      ]
    },
    {
      "cell_type": "code",
      "metadata": {
        "id": "85TmxgqFTuAO",
        "colab": {
          "base_uri": "https://localhost:8080/"
        },
        "outputId": "24c016af-d682-4a79-b614-f4dd12a61455"
      },
      "source": [
        "product.loc[70524, :]"
      ],
      "execution_count": null,
      "outputs": [
        {
          "output_type": "execute_result",
          "data": {
            "text/plain": [
              "product_id\n",
              "44342    Camera & Photo\n",
              "44342    Camera & Photo\n",
              "44342    Camera & Photo\n",
              "44342    Camera & Photo\n",
              "44342    Camera & Photo\n",
              "44342    Camera & Photo\n",
              "44342    Camera & Photo\n",
              "44342    Camera & Photo\n",
              "44342    Camera & Photo\n",
              "44342    Camera & Photo\n",
              "44342    Camera & Photo\n",
              "44342    Camera & Photo\n",
              "44342    Camera & Photo\n",
              "44342    Camera & Photo\n",
              "44342    Camera & Photo\n",
              "44342    Camera & Photo\n",
              "44342    Camera & Photo\n",
              "Name: categories, dtype: object"
            ]
          },
          "metadata": {
            "tags": []
          },
          "execution_count": 70
        }
      ]
    },
    {
      "cell_type": "markdown",
      "metadata": {
        "id": "NTN9zpQATuAO"
      },
      "source": [
        "### pandas Conditional Subsetting\n",
        "\n",
        "Along with `.iloc` and `.loc`, probably the most helpful type of subsetting would have to be conditional subsetting.\n",
        "\n",
        "With conditional subsetting, we select data based on criteria we specified:\n",
        "- `.categories == 'Home Audio'` to select all transactions where format is Home Audio  \n",
        "- `.unit_price >= 200` to select all transactions with unit price being equal to or greater than 200 USD. \n",
        "- `.quantity != 1` to select all transactions where quantity of purchase **is not** 1   \n",
        "\n",
        "We can also use the `&` and `|` operators to join conditions.\n",
        "\n",
        "For example:\n",
        "\n",
        "`elec[(elec.categories == 'Home Audio') | (elec.categories == 'TV & Video')]` subset any rows where the category is either `Home Audio` or `TV & Video`."
      ]
    },
    {
      "cell_type": "code",
      "metadata": {
        "id": "cnTJSqxSTuAO",
        "outputId": "842d7cae-d83b-4040-8975-717aad11dd3a"
      },
      "source": [
        "elec[(elec.categories == 'Home Audio') | (elec.categories == 'TV & Video')].tail()"
      ],
      "execution_count": null,
      "outputs": [
        {
          "output_type": "execute_result",
          "data": {
            "text/html": [
              "<div>\n",
              "<style scoped>\n",
              "    .dataframe tbody tr th:only-of-type {\n",
              "        vertical-align: middle;\n",
              "    }\n",
              "\n",
              "    .dataframe tbody tr th {\n",
              "        vertical-align: top;\n",
              "    }\n",
              "\n",
              "    .dataframe thead th {\n",
              "        text-align: right;\n",
              "    }\n",
              "</style>\n",
              "<table border=\"1\" class=\"dataframe\">\n",
              "  <thead>\n",
              "    <tr style=\"text-align: right;\">\n",
              "      <th></th>\n",
              "      <th>product_id</th>\n",
              "      <th>date</th>\n",
              "      <th>categories</th>\n",
              "      <th>brand</th>\n",
              "      <th>name</th>\n",
              "      <th>merchant</th>\n",
              "      <th>quantity</th>\n",
              "      <th>unit_price</th>\n",
              "    </tr>\n",
              "    <tr>\n",
              "      <th>id</th>\n",
              "      <th></th>\n",
              "      <th></th>\n",
              "      <th></th>\n",
              "      <th></th>\n",
              "      <th></th>\n",
              "      <th></th>\n",
              "      <th></th>\n",
              "      <th></th>\n",
              "    </tr>\n",
              "  </thead>\n",
              "  <tbody>\n",
              "    <tr>\n",
              "      <th>3547</th>\n",
              "      <td>570</td>\n",
              "      <td>2018-07-25</td>\n",
              "      <td>Home Audio</td>\n",
              "      <td>Yamaha</td>\n",
              "      <td>CD-C600 5-Disc CD Changer</td>\n",
              "      <td>bhphotovideo.com</td>\n",
              "      <td>1</td>\n",
              "      <td>329.95</td>\n",
              "    </tr>\n",
              "    <tr>\n",
              "      <th>3548</th>\n",
              "      <td>57594</td>\n",
              "      <td>2018-07-25</td>\n",
              "      <td>Home Audio</td>\n",
              "      <td>Yamaha</td>\n",
              "      <td>CRX-322 CD Receiver</td>\n",
              "      <td>bhphotovideo.com</td>\n",
              "      <td>1</td>\n",
              "      <td>249.95</td>\n",
              "    </tr>\n",
              "    <tr>\n",
              "      <th>3549</th>\n",
              "      <td>9246</td>\n",
              "      <td>2018-07-25</td>\n",
              "      <td>Home Audio</td>\n",
              "      <td>Yamaha</td>\n",
              "      <td>NS-IW480CWH In-Ceiling 8 Natural Sound Three-W...</td>\n",
              "      <td>bhphotovideo.com</td>\n",
              "      <td>1</td>\n",
              "      <td>179.95</td>\n",
              "    </tr>\n",
              "    <tr>\n",
              "      <th>3550</th>\n",
              "      <td>70524</td>\n",
              "      <td>2018-07-25</td>\n",
              "      <td>Home Audio</td>\n",
              "      <td>Yamaha</td>\n",
              "      <td>NS-SP1800BL 5.1-Channel Home Theater System (B...</td>\n",
              "      <td>bhphotovideo.com</td>\n",
              "      <td>1</td>\n",
              "      <td>149.95</td>\n",
              "    </tr>\n",
              "    <tr>\n",
              "      <th>3552</th>\n",
              "      <td>22214</td>\n",
              "      <td>2018-07-25</td>\n",
              "      <td>TV &amp; Video</td>\n",
              "      <td>Sony</td>\n",
              "      <td>W650D-Series 48-Class Full HD Smart LED TV</td>\n",
              "      <td>bhphotovideo.com</td>\n",
              "      <td>1</td>\n",
              "      <td>448.00</td>\n",
              "    </tr>\n",
              "  </tbody>\n",
              "</table>\n",
              "</div>"
            ],
            "text/plain": [
              "      product_id       date  categories   brand  \\\n",
              "id                                                \n",
              "3547         570 2018-07-25  Home Audio  Yamaha   \n",
              "3548       57594 2018-07-25  Home Audio  Yamaha   \n",
              "3549        9246 2018-07-25  Home Audio  Yamaha   \n",
              "3550       70524 2018-07-25  Home Audio  Yamaha   \n",
              "3552       22214 2018-07-25  TV & Video    Sony   \n",
              "\n",
              "                                                   name          merchant  \\\n",
              "id                                                                          \n",
              "3547                          CD-C600 5-Disc CD Changer  bhphotovideo.com   \n",
              "3548                                CRX-322 CD Receiver  bhphotovideo.com   \n",
              "3549  NS-IW480CWH In-Ceiling 8 Natural Sound Three-W...  bhphotovideo.com   \n",
              "3550  NS-SP1800BL 5.1-Channel Home Theater System (B...  bhphotovideo.com   \n",
              "3552         W650D-Series 48-Class Full HD Smart LED TV  bhphotovideo.com   \n",
              "\n",
              "      quantity  unit_price  \n",
              "id                          \n",
              "3547         1      329.95  \n",
              "3548         1      249.95  \n",
              "3549         1      179.95  \n",
              "3550         1      149.95  \n",
              "3552         1      448.00  "
            ]
          },
          "metadata": {
            "tags": []
          },
          "execution_count": 28
        }
      ]
    },
    {
      "cell_type": "markdown",
      "metadata": {
        "id": "x48IfTfVTuAO"
      },
      "source": [
        "**Discussion:**\n",
        "\n",
        "In the cell below, write code using conditional subsetting and answer the following questions:\n",
        "\n",
        "1. Say on May 26 last year, we're holding a one-day only big sale promotion. How many purchases do we have?\n",
        "2. On that day, how many transactions do we have from `Computers & Accessories`?\n",
        "3. From all transactions in our dataset, how many transactions came from `Walmart.com`?\n",
        "\n",
        "_Tip_: You may find the `.shape` attribute convenient in extracting the number of rows / columns from a dataframe"
      ]
    },
    {
      "cell_type": "code",
      "metadata": {
        "id": "oQP4oql4TuAP"
      },
      "source": [
        "## Your code below\n",
        "\n",
        "\n",
        "# -- Refer to solution key 2"
      ],
      "execution_count": null,
      "outputs": []
    },
    {
      "cell_type": "markdown",
      "metadata": {
        "id": "3xQw5zzxTuAP"
      },
      "source": [
        "----\n",
        "\n",
        "# Data Preparation and Exploration\n",
        "\n",
        "About 60 years ago, John Tukey defined data analysis as the \"procedures for analyzing data, techniques for interpreting the results of such procedures ... and all the machinery of mathematical statistics which apply to analyzing data\". His championing of EDA encouraged the development of statsitical computing packages, especially S at Bell Labs (which later inspired R).\n",
        "\n",
        "He wrote a book titled _Exploratory Data Analysis_ arguing that too much emphasis in statistics was placed on hypothesis testing (confirmatory data analysis) while not enough was placed on the discovery of the unexpected. \n",
        "\n",
        "> Exploratory data analysis isolates patterns and features of the data and reveals these forcefully to the analyst.\n",
        "\n",
        "This course aims to present a selection of EDA techniques -- some developed by John Tukey himself -- but with a special emphasis on its application to modern business analytics.\n",
        "\n",
        "In the following chapters, we'll expand our EDA toolset with the following additions:  \n",
        "\n",
        "- Tables\n",
        "- Cross-Tables and Aggregates\n",
        "- Using `aggfunc` for aggregate functions\n",
        "- Pivot Tables\n"
      ]
    },
    {
      "cell_type": "markdown",
      "metadata": {
        "id": "VVa82naWTuAP"
      },
      "source": [
        "In this section, we're going to work with `clothing_review.csv`. It is a women’s clothing e-commerce dataset revolving around the reviews written by customers. This dataset includes 23,486 rows and 9 feature variables. Each row corresponds to a customer review, and includes the variables:\n",
        "\n",
        "- `clothing_id`: refers to the specific piece being reviewed.\n",
        "- `age_group`: categorical variable of the reviewers age group.\n",
        "- `review_text`: string variable for the title of the review.\n",
        "- `rating`: integer variable for the product score granted by the customer from 1 Worst, to 5 Best.\n",
        "- `recommended_ind`: binary variable stating where the customer recommends the product where 1 is recommended, 0 is not recommended.\n",
        "- `positive_feedback_count`: positive integer documenting the number of other customers who found this review positive.\n",
        "- `division_name`: categorical name of the product high level division.\n",
        "- `category`: categorical name of the product category.\n",
        "- `review_date`: date of the review added."
      ]
    },
    {
      "cell_type": "markdown",
      "metadata": {
        "id": "nll-tCpdTuAP"
      },
      "source": [
        "We'll start by reading our dataset in. Since we already have some basic information of our data, notice that in the following code, we're also passing `parse_dates` argument into it:"
      ]
    },
    {
      "cell_type": "code",
      "metadata": {
        "id": "-XUarlD-TuAP",
        "colab": {
          "base_uri": "https://localhost:8080/",
          "height": 467
        },
        "outputId": "cc1fdd4f-2099-498a-f746-ead60069004e"
      },
      "source": [
        "# review = pd.read_csv(\"/content/gdrive/My Drive/Materi Acube/Data science with Python by Algorit.ma/2_PythonDW/data_input/clothing_reviews.csv\", parse_dates = ['review_date'])\n",
        "review = pd.read_csv(\"/content/gdrive/My Drive/Data science with Python by Algorit.ma/2_PythonDW/data_input/clothing_reviews.csv\", parse_dates = ['review_date'])\n",
        "review.head()"
      ],
      "execution_count": null,
      "outputs": [
        {
          "output_type": "execute_result",
          "data": {
            "text/html": [
              "<div>\n",
              "<style scoped>\n",
              "    .dataframe tbody tr th:only-of-type {\n",
              "        vertical-align: middle;\n",
              "    }\n",
              "\n",
              "    .dataframe tbody tr th {\n",
              "        vertical-align: top;\n",
              "    }\n",
              "\n",
              "    .dataframe thead th {\n",
              "        text-align: right;\n",
              "    }\n",
              "</style>\n",
              "<table border=\"1\" class=\"dataframe\">\n",
              "  <thead>\n",
              "    <tr style=\"text-align: right;\">\n",
              "      <th></th>\n",
              "      <th>clothing_id</th>\n",
              "      <th>age_group</th>\n",
              "      <th>review_text</th>\n",
              "      <th>rating</th>\n",
              "      <th>recommended_ind</th>\n",
              "      <th>positive_feedback_count</th>\n",
              "      <th>division_name</th>\n",
              "      <th>category</th>\n",
              "      <th>review_date</th>\n",
              "    </tr>\n",
              "  </thead>\n",
              "  <tbody>\n",
              "    <tr>\n",
              "      <th>0</th>\n",
              "      <td>767</td>\n",
              "      <td>25 to 34</td>\n",
              "      <td>Absolutely wonderful - silky and sexy and comf...</td>\n",
              "      <td>4</td>\n",
              "      <td>1</td>\n",
              "      <td>0</td>\n",
              "      <td>Initmates</td>\n",
              "      <td>Intimate</td>\n",
              "      <td>2017-03-30 06:00:00</td>\n",
              "    </tr>\n",
              "    <tr>\n",
              "      <th>1</th>\n",
              "      <td>1080</td>\n",
              "      <td>25 to 34</td>\n",
              "      <td>Love this dress!  it's sooo pretty.  i happene...</td>\n",
              "      <td>5</td>\n",
              "      <td>1</td>\n",
              "      <td>4</td>\n",
              "      <td>General</td>\n",
              "      <td>Dresses</td>\n",
              "      <td>2017-03-10 22:00:00</td>\n",
              "    </tr>\n",
              "    <tr>\n",
              "      <th>2</th>\n",
              "      <td>1077</td>\n",
              "      <td>55 to 64</td>\n",
              "      <td>I had such high hopes for this dress and reall...</td>\n",
              "      <td>3</td>\n",
              "      <td>0</td>\n",
              "      <td>0</td>\n",
              "      <td>General</td>\n",
              "      <td>Dresses</td>\n",
              "      <td>2017-03-04 10:00:00</td>\n",
              "    </tr>\n",
              "    <tr>\n",
              "      <th>3</th>\n",
              "      <td>1049</td>\n",
              "      <td>35 to 54</td>\n",
              "      <td>I love, love, love this jumpsuit. it's fun, fl...</td>\n",
              "      <td>5</td>\n",
              "      <td>1</td>\n",
              "      <td>0</td>\n",
              "      <td>General Petite</td>\n",
              "      <td>Bottoms</td>\n",
              "      <td>2017-03-03 14:00:00</td>\n",
              "    </tr>\n",
              "    <tr>\n",
              "      <th>4</th>\n",
              "      <td>847</td>\n",
              "      <td>35 to 54</td>\n",
              "      <td>This shirt is very flattering to all due to th...</td>\n",
              "      <td>5</td>\n",
              "      <td>1</td>\n",
              "      <td>6</td>\n",
              "      <td>General</td>\n",
              "      <td>Tops</td>\n",
              "      <td>2017-12-14 06:00:00</td>\n",
              "    </tr>\n",
              "  </tbody>\n",
              "</table>\n",
              "</div>"
            ],
            "text/plain": [
              "   clothing_id age_group  ...  category         review_date\n",
              "0          767  25 to 34  ...  Intimate 2017-03-30 06:00:00\n",
              "1         1080  25 to 34  ...   Dresses 2017-03-10 22:00:00\n",
              "2         1077  55 to 64  ...   Dresses 2017-03-04 10:00:00\n",
              "3         1049  35 to 54  ...   Bottoms 2017-03-03 14:00:00\n",
              "4          847  35 to 54  ...      Tops 2017-12-14 06:00:00\n",
              "\n",
              "[5 rows x 9 columns]"
            ]
          },
          "metadata": {
            "tags": []
          },
          "execution_count": 71
        }
      ]
    },
    {
      "cell_type": "markdown",
      "metadata": {
        "id": "eAif9xDYTuAQ"
      },
      "source": [
        "The `parse_dates` argument converts the `datetime` object, so we won't need further datetime conversion.\n",
        "\n",
        "On the following code, we only need to convert the remaining columns to the correct data types:"
      ]
    },
    {
      "cell_type": "code",
      "metadata": {
        "scrolled": true,
        "id": "Gsvbr38PTuAQ",
        "colab": {
          "base_uri": "https://localhost:8080/"
        },
        "outputId": "6a34e710-9cfd-4697-c1db-e68bfe299991"
      },
      "source": [
        "review[['age_group', 'division_name', 'category']] = review[['age_group', 'division_name', 'category']].astype('category')\n",
        "\n",
        "review.dtypes"
      ],
      "execution_count": null,
      "outputs": [
        {
          "output_type": "execute_result",
          "data": {
            "text/plain": [
              "clothing_id                         int64\n",
              "age_group                        category\n",
              "review_text                        object\n",
              "rating                              int64\n",
              "recommended_ind                     int64\n",
              "positive_feedback_count             int64\n",
              "division_name                    category\n",
              "category                         category\n",
              "review_date                datetime64[ns]\n",
              "dtype: object"
            ]
          },
          "metadata": {
            "tags": []
          },
          "execution_count": 72
        }
      ]
    },
    {
      "cell_type": "markdown",
      "metadata": {
        "id": "npKcAm49TuAQ"
      },
      "source": [
        "## Tables\n",
        "\n",
        "One of the simplest EDA toolkit is the frequency table (contingency tables) and cross-tabulation tables. It is highly familiar, convenient, and practical for a wide array of statistical tasks. The simplest form of a table is to display counts of a `categorical` column."
      ]
    },
    {
      "cell_type": "markdown",
      "metadata": {
        "id": "a0-49lBtTuAQ"
      },
      "source": [
        "In `pandas`, each column of a `DataFrame` is a `Series`. To get the counts of each unique levels in a categorical column, we can use `.value_counts()`. The resulting object is a `Series` and in descending order so that the most frequent element is on top. \n",
        "\n",
        "Suppose we want to know the amount of reviews obtained by each clothing `category`. Now, try and perform `.value_counts()` on the `category` column, adding either:\n",
        "\n",
        "- `sort=False` as a parameter to prevent any sorting of elements, or\n",
        "- `ascending=True` as a parameter to sort in ascending order instead"
      ]
    },
    {
      "cell_type": "code",
      "metadata": {
        "id": "HGorll4pTuAR"
      },
      "source": [
        "## Your code below\n",
        "\n"
      ],
      "execution_count": null,
      "outputs": []
    },
    {
      "cell_type": "markdown",
      "metadata": {
        "id": "gO1GZowiTuAR"
      },
      "source": [
        "`crosstab` is a very versatile solution to producing frequency tables on a `DataFrame` object. Its utility really goes further than that but we'll start with a simple use-case.\n",
        "\n",
        "Consider the following code: we use `pd.crosstab()` passing in the values to group by in the rows (`index`) and columns (`columns`) respectively. We're also setting the row (index) to be `category` and the function will by default compute a frequency table. "
      ]
    },
    {
      "cell_type": "code",
      "metadata": {
        "id": "qk4W_G1OTuAR",
        "colab": {
          "base_uri": "https://localhost:8080/",
          "height": 257
        },
        "outputId": "5236351a-701d-4796-a6af-997230348200"
      },
      "source": [
        "pd.crosstab(index = review['category'],columns = \"count\")"
      ],
      "execution_count": null,
      "outputs": [
        {
          "output_type": "execute_result",
          "data": {
            "text/html": [
              "<div>\n",
              "<style scoped>\n",
              "    .dataframe tbody tr th:only-of-type {\n",
              "        vertical-align: middle;\n",
              "    }\n",
              "\n",
              "    .dataframe tbody tr th {\n",
              "        vertical-align: top;\n",
              "    }\n",
              "\n",
              "    .dataframe thead th {\n",
              "        text-align: right;\n",
              "    }\n",
              "</style>\n",
              "<table border=\"1\" class=\"dataframe\">\n",
              "  <thead>\n",
              "    <tr style=\"text-align: right;\">\n",
              "      <th>col_0</th>\n",
              "      <th>count</th>\n",
              "    </tr>\n",
              "    <tr>\n",
              "      <th>category</th>\n",
              "      <th></th>\n",
              "    </tr>\n",
              "  </thead>\n",
              "  <tbody>\n",
              "    <tr>\n",
              "      <th>Bottoms</th>\n",
              "      <td>3799</td>\n",
              "    </tr>\n",
              "    <tr>\n",
              "      <th>Dresses</th>\n",
              "      <td>6319</td>\n",
              "    </tr>\n",
              "    <tr>\n",
              "      <th>Intimate</th>\n",
              "      <td>1735</td>\n",
              "    </tr>\n",
              "    <tr>\n",
              "      <th>Jackets</th>\n",
              "      <td>1032</td>\n",
              "    </tr>\n",
              "    <tr>\n",
              "      <th>Tops</th>\n",
              "      <td>10468</td>\n",
              "    </tr>\n",
              "    <tr>\n",
              "      <th>Trend</th>\n",
              "      <td>119</td>\n",
              "    </tr>\n",
              "  </tbody>\n",
              "</table>\n",
              "</div>"
            ],
            "text/plain": [
              "col_0     count\n",
              "category       \n",
              "Bottoms    3799\n",
              "Dresses    6319\n",
              "Intimate   1735\n",
              "Jackets    1032\n",
              "Tops      10468\n",
              "Trend       119"
            ]
          },
          "metadata": {
            "tags": []
          },
          "execution_count": 73
        }
      ]
    },
    {
      "cell_type": "markdown",
      "metadata": {
        "id": "QVeuSIfrTuAR"
      },
      "source": [
        "We can aslo add `normalize` argument on our crosstab to set the values to be normalized over each columns, and this will divide each values in place over the sum of all values."
      ]
    },
    {
      "cell_type": "code",
      "metadata": {
        "id": "QGbjqhpsTuAR",
        "colab": {
          "base_uri": "https://localhost:8080/",
          "height": 257
        },
        "outputId": "ec76e359-9f3c-4999-8452-60d14d25601a"
      },
      "source": [
        "pd.crosstab(index = review['category'], columns = \"count\", normalize = 'columns')\n",
        "\n",
        "# equivalent to:\n",
        "# cat = pd.crosstab(index = review['category'], columns = 'counts')\n",
        "# cat/cat.sum()"
      ],
      "execution_count": null,
      "outputs": [
        {
          "output_type": "execute_result",
          "data": {
            "text/html": [
              "<div>\n",
              "<style scoped>\n",
              "    .dataframe tbody tr th:only-of-type {\n",
              "        vertical-align: middle;\n",
              "    }\n",
              "\n",
              "    .dataframe tbody tr th {\n",
              "        vertical-align: top;\n",
              "    }\n",
              "\n",
              "    .dataframe thead th {\n",
              "        text-align: right;\n",
              "    }\n",
              "</style>\n",
              "<table border=\"1\" class=\"dataframe\">\n",
              "  <thead>\n",
              "    <tr style=\"text-align: right;\">\n",
              "      <th>col_0</th>\n",
              "      <th>count</th>\n",
              "    </tr>\n",
              "    <tr>\n",
              "      <th>category</th>\n",
              "      <th></th>\n",
              "    </tr>\n",
              "  </thead>\n",
              "  <tbody>\n",
              "    <tr>\n",
              "      <th>Bottoms</th>\n",
              "      <td>0.161852</td>\n",
              "    </tr>\n",
              "    <tr>\n",
              "      <th>Dresses</th>\n",
              "      <td>0.269214</td>\n",
              "    </tr>\n",
              "    <tr>\n",
              "      <th>Intimate</th>\n",
              "      <td>0.073918</td>\n",
              "    </tr>\n",
              "    <tr>\n",
              "      <th>Jackets</th>\n",
              "      <td>0.043967</td>\n",
              "    </tr>\n",
              "    <tr>\n",
              "      <th>Tops</th>\n",
              "      <td>0.445978</td>\n",
              "    </tr>\n",
              "    <tr>\n",
              "      <th>Trend</th>\n",
              "      <td>0.005070</td>\n",
              "    </tr>\n",
              "  </tbody>\n",
              "</table>\n",
              "</div>"
            ],
            "text/plain": [
              "col_0        count\n",
              "category          \n",
              "Bottoms   0.161852\n",
              "Dresses   0.269214\n",
              "Intimate  0.073918\n",
              "Jackets   0.043967\n",
              "Tops      0.445978\n",
              "Trend     0.005070"
            ]
          },
          "metadata": {
            "tags": []
          },
          "execution_count": 74
        }
      ]
    },
    {
      "cell_type": "markdown",
      "metadata": {
        "id": "J0cL8bKMTuAS"
      },
      "source": [
        "We can also use the same `crosstab` method to compute a cross-tabulation of two factors. Say, for example, we want to know how our customer's age group corresponds to the reviews in each clothing category. \n",
        "\n",
        "So, in the following cell, we use `crosstab` with the `index` references the `category` column while the `columns` references the `age_group`. The `margins=True` on our method call adds an extra row and column of margins (subtotals):"
      ]
    },
    {
      "cell_type": "code",
      "metadata": {
        "id": "txGeXlJeTuAS",
        "colab": {
          "base_uri": "https://localhost:8080/",
          "height": 287
        },
        "outputId": "948b8541-2b3b-4e8b-fc7a-1a523782eee6"
      },
      "source": [
        "pd.crosstab(index = review['category'], columns = review['age_group'], margins = True)"
      ],
      "execution_count": null,
      "outputs": [
        {
          "output_type": "execute_result",
          "data": {
            "text/html": [
              "<div>\n",
              "<style scoped>\n",
              "    .dataframe tbody tr th:only-of-type {\n",
              "        vertical-align: middle;\n",
              "    }\n",
              "\n",
              "    .dataframe tbody tr th {\n",
              "        vertical-align: top;\n",
              "    }\n",
              "\n",
              "    .dataframe thead th {\n",
              "        text-align: right;\n",
              "    }\n",
              "</style>\n",
              "<table border=\"1\" class=\"dataframe\">\n",
              "  <thead>\n",
              "    <tr style=\"text-align: right;\">\n",
              "      <th>age_group</th>\n",
              "      <th>18 to 24</th>\n",
              "      <th>25 to 34</th>\n",
              "      <th>35 to 54</th>\n",
              "      <th>55 to 64</th>\n",
              "      <th>65+</th>\n",
              "      <th>All</th>\n",
              "    </tr>\n",
              "    <tr>\n",
              "      <th>category</th>\n",
              "      <th></th>\n",
              "      <th></th>\n",
              "      <th></th>\n",
              "      <th></th>\n",
              "      <th></th>\n",
              "      <th></th>\n",
              "    </tr>\n",
              "  </thead>\n",
              "  <tbody>\n",
              "    <tr>\n",
              "      <th>Bottoms</th>\n",
              "      <td>130</td>\n",
              "      <td>815</td>\n",
              "      <td>2156</td>\n",
              "      <td>514</td>\n",
              "      <td>184</td>\n",
              "      <td>3799</td>\n",
              "    </tr>\n",
              "    <tr>\n",
              "      <th>Dresses</th>\n",
              "      <td>273</td>\n",
              "      <td>1524</td>\n",
              "      <td>3464</td>\n",
              "      <td>769</td>\n",
              "      <td>289</td>\n",
              "      <td>6319</td>\n",
              "    </tr>\n",
              "    <tr>\n",
              "      <th>Intimate</th>\n",
              "      <td>80</td>\n",
              "      <td>483</td>\n",
              "      <td>914</td>\n",
              "      <td>161</td>\n",
              "      <td>97</td>\n",
              "      <td>1735</td>\n",
              "    </tr>\n",
              "    <tr>\n",
              "      <th>Jackets</th>\n",
              "      <td>42</td>\n",
              "      <td>237</td>\n",
              "      <td>515</td>\n",
              "      <td>157</td>\n",
              "      <td>81</td>\n",
              "      <td>1032</td>\n",
              "    </tr>\n",
              "    <tr>\n",
              "      <th>Tops</th>\n",
              "      <td>360</td>\n",
              "      <td>2098</td>\n",
              "      <td>5747</td>\n",
              "      <td>1536</td>\n",
              "      <td>727</td>\n",
              "      <td>10468</td>\n",
              "    </tr>\n",
              "    <tr>\n",
              "      <th>Trend</th>\n",
              "      <td>6</td>\n",
              "      <td>15</td>\n",
              "      <td>75</td>\n",
              "      <td>15</td>\n",
              "      <td>8</td>\n",
              "      <td>119</td>\n",
              "    </tr>\n",
              "    <tr>\n",
              "      <th>All</th>\n",
              "      <td>891</td>\n",
              "      <td>5172</td>\n",
              "      <td>12871</td>\n",
              "      <td>3152</td>\n",
              "      <td>1386</td>\n",
              "      <td>23472</td>\n",
              "    </tr>\n",
              "  </tbody>\n",
              "</table>\n",
              "</div>"
            ],
            "text/plain": [
              "age_group  18 to 24  25 to 34  35 to 54  55 to 64   65+    All\n",
              "category                                                      \n",
              "Bottoms         130       815      2156       514   184   3799\n",
              "Dresses         273      1524      3464       769   289   6319\n",
              "Intimate         80       483       914       161    97   1735\n",
              "Jackets          42       237       515       157    81   1032\n",
              "Tops            360      2098      5747      1536   727  10468\n",
              "Trend             6        15        75        15     8    119\n",
              "All             891      5172     12871      3152  1386  23472"
            ]
          },
          "metadata": {
            "tags": []
          },
          "execution_count": 77
        }
      ]
    },
    {
      "cell_type": "markdown",
      "metadata": {
        "id": "halrWWc2TuAS"
      },
      "source": [
        "**Discussion:**\n",
        "\n",
        "How many reviews obtained on each day of the week? Use `pd.crosstab(index=__, columns=\"count\")` or `x.value_counts()`.\n",
        "\n",
        "_Extra Tips_:\n",
        "1. Use `x.dt.weekday_name`, assuming `x` is a datetime object to get the day of week. Assign this to a new column in your `review` Data Frame, name it `weekday`\n",
        "2. Print the first 5 rows of your data to verify that your preprocessing steps are correct\n"
      ]
    },
    {
      "cell_type": "code",
      "metadata": {
        "id": "uIp-SpfaTuAS"
      },
      "source": [
        "## Your code below\n",
        "\n"
      ],
      "execution_count": null,
      "outputs": []
    },
    {
      "cell_type": "markdown",
      "metadata": {
        "id": "sP_JO33pTuAS"
      },
      "source": [
        "If you've managed the above exercises, well done! Run the following cell anyway to make sure we're at the same starting point as we go into the next chapter."
      ]
    },
    {
      "cell_type": "code",
      "metadata": {
        "id": "LR-JFQ6iTuAT",
        "colab": {
          "base_uri": "https://localhost:8080/",
          "height": 287
        },
        "outputId": "57b8429c-29d5-4758-ad0b-16403fc85640"
      },
      "source": [
        "review['weekday'] = review['review_date'].dt.day_name()\n",
        "pd.crosstab(index = review['weekday'], columns = \"count\")"
      ],
      "execution_count": null,
      "outputs": [
        {
          "output_type": "execute_result",
          "data": {
            "text/html": [
              "<div>\n",
              "<style scoped>\n",
              "    .dataframe tbody tr th:only-of-type {\n",
              "        vertical-align: middle;\n",
              "    }\n",
              "\n",
              "    .dataframe tbody tr th {\n",
              "        vertical-align: top;\n",
              "    }\n",
              "\n",
              "    .dataframe thead th {\n",
              "        text-align: right;\n",
              "    }\n",
              "</style>\n",
              "<table border=\"1\" class=\"dataframe\">\n",
              "  <thead>\n",
              "    <tr style=\"text-align: right;\">\n",
              "      <th>col_0</th>\n",
              "      <th>count</th>\n",
              "    </tr>\n",
              "    <tr>\n",
              "      <th>weekday</th>\n",
              "      <th></th>\n",
              "    </tr>\n",
              "  </thead>\n",
              "  <tbody>\n",
              "    <tr>\n",
              "      <th>Friday</th>\n",
              "      <td>3157</td>\n",
              "    </tr>\n",
              "    <tr>\n",
              "      <th>Monday</th>\n",
              "      <td>3015</td>\n",
              "    </tr>\n",
              "    <tr>\n",
              "      <th>Saturday</th>\n",
              "      <td>3528</td>\n",
              "    </tr>\n",
              "    <tr>\n",
              "      <th>Sunday</th>\n",
              "      <td>1569</td>\n",
              "    </tr>\n",
              "    <tr>\n",
              "      <th>Thursday</th>\n",
              "      <td>3468</td>\n",
              "    </tr>\n",
              "    <tr>\n",
              "      <th>Tuesday</th>\n",
              "      <td>5032</td>\n",
              "    </tr>\n",
              "    <tr>\n",
              "      <th>Wednesday</th>\n",
              "      <td>3717</td>\n",
              "    </tr>\n",
              "  </tbody>\n",
              "</table>\n",
              "</div>"
            ],
            "text/plain": [
              "col_0      count\n",
              "weekday         \n",
              "Friday      3157\n",
              "Monday      3015\n",
              "Saturday    3528\n",
              "Sunday      1569\n",
              "Thursday    3468\n",
              "Tuesday     5032\n",
              "Wednesday   3717"
            ]
          },
          "metadata": {
            "tags": []
          },
          "execution_count": 84
        }
      ]
    },
    {
      "cell_type": "markdown",
      "metadata": {
        "id": "rnGbH-svTuAT"
      },
      "source": [
        "### Aggregation Table\n",
        "\n",
        "In the following section, we will introduce another parameter to perform aggregation on our table. The `aggfunc` parameter when present, required the `values` parameter to be specified as well. `values` is the values to aggregate according to the factors in our index and columns:"
      ]
    },
    {
      "cell_type": "code",
      "metadata": {
        "scrolled": true,
        "id": "KT-Dh5reTuAT",
        "colab": {
          "base_uri": "https://localhost:8080/",
          "height": 257
        },
        "outputId": "732a50e5-ae89-44ed-c3b5-2a763c545e8f"
      },
      "source": [
        "pd.crosstab(index=review['category'], \n",
        "            columns='Total Positive Feedbacks', \n",
        "            values=review['positive_feedback_count'],\n",
        "            aggfunc='sum')"
      ],
      "execution_count": null,
      "outputs": [
        {
          "output_type": "execute_result",
          "data": {
            "text/html": [
              "<div>\n",
              "<style scoped>\n",
              "    .dataframe tbody tr th:only-of-type {\n",
              "        vertical-align: middle;\n",
              "    }\n",
              "\n",
              "    .dataframe tbody tr th {\n",
              "        vertical-align: top;\n",
              "    }\n",
              "\n",
              "    .dataframe thead th {\n",
              "        text-align: right;\n",
              "    }\n",
              "</style>\n",
              "<table border=\"1\" class=\"dataframe\">\n",
              "  <thead>\n",
              "    <tr style=\"text-align: right;\">\n",
              "      <th>col_0</th>\n",
              "      <th>Total Positive Feedbacks</th>\n",
              "    </tr>\n",
              "    <tr>\n",
              "      <th>category</th>\n",
              "      <th></th>\n",
              "    </tr>\n",
              "  </thead>\n",
              "  <tbody>\n",
              "    <tr>\n",
              "      <th>Bottoms</th>\n",
              "      <td>8043</td>\n",
              "    </tr>\n",
              "    <tr>\n",
              "      <th>Dresses</th>\n",
              "      <td>19510</td>\n",
              "    </tr>\n",
              "    <tr>\n",
              "      <th>Intimate</th>\n",
              "      <td>3275</td>\n",
              "    </tr>\n",
              "    <tr>\n",
              "      <th>Jackets</th>\n",
              "      <td>2916</td>\n",
              "    </tr>\n",
              "    <tr>\n",
              "      <th>Tops</th>\n",
              "      <td>25407</td>\n",
              "    </tr>\n",
              "    <tr>\n",
              "      <th>Trend</th>\n",
              "      <td>401</td>\n",
              "    </tr>\n",
              "  </tbody>\n",
              "</table>\n",
              "</div>"
            ],
            "text/plain": [
              "col_0     Total Positive Feedbacks\n",
              "category                          \n",
              "Bottoms                       8043\n",
              "Dresses                      19510\n",
              "Intimate                      3275\n",
              "Jackets                       2916\n",
              "Tops                         25407\n",
              "Trend                          401"
            ]
          },
          "metadata": {
            "tags": []
          },
          "execution_count": 85
        }
      ]
    },
    {
      "cell_type": "markdown",
      "metadata": {
        "id": "XrhCVbrTTuAT"
      },
      "source": [
        "### Higher-dimensional Tables\n",
        "\n",
        "If we need to inspect our data in higher resolution, we can create cross-tabulation using more than one factor. This allows us to yield insights on a more granular level yet have our output remain relatively compact and structured:"
      ]
    },
    {
      "cell_type": "code",
      "metadata": {
        "scrolled": true,
        "id": "7NM39yReTuAT",
        "colab": {
          "base_uri": "https://localhost:8080/",
          "height": 277
        },
        "outputId": "48d9dd96-aef6-49b1-af9e-aeb2ffbdba86"
      },
      "source": [
        "pd.crosstab(index = review['age_group'], \n",
        "            columns = [review['division_name'], review['category']], \n",
        "            values = review['rating'],\n",
        "            aggfunc='mean')"
      ],
      "execution_count": null,
      "outputs": [
        {
          "output_type": "execute_result",
          "data": {
            "text/html": [
              "<div>\n",
              "<style scoped>\n",
              "    .dataframe tbody tr th:only-of-type {\n",
              "        vertical-align: middle;\n",
              "    }\n",
              "\n",
              "    .dataframe tbody tr th {\n",
              "        vertical-align: top;\n",
              "    }\n",
              "\n",
              "    .dataframe thead tr th {\n",
              "        text-align: left;\n",
              "    }\n",
              "\n",
              "    .dataframe thead tr:last-of-type th {\n",
              "        text-align: right;\n",
              "    }\n",
              "</style>\n",
              "<table border=\"1\" class=\"dataframe\">\n",
              "  <thead>\n",
              "    <tr>\n",
              "      <th>division_name</th>\n",
              "      <th colspan=\"5\" halign=\"left\">General</th>\n",
              "      <th colspan=\"6\" halign=\"left\">General Petite</th>\n",
              "      <th>Initmates</th>\n",
              "    </tr>\n",
              "    <tr>\n",
              "      <th>category</th>\n",
              "      <th>Bottoms</th>\n",
              "      <th>Dresses</th>\n",
              "      <th>Jackets</th>\n",
              "      <th>Tops</th>\n",
              "      <th>Trend</th>\n",
              "      <th>Bottoms</th>\n",
              "      <th>Dresses</th>\n",
              "      <th>Intimate</th>\n",
              "      <th>Jackets</th>\n",
              "      <th>Tops</th>\n",
              "      <th>Trend</th>\n",
              "      <th>Intimate</th>\n",
              "    </tr>\n",
              "    <tr>\n",
              "      <th>age_group</th>\n",
              "      <th></th>\n",
              "      <th></th>\n",
              "      <th></th>\n",
              "      <th></th>\n",
              "      <th></th>\n",
              "      <th></th>\n",
              "      <th></th>\n",
              "      <th></th>\n",
              "      <th></th>\n",
              "      <th></th>\n",
              "      <th></th>\n",
              "      <th></th>\n",
              "    </tr>\n",
              "  </thead>\n",
              "  <tbody>\n",
              "    <tr>\n",
              "      <th>18 to 24</th>\n",
              "      <td>4.386364</td>\n",
              "      <td>4.311688</td>\n",
              "      <td>4.407407</td>\n",
              "      <td>4.394619</td>\n",
              "      <td>4.400000</td>\n",
              "      <td>4.404762</td>\n",
              "      <td>4.310924</td>\n",
              "      <td>4.250000</td>\n",
              "      <td>4.400000</td>\n",
              "      <td>4.226277</td>\n",
              "      <td>3.000000</td>\n",
              "      <td>4.277778</td>\n",
              "    </tr>\n",
              "    <tr>\n",
              "      <th>25 to 34</th>\n",
              "      <td>4.221402</td>\n",
              "      <td>4.089362</td>\n",
              "      <td>4.189542</td>\n",
              "      <td>4.107581</td>\n",
              "      <td>3.461538</td>\n",
              "      <td>4.234432</td>\n",
              "      <td>4.111301</td>\n",
              "      <td>4.108696</td>\n",
              "      <td>4.083333</td>\n",
              "      <td>4.106592</td>\n",
              "      <td>4.000000</td>\n",
              "      <td>4.265446</td>\n",
              "    </tr>\n",
              "    <tr>\n",
              "      <th>35 to 54</th>\n",
              "      <td>4.251366</td>\n",
              "      <td>4.167668</td>\n",
              "      <td>4.253918</td>\n",
              "      <td>4.101067</td>\n",
              "      <td>3.894737</td>\n",
              "      <td>4.346821</td>\n",
              "      <td>4.112551</td>\n",
              "      <td>4.226027</td>\n",
              "      <td>4.326531</td>\n",
              "      <td>4.207812</td>\n",
              "      <td>3.777778</td>\n",
              "      <td>4.309896</td>\n",
              "    </tr>\n",
              "    <tr>\n",
              "      <th>55 to 64</th>\n",
              "      <td>4.381381</td>\n",
              "      <td>4.218415</td>\n",
              "      <td>4.214286</td>\n",
              "      <td>4.292339</td>\n",
              "      <td>3.538462</td>\n",
              "      <td>4.320442</td>\n",
              "      <td>4.274834</td>\n",
              "      <td>4.619048</td>\n",
              "      <td>4.355932</td>\n",
              "      <td>4.305147</td>\n",
              "      <td>4.000000</td>\n",
              "      <td>4.278571</td>\n",
              "    </tr>\n",
              "    <tr>\n",
              "      <th>65+</th>\n",
              "      <td>4.295652</td>\n",
              "      <td>4.228070</td>\n",
              "      <td>4.270833</td>\n",
              "      <td>4.227926</td>\n",
              "      <td>4.000000</td>\n",
              "      <td>4.507246</td>\n",
              "      <td>3.957627</td>\n",
              "      <td>4.250000</td>\n",
              "      <td>4.606061</td>\n",
              "      <td>4.408333</td>\n",
              "      <td>NaN</td>\n",
              "      <td>4.200000</td>\n",
              "    </tr>\n",
              "  </tbody>\n",
              "</table>\n",
              "</div>"
            ],
            "text/plain": [
              "division_name   General                      ... General Petite           Initmates\n",
              "category        Bottoms   Dresses   Jackets  ...           Tops     Trend  Intimate\n",
              "age_group                                    ...                                   \n",
              "18 to 24       4.386364  4.311688  4.407407  ...       4.226277  3.000000  4.277778\n",
              "25 to 34       4.221402  4.089362  4.189542  ...       4.106592  4.000000  4.265446\n",
              "35 to 54       4.251366  4.167668  4.253918  ...       4.207812  3.777778  4.309896\n",
              "55 to 64       4.381381  4.218415  4.214286  ...       4.305147  4.000000  4.278571\n",
              "65+            4.295652  4.228070  4.270833  ...       4.408333       NaN  4.200000\n",
              "\n",
              "[5 rows x 12 columns]"
            ]
          },
          "metadata": {
            "tags": []
          },
          "execution_count": 86
        }
      ]
    },
    {
      "cell_type": "markdown",
      "metadata": {
        "id": "RP9Zfx7STuAU"
      },
      "source": [
        "### Pivot Tables\n",
        "\n",
        "If our data is already in a `DataFrame` format, using `pd.pivot_table` can sometimes be more convenient compared to a `pd.crosstab`. \n",
        "\n",
        "Fortunately, much of the parameters in a `pivot_table()` function is the same as `pd.crosstab()`. The noticable difference is the use of an additional `data` parameter, which allow us to specify the `DataFrame` that is used to construct the pivot table.\n",
        "\n",
        "We create a `pivot_table` by passing in the following:\n",
        "- `data`: our `DataFrame`\n",
        "- `index`: the column to be used as rows\n",
        "- `columns`: the column to be used as columns\n",
        "- `values`: the values used to fill in the table\n",
        "- `aggfunc`: the aggregation function"
      ]
    },
    {
      "cell_type": "code",
      "metadata": {
        "scrolled": true,
        "id": "oF86Mhu1TuAU",
        "colab": {
          "base_uri": "https://localhost:8080/",
          "height": 277
        },
        "outputId": "025f75ba-182d-497c-afb6-a4ce659d4d75"
      },
      "source": [
        "pd.pivot_table(\n",
        "    data = review,\n",
        "    index = 'age_group',\n",
        "    columns = ['division_name', 'category'],\n",
        "    values = 'rating',\n",
        "    aggfunc = 'mean'\n",
        ")"
      ],
      "execution_count": null,
      "outputs": [
        {
          "output_type": "execute_result",
          "data": {
            "text/html": [
              "<div>\n",
              "<style scoped>\n",
              "    .dataframe tbody tr th:only-of-type {\n",
              "        vertical-align: middle;\n",
              "    }\n",
              "\n",
              "    .dataframe tbody tr th {\n",
              "        vertical-align: top;\n",
              "    }\n",
              "\n",
              "    .dataframe thead tr th {\n",
              "        text-align: left;\n",
              "    }\n",
              "\n",
              "    .dataframe thead tr:last-of-type th {\n",
              "        text-align: right;\n",
              "    }\n",
              "</style>\n",
              "<table border=\"1\" class=\"dataframe\">\n",
              "  <thead>\n",
              "    <tr>\n",
              "      <th>division_name</th>\n",
              "      <th colspan=\"5\" halign=\"left\">General</th>\n",
              "      <th colspan=\"6\" halign=\"left\">General Petite</th>\n",
              "      <th>Initmates</th>\n",
              "    </tr>\n",
              "    <tr>\n",
              "      <th>category</th>\n",
              "      <th>Bottoms</th>\n",
              "      <th>Dresses</th>\n",
              "      <th>Jackets</th>\n",
              "      <th>Tops</th>\n",
              "      <th>Trend</th>\n",
              "      <th>Bottoms</th>\n",
              "      <th>Dresses</th>\n",
              "      <th>Intimate</th>\n",
              "      <th>Jackets</th>\n",
              "      <th>Tops</th>\n",
              "      <th>Trend</th>\n",
              "      <th>Intimate</th>\n",
              "    </tr>\n",
              "    <tr>\n",
              "      <th>age_group</th>\n",
              "      <th></th>\n",
              "      <th></th>\n",
              "      <th></th>\n",
              "      <th></th>\n",
              "      <th></th>\n",
              "      <th></th>\n",
              "      <th></th>\n",
              "      <th></th>\n",
              "      <th></th>\n",
              "      <th></th>\n",
              "      <th></th>\n",
              "      <th></th>\n",
              "    </tr>\n",
              "  </thead>\n",
              "  <tbody>\n",
              "    <tr>\n",
              "      <th>18 to 24</th>\n",
              "      <td>4.386364</td>\n",
              "      <td>4.311688</td>\n",
              "      <td>4.407407</td>\n",
              "      <td>4.394619</td>\n",
              "      <td>4.400000</td>\n",
              "      <td>4.404762</td>\n",
              "      <td>4.310924</td>\n",
              "      <td>4.250000</td>\n",
              "      <td>4.400000</td>\n",
              "      <td>4.226277</td>\n",
              "      <td>3.000000</td>\n",
              "      <td>4.277778</td>\n",
              "    </tr>\n",
              "    <tr>\n",
              "      <th>25 to 34</th>\n",
              "      <td>4.221402</td>\n",
              "      <td>4.089362</td>\n",
              "      <td>4.189542</td>\n",
              "      <td>4.107581</td>\n",
              "      <td>3.461538</td>\n",
              "      <td>4.234432</td>\n",
              "      <td>4.111301</td>\n",
              "      <td>4.108696</td>\n",
              "      <td>4.083333</td>\n",
              "      <td>4.106592</td>\n",
              "      <td>4.000000</td>\n",
              "      <td>4.265446</td>\n",
              "    </tr>\n",
              "    <tr>\n",
              "      <th>35 to 54</th>\n",
              "      <td>4.251366</td>\n",
              "      <td>4.167668</td>\n",
              "      <td>4.253918</td>\n",
              "      <td>4.101067</td>\n",
              "      <td>3.894737</td>\n",
              "      <td>4.346821</td>\n",
              "      <td>4.112551</td>\n",
              "      <td>4.226027</td>\n",
              "      <td>4.326531</td>\n",
              "      <td>4.207812</td>\n",
              "      <td>3.777778</td>\n",
              "      <td>4.309896</td>\n",
              "    </tr>\n",
              "    <tr>\n",
              "      <th>55 to 64</th>\n",
              "      <td>4.381381</td>\n",
              "      <td>4.218415</td>\n",
              "      <td>4.214286</td>\n",
              "      <td>4.292339</td>\n",
              "      <td>3.538462</td>\n",
              "      <td>4.320442</td>\n",
              "      <td>4.274834</td>\n",
              "      <td>4.619048</td>\n",
              "      <td>4.355932</td>\n",
              "      <td>4.305147</td>\n",
              "      <td>4.000000</td>\n",
              "      <td>4.278571</td>\n",
              "    </tr>\n",
              "    <tr>\n",
              "      <th>65+</th>\n",
              "      <td>4.295652</td>\n",
              "      <td>4.228070</td>\n",
              "      <td>4.270833</td>\n",
              "      <td>4.227926</td>\n",
              "      <td>4.000000</td>\n",
              "      <td>4.507246</td>\n",
              "      <td>3.957627</td>\n",
              "      <td>4.250000</td>\n",
              "      <td>4.606061</td>\n",
              "      <td>4.408333</td>\n",
              "      <td>NaN</td>\n",
              "      <td>4.200000</td>\n",
              "    </tr>\n",
              "  </tbody>\n",
              "</table>\n",
              "</div>"
            ],
            "text/plain": [
              "division_name   General                      ... General Petite           Initmates\n",
              "category        Bottoms   Dresses   Jackets  ...           Tops     Trend  Intimate\n",
              "age_group                                    ...                                   \n",
              "18 to 24       4.386364  4.311688  4.407407  ...       4.226277  3.000000  4.277778\n",
              "25 to 34       4.221402  4.089362  4.189542  ...       4.106592  4.000000  4.265446\n",
              "35 to 54       4.251366  4.167668  4.253918  ...       4.207812  3.777778  4.309896\n",
              "55 to 64       4.381381  4.218415  4.214286  ...       4.305147  4.000000  4.278571\n",
              "65+            4.295652  4.228070  4.270833  ...       4.408333       NaN  4.200000\n",
              "\n",
              "[5 rows x 12 columns]"
            ]
          },
          "metadata": {
            "tags": []
          },
          "execution_count": 87
        }
      ]
    },
    {
      "cell_type": "markdown",
      "metadata": {
        "id": "esTrRDSUTuAV"
      },
      "source": [
        "A key difference between `crosstab` and `pivot_table` is that `crosstab` uses `len` (or `count`) as the default aggregation function while `pivot_table` using the mean. Copy the code from the cell below and make a change: use `sum` as the aggregation function instead: "
      ]
    },
    {
      "cell_type": "code",
      "metadata": {
        "scrolled": true,
        "id": "5GxIJQG1TuAW",
        "outputId": "fdfa8727-a169-4c1d-cc5d-353f1760d29e"
      },
      "source": [
        "pd.pivot_table(\n",
        "    data = review,\n",
        "    index = 'category',\n",
        "    columns= 'age_group',\n",
        "    values = 'recommended_ind'\n",
        ")"
      ],
      "execution_count": null,
      "outputs": [
        {
          "output_type": "execute_result",
          "data": {
            "text/html": [
              "<div>\n",
              "<style scoped>\n",
              "    .dataframe tbody tr th:only-of-type {\n",
              "        vertical-align: middle;\n",
              "    }\n",
              "\n",
              "    .dataframe tbody tr th {\n",
              "        vertical-align: top;\n",
              "    }\n",
              "\n",
              "    .dataframe thead th {\n",
              "        text-align: right;\n",
              "    }\n",
              "</style>\n",
              "<table border=\"1\" class=\"dataframe\">\n",
              "  <thead>\n",
              "    <tr style=\"text-align: right;\">\n",
              "      <th>age_group</th>\n",
              "      <th>18 to 24</th>\n",
              "      <th>25 to 34</th>\n",
              "      <th>35 to 54</th>\n",
              "      <th>55 to 64</th>\n",
              "      <th>65+</th>\n",
              "    </tr>\n",
              "    <tr>\n",
              "      <th>category</th>\n",
              "      <th></th>\n",
              "      <th></th>\n",
              "      <th></th>\n",
              "      <th></th>\n",
              "      <th></th>\n",
              "    </tr>\n",
              "  </thead>\n",
              "  <tbody>\n",
              "    <tr>\n",
              "      <th>Bottoms</th>\n",
              "      <td>0.861538</td>\n",
              "      <td>0.831902</td>\n",
              "      <td>0.848794</td>\n",
              "      <td>0.873541</td>\n",
              "      <td>0.896739</td>\n",
              "    </tr>\n",
              "    <tr>\n",
              "      <th>Dresses</th>\n",
              "      <td>0.864469</td>\n",
              "      <td>0.791339</td>\n",
              "      <td>0.807448</td>\n",
              "      <td>0.825748</td>\n",
              "      <td>0.806228</td>\n",
              "    </tr>\n",
              "    <tr>\n",
              "      <th>Intimate</th>\n",
              "      <td>0.850000</td>\n",
              "      <td>0.840580</td>\n",
              "      <td>0.853392</td>\n",
              "      <td>0.857143</td>\n",
              "      <td>0.855670</td>\n",
              "    </tr>\n",
              "    <tr>\n",
              "      <th>Jackets</th>\n",
              "      <td>0.904762</td>\n",
              "      <td>0.780591</td>\n",
              "      <td>0.856311</td>\n",
              "      <td>0.834395</td>\n",
              "      <td>0.839506</td>\n",
              "    </tr>\n",
              "    <tr>\n",
              "      <th>Tops</th>\n",
              "      <td>0.866667</td>\n",
              "      <td>0.787893</td>\n",
              "      <td>0.806160</td>\n",
              "      <td>0.850911</td>\n",
              "      <td>0.863824</td>\n",
              "    </tr>\n",
              "    <tr>\n",
              "      <th>Trend</th>\n",
              "      <td>1.000000</td>\n",
              "      <td>0.666667</td>\n",
              "      <td>0.720000</td>\n",
              "      <td>0.733333</td>\n",
              "      <td>0.875000</td>\n",
              "    </tr>\n",
              "  </tbody>\n",
              "</table>\n",
              "</div>"
            ],
            "text/plain": [
              "age_group  18 to 24  25 to 34  35 to 54  55 to 64       65+\n",
              "category                                                   \n",
              "Bottoms    0.861538  0.831902  0.848794  0.873541  0.896739\n",
              "Dresses    0.864469  0.791339  0.807448  0.825748  0.806228\n",
              "Intimate   0.850000  0.840580  0.853392  0.857143  0.855670\n",
              "Jackets    0.904762  0.780591  0.856311  0.834395  0.839506\n",
              "Tops       0.866667  0.787893  0.806160  0.850911  0.863824\n",
              "Trend      1.000000  0.666667  0.720000  0.733333  0.875000"
            ]
          },
          "metadata": {
            "tags": []
          },
          "execution_count": 41
        }
      ]
    },
    {
      "cell_type": "code",
      "metadata": {
        "id": "EBd8nvD6TuAX"
      },
      "source": [
        "## Your code below\n",
        "\n"
      ],
      "execution_count": null,
      "outputs": []
    },
    {
      "cell_type": "markdown",
      "metadata": {
        "id": "7_tVmAjkTuAX"
      },
      "source": [
        "In the following cell, I'm going to  use `reindex` to \"inject\" some rows where values don't exist (clothing id 1100 through 1105) and also set `math.nan` on one of the values for `weekday`. Notice from the output that between row 3 to 8 there are at least a few rows with missing data."
      ]
    },
    {
      "cell_type": "code",
      "metadata": {
        "id": "udtk30GZTuAY",
        "outputId": "4928bf86-e1d9-4739-848c-372668ca61d0"
      },
      "source": [
        "import math\n",
        "x=[i for i in range(1100, 1105)]\n",
        "x.insert(2,820)\n",
        "x"
      ],
      "execution_count": null,
      "outputs": [
        {
          "output_type": "execute_result",
          "data": {
            "text/plain": [
              "[1100, 1101, 820, 1102, 1103, 1104]"
            ]
          },
          "metadata": {
            "tags": []
          },
          "execution_count": 43
        }
      ]
    },
    {
      "cell_type": "code",
      "metadata": {
        "scrolled": false,
        "id": "XZta8fsHTuAY",
        "colab": {
          "base_uri": "https://localhost:8080/",
          "height": 937
        },
        "outputId": "b7d0f146-0c33-4619-8fa6-7f1419396f14"
      },
      "source": [
        "import math\n",
        "x=[i for i in range(2400, 2404)]\n",
        "x.insert(2,910)\n",
        "x\n",
        "\n",
        "# review2 = pd.read_csv(\"/content/gdrive/My Drive/Materi Acube/Data science with Python by Algorit.ma/2_PythonDW/data_input/clothing_reviews.csv\").head(5).copy()\n",
        "review2 = pd.read_csv(\"/content/gdrive/My Drive/Data science with Python by Algorit.ma/2_PythonDW/data_input/clothing_reviews.csv\").head(5).copy()\n",
        "review2 = review2.reindex(x)\n",
        "review2 = pd.concat([review2, review.head(9)])\n",
        "# review2.loc[1049, \"review_date\"] = math.nan\n",
        "review2"
      ],
      "execution_count": null,
      "outputs": [
        {
          "output_type": "execute_result",
          "data": {
            "text/html": [
              "<div>\n",
              "<style scoped>\n",
              "    .dataframe tbody tr th:only-of-type {\n",
              "        vertical-align: middle;\n",
              "    }\n",
              "\n",
              "    .dataframe tbody tr th {\n",
              "        vertical-align: top;\n",
              "    }\n",
              "\n",
              "    .dataframe thead th {\n",
              "        text-align: right;\n",
              "    }\n",
              "</style>\n",
              "<table border=\"1\" class=\"dataframe\">\n",
              "  <thead>\n",
              "    <tr style=\"text-align: right;\">\n",
              "      <th></th>\n",
              "      <th>clothing_id</th>\n",
              "      <th>age_group</th>\n",
              "      <th>review_text</th>\n",
              "      <th>rating</th>\n",
              "      <th>recommended_ind</th>\n",
              "      <th>positive_feedback_count</th>\n",
              "      <th>division_name</th>\n",
              "      <th>category</th>\n",
              "      <th>review_date</th>\n",
              "      <th>weekday</th>\n",
              "    </tr>\n",
              "  </thead>\n",
              "  <tbody>\n",
              "    <tr>\n",
              "      <th>2400</th>\n",
              "      <td>NaN</td>\n",
              "      <td>NaN</td>\n",
              "      <td>NaN</td>\n",
              "      <td>NaN</td>\n",
              "      <td>NaN</td>\n",
              "      <td>NaN</td>\n",
              "      <td>NaN</td>\n",
              "      <td>NaN</td>\n",
              "      <td>NaT</td>\n",
              "      <td>NaN</td>\n",
              "    </tr>\n",
              "    <tr>\n",
              "      <th>2401</th>\n",
              "      <td>NaN</td>\n",
              "      <td>NaN</td>\n",
              "      <td>NaN</td>\n",
              "      <td>NaN</td>\n",
              "      <td>NaN</td>\n",
              "      <td>NaN</td>\n",
              "      <td>NaN</td>\n",
              "      <td>NaN</td>\n",
              "      <td>NaT</td>\n",
              "      <td>NaN</td>\n",
              "    </tr>\n",
              "    <tr>\n",
              "      <th>910</th>\n",
              "      <td>NaN</td>\n",
              "      <td>NaN</td>\n",
              "      <td>NaN</td>\n",
              "      <td>NaN</td>\n",
              "      <td>NaN</td>\n",
              "      <td>NaN</td>\n",
              "      <td>NaN</td>\n",
              "      <td>NaN</td>\n",
              "      <td>NaT</td>\n",
              "      <td>NaN</td>\n",
              "    </tr>\n",
              "    <tr>\n",
              "      <th>2402</th>\n",
              "      <td>NaN</td>\n",
              "      <td>NaN</td>\n",
              "      <td>NaN</td>\n",
              "      <td>NaN</td>\n",
              "      <td>NaN</td>\n",
              "      <td>NaN</td>\n",
              "      <td>NaN</td>\n",
              "      <td>NaN</td>\n",
              "      <td>NaT</td>\n",
              "      <td>NaN</td>\n",
              "    </tr>\n",
              "    <tr>\n",
              "      <th>2403</th>\n",
              "      <td>NaN</td>\n",
              "      <td>NaN</td>\n",
              "      <td>NaN</td>\n",
              "      <td>NaN</td>\n",
              "      <td>NaN</td>\n",
              "      <td>NaN</td>\n",
              "      <td>NaN</td>\n",
              "      <td>NaN</td>\n",
              "      <td>NaT</td>\n",
              "      <td>NaN</td>\n",
              "    </tr>\n",
              "    <tr>\n",
              "      <th>0</th>\n",
              "      <td>767.0</td>\n",
              "      <td>25 to 34</td>\n",
              "      <td>Absolutely wonderful - silky and sexy and comf...</td>\n",
              "      <td>4.0</td>\n",
              "      <td>1.0</td>\n",
              "      <td>0.0</td>\n",
              "      <td>Initmates</td>\n",
              "      <td>Intimate</td>\n",
              "      <td>2017-03-30 06:00:00</td>\n",
              "      <td>Thursday</td>\n",
              "    </tr>\n",
              "    <tr>\n",
              "      <th>1</th>\n",
              "      <td>1080.0</td>\n",
              "      <td>25 to 34</td>\n",
              "      <td>Love this dress!  it's sooo pretty.  i happene...</td>\n",
              "      <td>5.0</td>\n",
              "      <td>1.0</td>\n",
              "      <td>4.0</td>\n",
              "      <td>General</td>\n",
              "      <td>Dresses</td>\n",
              "      <td>2017-03-10 22:00:00</td>\n",
              "      <td>Friday</td>\n",
              "    </tr>\n",
              "    <tr>\n",
              "      <th>2</th>\n",
              "      <td>1077.0</td>\n",
              "      <td>55 to 64</td>\n",
              "      <td>I had such high hopes for this dress and reall...</td>\n",
              "      <td>3.0</td>\n",
              "      <td>0.0</td>\n",
              "      <td>0.0</td>\n",
              "      <td>General</td>\n",
              "      <td>Dresses</td>\n",
              "      <td>2017-03-04 10:00:00</td>\n",
              "      <td>Saturday</td>\n",
              "    </tr>\n",
              "    <tr>\n",
              "      <th>3</th>\n",
              "      <td>1049.0</td>\n",
              "      <td>35 to 54</td>\n",
              "      <td>I love, love, love this jumpsuit. it's fun, fl...</td>\n",
              "      <td>5.0</td>\n",
              "      <td>1.0</td>\n",
              "      <td>0.0</td>\n",
              "      <td>General Petite</td>\n",
              "      <td>Bottoms</td>\n",
              "      <td>2017-03-03 14:00:00</td>\n",
              "      <td>Friday</td>\n",
              "    </tr>\n",
              "    <tr>\n",
              "      <th>4</th>\n",
              "      <td>847.0</td>\n",
              "      <td>35 to 54</td>\n",
              "      <td>This shirt is very flattering to all due to th...</td>\n",
              "      <td>5.0</td>\n",
              "      <td>1.0</td>\n",
              "      <td>6.0</td>\n",
              "      <td>General</td>\n",
              "      <td>Tops</td>\n",
              "      <td>2017-12-14 06:00:00</td>\n",
              "      <td>Thursday</td>\n",
              "    </tr>\n",
              "    <tr>\n",
              "      <th>5</th>\n",
              "      <td>1080.0</td>\n",
              "      <td>35 to 54</td>\n",
              "      <td>I love tracy reese dresses, but this one is no...</td>\n",
              "      <td>2.0</td>\n",
              "      <td>0.0</td>\n",
              "      <td>4.0</td>\n",
              "      <td>General</td>\n",
              "      <td>Dresses</td>\n",
              "      <td>2017-09-08 05:00:00</td>\n",
              "      <td>Friday</td>\n",
              "    </tr>\n",
              "    <tr>\n",
              "      <th>6</th>\n",
              "      <td>858.0</td>\n",
              "      <td>35 to 54</td>\n",
              "      <td>I aded this in my basket at hte last mintue to...</td>\n",
              "      <td>5.0</td>\n",
              "      <td>1.0</td>\n",
              "      <td>1.0</td>\n",
              "      <td>General Petite</td>\n",
              "      <td>Tops</td>\n",
              "      <td>2017-10-10 05:00:00</td>\n",
              "      <td>Tuesday</td>\n",
              "    </tr>\n",
              "    <tr>\n",
              "      <th>7</th>\n",
              "      <td>858.0</td>\n",
              "      <td>35 to 54</td>\n",
              "      <td>I ordered this in carbon for store pick up, an...</td>\n",
              "      <td>4.0</td>\n",
              "      <td>1.0</td>\n",
              "      <td>4.0</td>\n",
              "      <td>General Petite</td>\n",
              "      <td>Tops</td>\n",
              "      <td>2017-08-28 07:00:00</td>\n",
              "      <td>Monday</td>\n",
              "    </tr>\n",
              "    <tr>\n",
              "      <th>8</th>\n",
              "      <td>1077.0</td>\n",
              "      <td>18 to 24</td>\n",
              "      <td>I love this dress. i usually get an xs but it ...</td>\n",
              "      <td>5.0</td>\n",
              "      <td>1.0</td>\n",
              "      <td>0.0</td>\n",
              "      <td>General</td>\n",
              "      <td>Dresses</td>\n",
              "      <td>2017-10-24 04:00:00</td>\n",
              "      <td>Tuesday</td>\n",
              "    </tr>\n",
              "  </tbody>\n",
              "</table>\n",
              "</div>"
            ],
            "text/plain": [
              "      clothing_id age_group  ...         review_date   weekday\n",
              "2400          NaN       NaN  ...                 NaT       NaN\n",
              "2401          NaN       NaN  ...                 NaT       NaN\n",
              "910           NaN       NaN  ...                 NaT       NaN\n",
              "2402          NaN       NaN  ...                 NaT       NaN\n",
              "2403          NaN       NaN  ...                 NaT       NaN\n",
              "0           767.0  25 to 34  ... 2017-03-30 06:00:00  Thursday\n",
              "1          1080.0  25 to 34  ... 2017-03-10 22:00:00    Friday\n",
              "2          1077.0  55 to 64  ... 2017-03-04 10:00:00  Saturday\n",
              "3          1049.0  35 to 54  ... 2017-03-03 14:00:00    Friday\n",
              "4           847.0  35 to 54  ... 2017-12-14 06:00:00  Thursday\n",
              "5          1080.0  35 to 54  ... 2017-09-08 05:00:00    Friday\n",
              "6           858.0  35 to 54  ... 2017-10-10 05:00:00   Tuesday\n",
              "7           858.0  35 to 54  ... 2017-08-28 07:00:00    Monday\n",
              "8          1077.0  18 to 24  ... 2017-10-24 04:00:00   Tuesday\n",
              "\n",
              "[14 rows x 10 columns]"
            ]
          },
          "metadata": {
            "tags": []
          },
          "execution_count": 97
        }
      ]
    },
    {
      "cell_type": "markdown",
      "metadata": {
        "id": "1TZJU8oOTuAZ"
      },
      "source": [
        "## Missing Values and Duplicates"
      ]
    },
    {
      "cell_type": "markdown",
      "metadata": {
        "id": "lZti8XO1TuAZ"
      },
      "source": [
        "During the data exploration and preparation phase, it is likely we come across some problematic details in our data. This could be the value of _-1_ for the _age_ column, a value of _blank_ for the _customer segment_ column, or a value of _None_ for the _loan duration_ column. All of these are examples of \"untidy\" data, which is rather common depending on the data collection and recording process in a company.\n",
        "\n",
        "In `pandas`, we use `NaN` (not a number) to denote missing data; The equivalent for datetime is `NaT` but both are essentially compatible with each other. From the docs:\n",
        "> The choice of using `NaN` internally to denote missing data was largely for simplicity and performance reasons. We are hopeful that NumPy will soon be able to provide a native NA type solution (similar to R) performant enough to be used in pandas.\n",
        "\n",
        "We can use `isna()` and `notna()` to detect missing values. An example code is as below:"
      ]
    },
    {
      "cell_type": "code",
      "metadata": {
        "id": "txPkBF0yTuAZ",
        "colab": {
          "base_uri": "https://localhost:8080/"
        },
        "outputId": "169af0ad-11e1-44fd-a022-fe24b8a7ee2d"
      },
      "source": [
        "review['review_text'].head().isna()"
      ],
      "execution_count": null,
      "outputs": [
        {
          "output_type": "execute_result",
          "data": {
            "text/plain": [
              "0    False\n",
              "1    False\n",
              "2    False\n",
              "3    False\n",
              "4    False\n",
              "Name: review_text, dtype: bool"
            ]
          },
          "metadata": {
            "tags": []
          },
          "execution_count": 98
        }
      ]
    },
    {
      "cell_type": "markdown",
      "metadata": {
        "id": "0-h0BQjFTuAa"
      },
      "source": [
        "A common way of using the `.isna()` method is to combine it with the subsetting methods we've learned in previous lessons:"
      ]
    },
    {
      "cell_type": "code",
      "metadata": {
        "id": "XQQOzyOXTuAa",
        "colab": {
          "base_uri": "https://localhost:8080/",
          "height": 301
        },
        "outputId": "5547643f-521b-4680-f55c-f05c5a7372d7"
      },
      "source": [
        "review[review['review_text'].isna()].head()"
      ],
      "execution_count": null,
      "outputs": [
        {
          "output_type": "execute_result",
          "data": {
            "text/html": [
              "<div>\n",
              "<style scoped>\n",
              "    .dataframe tbody tr th:only-of-type {\n",
              "        vertical-align: middle;\n",
              "    }\n",
              "\n",
              "    .dataframe tbody tr th {\n",
              "        vertical-align: top;\n",
              "    }\n",
              "\n",
              "    .dataframe thead th {\n",
              "        text-align: right;\n",
              "    }\n",
              "</style>\n",
              "<table border=\"1\" class=\"dataframe\">\n",
              "  <thead>\n",
              "    <tr style=\"text-align: right;\">\n",
              "      <th></th>\n",
              "      <th>clothing_id</th>\n",
              "      <th>age_group</th>\n",
              "      <th>review_text</th>\n",
              "      <th>rating</th>\n",
              "      <th>recommended_ind</th>\n",
              "      <th>positive_feedback_count</th>\n",
              "      <th>division_name</th>\n",
              "      <th>category</th>\n",
              "      <th>review_date</th>\n",
              "      <th>weekday</th>\n",
              "    </tr>\n",
              "  </thead>\n",
              "  <tbody>\n",
              "    <tr>\n",
              "      <th>92</th>\n",
              "      <td>861</td>\n",
              "      <td>18 to 24</td>\n",
              "      <td>NaN</td>\n",
              "      <td>5</td>\n",
              "      <td>1</td>\n",
              "      <td>0</td>\n",
              "      <td>General Petite</td>\n",
              "      <td>Tops</td>\n",
              "      <td>2017-08-19 02:00:00</td>\n",
              "      <td>Saturday</td>\n",
              "    </tr>\n",
              "    <tr>\n",
              "      <th>93</th>\n",
              "      <td>1081</td>\n",
              "      <td>25 to 34</td>\n",
              "      <td>NaN</td>\n",
              "      <td>5</td>\n",
              "      <td>1</td>\n",
              "      <td>0</td>\n",
              "      <td>General</td>\n",
              "      <td>Dresses</td>\n",
              "      <td>2017-08-29 04:00:00</td>\n",
              "      <td>Tuesday</td>\n",
              "    </tr>\n",
              "    <tr>\n",
              "      <th>98</th>\n",
              "      <td>1133</td>\n",
              "      <td>35 to 54</td>\n",
              "      <td>NaN</td>\n",
              "      <td>5</td>\n",
              "      <td>1</td>\n",
              "      <td>0</td>\n",
              "      <td>General</td>\n",
              "      <td>Jackets</td>\n",
              "      <td>2017-03-04 10:00:00</td>\n",
              "      <td>Saturday</td>\n",
              "    </tr>\n",
              "    <tr>\n",
              "      <th>135</th>\n",
              "      <td>861</td>\n",
              "      <td>35 to 54</td>\n",
              "      <td>NaN</td>\n",
              "      <td>4</td>\n",
              "      <td>1</td>\n",
              "      <td>0</td>\n",
              "      <td>General Petite</td>\n",
              "      <td>Tops</td>\n",
              "      <td>2017-11-18 10:00:00</td>\n",
              "      <td>Saturday</td>\n",
              "    </tr>\n",
              "    <tr>\n",
              "      <th>142</th>\n",
              "      <td>1126</td>\n",
              "      <td>35 to 54</td>\n",
              "      <td>NaN</td>\n",
              "      <td>5</td>\n",
              "      <td>1</td>\n",
              "      <td>0</td>\n",
              "      <td>General</td>\n",
              "      <td>Jackets</td>\n",
              "      <td>2017-07-31 23:00:00</td>\n",
              "      <td>Monday</td>\n",
              "    </tr>\n",
              "  </tbody>\n",
              "</table>\n",
              "</div>"
            ],
            "text/plain": [
              "     clothing_id age_group review_text  ...  category         review_date   weekday\n",
              "92           861  18 to 24         NaN  ...      Tops 2017-08-19 02:00:00  Saturday\n",
              "93          1081  25 to 34         NaN  ...   Dresses 2017-08-29 04:00:00   Tuesday\n",
              "98          1133  35 to 54         NaN  ...   Jackets 2017-03-04 10:00:00  Saturday\n",
              "135          861  35 to 54         NaN  ...      Tops 2017-11-18 10:00:00  Saturday\n",
              "142         1126  35 to 54         NaN  ...   Jackets 2017-07-31 23:00:00    Monday\n",
              "\n",
              "[5 rows x 10 columns]"
            ]
          },
          "metadata": {
            "tags": []
          },
          "execution_count": 99
        }
      ]
    },
    {
      "cell_type": "markdown",
      "metadata": {
        "id": "tUp9TzLrTuAa"
      },
      "source": [
        "Go ahead and use `notna()` to extract all the rows where `weekday` column is not missing:"
      ]
    },
    {
      "cell_type": "code",
      "metadata": {
        "id": "t2Rp9WjLTuAb"
      },
      "source": [
        "## Your code below\n",
        "\n",
        "\n",
        "## -- Solution code"
      ],
      "execution_count": null,
      "outputs": []
    },
    {
      "cell_type": "markdown",
      "metadata": {
        "id": "cmt1QjCDTuAb"
      },
      "source": [
        "Another common use-case in missing values treatment is to count the number of `NAs` across each column:"
      ]
    },
    {
      "cell_type": "code",
      "metadata": {
        "id": "QrdO0IHJTuAc",
        "colab": {
          "base_uri": "https://localhost:8080/"
        },
        "outputId": "fb6d77ee-ccb8-498e-ffd1-2adeb1844470"
      },
      "source": [
        "review.isna().sum()"
      ],
      "execution_count": null,
      "outputs": [
        {
          "output_type": "execute_result",
          "data": {
            "text/plain": [
              "clothing_id                  0\n",
              "age_group                    0\n",
              "review_text                845\n",
              "rating                       0\n",
              "recommended_ind              0\n",
              "positive_feedback_count      0\n",
              "division_name               14\n",
              "category                    14\n",
              "review_date                  0\n",
              "weekday                      0\n",
              "dtype: int64"
            ]
          },
          "metadata": {
            "tags": []
          },
          "execution_count": 100
        }
      ]
    },
    {
      "cell_type": "markdown",
      "metadata": {
        "id": "F_Sm1hvdTuAc"
      },
      "source": [
        "When we are certain that the rows with `NA`s can be safely dropped, we can use `dropna()`, optionally specifying a threshold. By default, this method drops the row if any NA value is present (`how='any'`), but it can be set to do this only when all values are NA in that row (`how='all'`).\n",
        "\n",
        "```\n",
        "    # drops row if all values are NA\n",
        "    review.dropna(how='all')\n",
        "    \n",
        "    # drops row if it doesn't have at least 5 non-NA values\n",
        "    review.dropna(thresh=5) \n",
        "```"
      ]
    },
    {
      "cell_type": "code",
      "metadata": {
        "id": "a3mq2F6BTuAc",
        "colab": {
          "base_uri": "https://localhost:8080/"
        },
        "outputId": "3aac89e1-a7b0-424c-b9bf-f94dcb12092f"
      },
      "source": [
        "review.dropna(thresh=9).isna().sum()"
      ],
      "execution_count": null,
      "outputs": [
        {
          "output_type": "execute_result",
          "data": {
            "text/plain": [
              "clothing_id                  0\n",
              "age_group                    0\n",
              "review_text                844\n",
              "rating                       0\n",
              "recommended_ind              0\n",
              "positive_feedback_count      0\n",
              "division_name                0\n",
              "category                     0\n",
              "review_date                  0\n",
              "weekday                      0\n",
              "dtype: int64"
            ]
          },
          "metadata": {
            "tags": []
          },
          "execution_count": 101
        }
      ]
    },
    {
      "cell_type": "markdown",
      "metadata": {
        "id": "EipP7-XhTuAc"
      },
      "source": [
        "When we have data where duplicated observations are recorded, we can use `.drop_duplicates()` specifying whether the first occurence or the last should be kept:"
      ]
    },
    {
      "cell_type": "code",
      "metadata": {
        "id": "-2NuR-NBTuAd",
        "colab": {
          "base_uri": "https://localhost:8080/"
        },
        "outputId": "1d98ab4c-429b-450d-fe37-1f68d4bea8f1"
      },
      "source": [
        "print(review.shape)\n",
        "print(review.drop_duplicates(keep=\"first\").shape)"
      ],
      "execution_count": null,
      "outputs": [
        {
          "output_type": "stream",
          "text": [
            "(23486, 10)\n",
            "(23484, 10)\n"
          ],
          "name": "stdout"
        }
      ]
    },
    {
      "cell_type": "markdown",
      "metadata": {
        "id": "Eyt5JNlUTuAd"
      },
      "source": [
        "**Discussion:**\n",
        "1. Duplicates may mean a different thing from a data point-of-view and a business analyst's point-of-view. You want to be extra careful about whether the duplicates is an intended characteristic of your data, or whether it poses a violation to the business logic. \n",
        "\n",
        "    - a. A medical center collects anonymized heart rate monitoring data from patients. It has duplicate observations collected across a span of 3 months\n",
        "    - b. An insurance company uses machine learning to deliver dynamic pricing to its customers. Each row contains the customer's name, occupation / profession and historical health data. It has duplicate observations collected across a span of 3 months\n",
        "    - c. On our original `review` data, check for duplicate observations. Would you have drop the duplicated rows?"
      ]
    },
    {
      "cell_type": "markdown",
      "metadata": {
        "id": "jXNascXlTuAd"
      },
      "source": [
        "\n",
        "2. Once you've identified the missing values, there are 3 common ways to deal with it:\n",
        "\n",
        "    - a. Use `dropna` with a reasonable threshold to remove any rows that contain too little values rendering it unhelpful to your analysis\n",
        "    - b. Replace the missing values with a central value (mean or median)\n",
        "    - c. Imputation through a predictive model\n",
        "        - In a dataframe where `salary` is missing but the bank has data about the customer's occupation / profession, years of experience, years of education, seniority level, age, and industry, then a machine learning model such as regression or nearest neighbor can offer a viable alternative to the mean imputation approach\n",
        " \n",
        "Going back to `review`: what is a reasonable strategy?\n",
        "\n",
        "---"
      ]
    },
    {
      "cell_type": "markdown",
      "metadata": {
        "id": "-a0GeDRrTuAd"
      },
      "source": [
        "# Data Wrangling and Reshaping\n",
        "\n",
        "In the previous sections, we've got our hands on a few common techniques and learned how to explore data using `pandas` built-in methods. Specifically, we've  in the first and second part of this series how to use the following inspection, diagnostic and exploratory tools: \n",
        "\n",
        "**Data Inspection**\n",
        "- `.head()` and `.tail()`\n",
        "- `.describe()`\n",
        "- `.shape` and `.size`\n",
        "- `.axes`\n",
        "- `.dtypes`\n",
        "- Subsetting using `.loc`, `.iloc` and conditionals\n",
        "\n",
        "**Diagnostic and Exploratory**\n",
        "- Tables\n",
        "- Cross-Tables and Aggregates\n",
        "- Using `aggfunc` for aggregate functions\n",
        "- Pivot Tables\n",
        "- Working with DateTime\n",
        "- Working with Categorical Data\n",
        "- Duplicates and Missing Value Treatment\n",
        "\n",
        "The first half of this section serves as an extension from the last. We'll pick up some new techniques to supplement our EDA toolset. Let us begin with reshaping techniques. "
      ]
    },
    {
      "cell_type": "markdown",
      "metadata": {
        "id": "T5RyWQStTuAd"
      },
      "source": [
        "## Pickling pandas DataFrame\n",
        "\n",
        "Python pickle module is used for serializing and de-serializing a Python object structure. Any object in Python can be pickled so that it can be saved on disk. Pandas also has a very easy to use pickling functions. Let's try to read in a pickle file called `traffic.pkl` in our `data_input/` folder in our directory. "
      ]
    },
    {
      "cell_type": "code",
      "metadata": {
        "scrolled": false,
        "id": "H1CVGIJCTuAe",
        "colab": {
          "base_uri": "https://localhost:8080/",
          "height": 387
        },
        "outputId": "7648e0b9-3b04-4105-94b7-cd4ab97ecf4e"
      },
      "source": [
        "traffic = pd.read_pickle('/content/gdrive/My Drive/Data science with Python by Algorit.ma/2_PythonDW/data_input/traffic.pkl')\n",
        "traffic.head()"
      ],
      "execution_count": null,
      "outputs": [
        {
          "output_type": "error",
          "ename": "FileNotFoundError",
          "evalue": "ignored",
          "traceback": [
            "\u001b[0;31m---------------------------------------------------------------------------\u001b[0m",
            "\u001b[0;31mFileNotFoundError\u001b[0m                         Traceback (most recent call last)",
            "\u001b[0;32m<ipython-input-109-d5a48075c57a>\u001b[0m in \u001b[0;36m<module>\u001b[0;34m()\u001b[0m\n\u001b[0;32m----> 1\u001b[0;31m \u001b[0mtraffic\u001b[0m \u001b[0;34m=\u001b[0m \u001b[0mpd\u001b[0m\u001b[0;34m.\u001b[0m\u001b[0mread_pickle\u001b[0m\u001b[0;34m(\u001b[0m\u001b[0;34m'/content/gdrive/My Drive/Data science with Python by Algorit.ma/2_PythonDW/data_input/traffic.pkl'\u001b[0m\u001b[0;34m)\u001b[0m\u001b[0;34m\u001b[0m\u001b[0;34m\u001b[0m\u001b[0m\n\u001b[0m\u001b[1;32m      2\u001b[0m \u001b[0mtraffic\u001b[0m\u001b[0;34m.\u001b[0m\u001b[0mhead\u001b[0m\u001b[0;34m(\u001b[0m\u001b[0;34m)\u001b[0m\u001b[0;34m\u001b[0m\u001b[0;34m\u001b[0m\u001b[0m\n",
            "\u001b[0;32m/usr/local/lib/python3.6/dist-packages/pandas/io/pickle.py\u001b[0m in \u001b[0;36mread_pickle\u001b[0;34m(filepath_or_buffer, compression)\u001b[0m\n\u001b[1;32m    167\u001b[0m     \u001b[0;32mif\u001b[0m \u001b[0;32mnot\u001b[0m \u001b[0misinstance\u001b[0m\u001b[0;34m(\u001b[0m\u001b[0mfp_or_buf\u001b[0m\u001b[0;34m,\u001b[0m \u001b[0mstr\u001b[0m\u001b[0;34m)\u001b[0m \u001b[0;32mand\u001b[0m \u001b[0mcompression\u001b[0m \u001b[0;34m==\u001b[0m \u001b[0;34m\"infer\"\u001b[0m\u001b[0;34m:\u001b[0m\u001b[0;34m\u001b[0m\u001b[0;34m\u001b[0m\u001b[0m\n\u001b[1;32m    168\u001b[0m         \u001b[0mcompression\u001b[0m \u001b[0;34m=\u001b[0m \u001b[0;32mNone\u001b[0m\u001b[0;34m\u001b[0m\u001b[0;34m\u001b[0m\u001b[0m\n\u001b[0;32m--> 169\u001b[0;31m     \u001b[0mf\u001b[0m\u001b[0;34m,\u001b[0m \u001b[0mfh\u001b[0m \u001b[0;34m=\u001b[0m \u001b[0mget_handle\u001b[0m\u001b[0;34m(\u001b[0m\u001b[0mfp_or_buf\u001b[0m\u001b[0;34m,\u001b[0m \u001b[0;34m\"rb\"\u001b[0m\u001b[0;34m,\u001b[0m \u001b[0mcompression\u001b[0m\u001b[0;34m=\u001b[0m\u001b[0mcompression\u001b[0m\u001b[0;34m,\u001b[0m \u001b[0mis_text\u001b[0m\u001b[0;34m=\u001b[0m\u001b[0;32mFalse\u001b[0m\u001b[0;34m)\u001b[0m\u001b[0;34m\u001b[0m\u001b[0;34m\u001b[0m\u001b[0m\n\u001b[0m\u001b[1;32m    170\u001b[0m \u001b[0;34m\u001b[0m\u001b[0m\n\u001b[1;32m    171\u001b[0m     \u001b[0;31m# 1) try standard library Pickle\u001b[0m\u001b[0;34m\u001b[0m\u001b[0;34m\u001b[0m\u001b[0;34m\u001b[0m\u001b[0m\n",
            "\u001b[0;32m/usr/local/lib/python3.6/dist-packages/pandas/io/common.py\u001b[0m in \u001b[0;36mget_handle\u001b[0;34m(path_or_buf, mode, encoding, compression, memory_map, is_text, errors)\u001b[0m\n\u001b[1;32m    497\u001b[0m         \u001b[0;32melse\u001b[0m\u001b[0;34m:\u001b[0m\u001b[0;34m\u001b[0m\u001b[0;34m\u001b[0m\u001b[0m\n\u001b[1;32m    498\u001b[0m             \u001b[0;31m# Binary mode\u001b[0m\u001b[0;34m\u001b[0m\u001b[0;34m\u001b[0m\u001b[0;34m\u001b[0m\u001b[0m\n\u001b[0;32m--> 499\u001b[0;31m             \u001b[0mf\u001b[0m \u001b[0;34m=\u001b[0m \u001b[0mopen\u001b[0m\u001b[0;34m(\u001b[0m\u001b[0mpath_or_buf\u001b[0m\u001b[0;34m,\u001b[0m \u001b[0mmode\u001b[0m\u001b[0;34m)\u001b[0m\u001b[0;34m\u001b[0m\u001b[0;34m\u001b[0m\u001b[0m\n\u001b[0m\u001b[1;32m    500\u001b[0m         \u001b[0mhandles\u001b[0m\u001b[0;34m.\u001b[0m\u001b[0mappend\u001b[0m\u001b[0;34m(\u001b[0m\u001b[0mf\u001b[0m\u001b[0;34m)\u001b[0m\u001b[0;34m\u001b[0m\u001b[0;34m\u001b[0m\u001b[0m\n\u001b[1;32m    501\u001b[0m \u001b[0;34m\u001b[0m\u001b[0m\n",
            "\u001b[0;31mFileNotFoundError\u001b[0m: [Errno 2] No such file or directory: '/content/gdrive/My Drive/Data science with Python by Algorit.ma/2_PythonDW/data_input/traffic.pkl'"
          ]
        }
      ]
    },
    {
      "cell_type": "markdown",
      "metadata": {
        "id": "qti3qb9mTuAe"
      },
      "source": [
        "See how the `read_pickle()` function read a `.pkl` file on the disk and generate a `DataFrame` from the file. So does this mean that we can save any `DataFrame` into an object? That is correct. Say for example you have completed a preprocessing steps for your dataset and you need to share it to your team. Let's take our `member` data frame and try to create a pickle out of it:"
      ]
    },
    {
      "cell_type": "code",
      "metadata": {
        "id": "hKwWNmqiTuAe",
        "colab": {
          "base_uri": "https://localhost:8080/"
        },
        "outputId": "5bc9d166-d869-4806-c1a9-dc98a701787a"
      },
      "source": [
        "member.dtypes"
      ],
      "execution_count": null,
      "outputs": [
        {
          "output_type": "execute_result",
          "data": {
            "text/plain": [
              "name                  object\n",
              "birth         datetime64[ns]\n",
              "gender              category\n",
              "vip                     bool\n",
              "ordercount             int64\n",
              "avgbuy               float64\n",
              "dtype: object"
            ]
          },
          "metadata": {
            "tags": []
          },
          "execution_count": 104
        }
      ]
    },
    {
      "cell_type": "markdown",
      "metadata": {
        "id": "Puz2C3GSTuAe"
      },
      "source": [
        "Then, we serialize the DataFrame object to a byte stream using `pandas.DataFrame.to_pickle`:"
      ]
    },
    {
      "cell_type": "code",
      "metadata": {
        "id": "zPpy-HvrTuAe",
        "colab": {
          "base_uri": "https://localhost:8080/",
          "height": 441
        },
        "outputId": "fa902a65-2833-42de-b2b0-f7e0115c600b"
      },
      "source": [
        "member.to_pickle('/content/gdrive/My Drive/Data science with Python by Algorit.ma/2_PythonDW/data_input/member.pkl')\n",
        "\n",
        "member2 = pd.read_pickle('/content/gdrive/My Drive/Data science with Python by Algorit.ma/2_PythonDW/data_input/member.pkl')\n",
        "member2.dtypes"
      ],
      "execution_count": null,
      "outputs": [
        {
          "output_type": "error",
          "ename": "FileNotFoundError",
          "evalue": "ignored",
          "traceback": [
            "\u001b[0;31m---------------------------------------------------------------------------\u001b[0m",
            "\u001b[0;31mFileNotFoundError\u001b[0m                         Traceback (most recent call last)",
            "\u001b[0;32m<ipython-input-112-3ed0fc40d415>\u001b[0m in \u001b[0;36m<module>\u001b[0;34m()\u001b[0m\n\u001b[0;32m----> 1\u001b[0;31m \u001b[0mmember\u001b[0m\u001b[0;34m.\u001b[0m\u001b[0mto_pickle\u001b[0m\u001b[0;34m(\u001b[0m\u001b[0;34m'/content/gdrive/My Drive/Data science with Python by Algorit.ma/2_PythonDW/data_input/member.pkl'\u001b[0m\u001b[0;34m)\u001b[0m\u001b[0;34m\u001b[0m\u001b[0;34m\u001b[0m\u001b[0m\n\u001b[0m\u001b[1;32m      2\u001b[0m \u001b[0;34m\u001b[0m\u001b[0m\n\u001b[1;32m      3\u001b[0m \u001b[0mmember2\u001b[0m \u001b[0;34m=\u001b[0m \u001b[0mpd\u001b[0m\u001b[0;34m.\u001b[0m\u001b[0mread_pickle\u001b[0m\u001b[0;34m(\u001b[0m\u001b[0;34m'/content/gdrive/My Drive/Data science with Python by Algorit.ma/2_PythonDW/data_input/member.pkl'\u001b[0m\u001b[0;34m)\u001b[0m\u001b[0;34m\u001b[0m\u001b[0;34m\u001b[0m\u001b[0m\n\u001b[1;32m      4\u001b[0m \u001b[0mmember2\u001b[0m\u001b[0;34m.\u001b[0m\u001b[0mdtypes\u001b[0m\u001b[0;34m\u001b[0m\u001b[0;34m\u001b[0m\u001b[0m\n",
            "\u001b[0;32m/usr/local/lib/python3.6/dist-packages/pandas/core/generic.py\u001b[0m in \u001b[0;36mto_pickle\u001b[0;34m(self, path, compression, protocol)\u001b[0m\n\u001b[1;32m   2674\u001b[0m         \u001b[0;32mfrom\u001b[0m \u001b[0mpandas\u001b[0m\u001b[0;34m.\u001b[0m\u001b[0mio\u001b[0m\u001b[0;34m.\u001b[0m\u001b[0mpickle\u001b[0m \u001b[0;32mimport\u001b[0m \u001b[0mto_pickle\u001b[0m\u001b[0;34m\u001b[0m\u001b[0;34m\u001b[0m\u001b[0m\n\u001b[1;32m   2675\u001b[0m \u001b[0;34m\u001b[0m\u001b[0m\n\u001b[0;32m-> 2676\u001b[0;31m         \u001b[0mto_pickle\u001b[0m\u001b[0;34m(\u001b[0m\u001b[0mself\u001b[0m\u001b[0;34m,\u001b[0m \u001b[0mpath\u001b[0m\u001b[0;34m,\u001b[0m \u001b[0mcompression\u001b[0m\u001b[0;34m=\u001b[0m\u001b[0mcompression\u001b[0m\u001b[0;34m,\u001b[0m \u001b[0mprotocol\u001b[0m\u001b[0;34m=\u001b[0m\u001b[0mprotocol\u001b[0m\u001b[0;34m)\u001b[0m\u001b[0;34m\u001b[0m\u001b[0;34m\u001b[0m\u001b[0m\n\u001b[0m\u001b[1;32m   2677\u001b[0m \u001b[0;34m\u001b[0m\u001b[0m\n\u001b[1;32m   2678\u001b[0m     def to_clipboard(\n",
            "\u001b[0;32m/usr/local/lib/python3.6/dist-packages/pandas/io/pickle.py\u001b[0m in \u001b[0;36mto_pickle\u001b[0;34m(obj, filepath_or_buffer, compression, protocol)\u001b[0m\n\u001b[1;32m     81\u001b[0m     \u001b[0;32mif\u001b[0m \u001b[0;32mnot\u001b[0m \u001b[0misinstance\u001b[0m\u001b[0;34m(\u001b[0m\u001b[0mfp_or_buf\u001b[0m\u001b[0;34m,\u001b[0m \u001b[0mstr\u001b[0m\u001b[0;34m)\u001b[0m \u001b[0;32mand\u001b[0m \u001b[0mcompression\u001b[0m \u001b[0;34m==\u001b[0m \u001b[0;34m\"infer\"\u001b[0m\u001b[0;34m:\u001b[0m\u001b[0;34m\u001b[0m\u001b[0;34m\u001b[0m\u001b[0m\n\u001b[1;32m     82\u001b[0m         \u001b[0mcompression\u001b[0m \u001b[0;34m=\u001b[0m \u001b[0;32mNone\u001b[0m\u001b[0;34m\u001b[0m\u001b[0;34m\u001b[0m\u001b[0m\n\u001b[0;32m---> 83\u001b[0;31m     \u001b[0mf\u001b[0m\u001b[0;34m,\u001b[0m \u001b[0mfh\u001b[0m \u001b[0;34m=\u001b[0m \u001b[0mget_handle\u001b[0m\u001b[0;34m(\u001b[0m\u001b[0mfp_or_buf\u001b[0m\u001b[0;34m,\u001b[0m \u001b[0;34m\"wb\"\u001b[0m\u001b[0;34m,\u001b[0m \u001b[0mcompression\u001b[0m\u001b[0;34m=\u001b[0m\u001b[0mcompression\u001b[0m\u001b[0;34m,\u001b[0m \u001b[0mis_text\u001b[0m\u001b[0;34m=\u001b[0m\u001b[0;32mFalse\u001b[0m\u001b[0;34m)\u001b[0m\u001b[0;34m\u001b[0m\u001b[0;34m\u001b[0m\u001b[0m\n\u001b[0m\u001b[1;32m     84\u001b[0m     \u001b[0;32mif\u001b[0m \u001b[0mprotocol\u001b[0m \u001b[0;34m<\u001b[0m \u001b[0;36m0\u001b[0m\u001b[0;34m:\u001b[0m\u001b[0;34m\u001b[0m\u001b[0;34m\u001b[0m\u001b[0m\n\u001b[1;32m     85\u001b[0m         \u001b[0mprotocol\u001b[0m \u001b[0;34m=\u001b[0m \u001b[0mpickle\u001b[0m\u001b[0;34m.\u001b[0m\u001b[0mHIGHEST_PROTOCOL\u001b[0m\u001b[0;34m\u001b[0m\u001b[0;34m\u001b[0m\u001b[0m\n",
            "\u001b[0;32m/usr/local/lib/python3.6/dist-packages/pandas/io/common.py\u001b[0m in \u001b[0;36mget_handle\u001b[0;34m(path_or_buf, mode, encoding, compression, memory_map, is_text, errors)\u001b[0m\n\u001b[1;32m    497\u001b[0m         \u001b[0;32melse\u001b[0m\u001b[0;34m:\u001b[0m\u001b[0;34m\u001b[0m\u001b[0;34m\u001b[0m\u001b[0m\n\u001b[1;32m    498\u001b[0m             \u001b[0;31m# Binary mode\u001b[0m\u001b[0;34m\u001b[0m\u001b[0;34m\u001b[0m\u001b[0;34m\u001b[0m\u001b[0m\n\u001b[0;32m--> 499\u001b[0;31m             \u001b[0mf\u001b[0m \u001b[0;34m=\u001b[0m \u001b[0mopen\u001b[0m\u001b[0;34m(\u001b[0m\u001b[0mpath_or_buf\u001b[0m\u001b[0;34m,\u001b[0m \u001b[0mmode\u001b[0m\u001b[0;34m)\u001b[0m\u001b[0;34m\u001b[0m\u001b[0;34m\u001b[0m\u001b[0m\n\u001b[0m\u001b[1;32m    500\u001b[0m         \u001b[0mhandles\u001b[0m\u001b[0;34m.\u001b[0m\u001b[0mappend\u001b[0m\u001b[0;34m(\u001b[0m\u001b[0mf\u001b[0m\u001b[0;34m)\u001b[0m\u001b[0;34m\u001b[0m\u001b[0;34m\u001b[0m\u001b[0m\n\u001b[1;32m    501\u001b[0m \u001b[0;34m\u001b[0m\u001b[0m\n",
            "\u001b[0;31mFileNotFoundError\u001b[0m: [Errno 2] No such file or directory: '/content/gdrive/My Drive/Data science with Python by Algorit.ma/2_PythonDW/data_input/member.pkl'"
          ]
        }
      ]
    },
    {
      "cell_type": "markdown",
      "metadata": {
        "id": "lRFHmowwTuAf"
      },
      "source": [
        "## Data Reshaping\n",
        "\n",
        "### `stack()` and `unstack()`\n",
        "\n",
        "`stack()` stack the prescribed level(s) from columns to index and is particularly useful on DataFrames having a multi-level columns. It does so by \"shifting\" the columns to create new levels on its index. \n",
        "\n",
        "This is easier understood when we just see an example. Notice that `traffic` has a 2-level column (Device Category and each traffic parameters) and 1-level index (Date):"
      ]
    },
    {
      "cell_type": "code",
      "metadata": {
        "id": "SWzwdYJBTuAf",
        "colab": {
          "base_uri": "https://localhost:8080/",
          "height": 274
        },
        "outputId": "00e62dd1-3b75-47dc-bd5e-32a03dca4e7c"
      },
      "source": [
        "traffic.tail()"
      ],
      "execution_count": null,
      "outputs": [
        {
          "output_type": "execute_result",
          "data": {
            "text/html": [
              "<div>\n",
              "<style scoped>\n",
              "    .dataframe tbody tr th:only-of-type {\n",
              "        vertical-align: middle;\n",
              "    }\n",
              "\n",
              "    .dataframe tbody tr th {\n",
              "        vertical-align: top;\n",
              "    }\n",
              "\n",
              "    .dataframe thead tr th {\n",
              "        text-align: left;\n",
              "    }\n",
              "\n",
              "    .dataframe thead tr:last-of-type th {\n",
              "        text-align: right;\n",
              "    }\n",
              "</style>\n",
              "<table border=\"1\" class=\"dataframe\">\n",
              "  <thead>\n",
              "    <tr>\n",
              "      <th></th>\n",
              "      <th colspan=\"3\" halign=\"left\">Bounce Rate</th>\n",
              "      <th colspan=\"3\" halign=\"left\">Sessions</th>\n",
              "      <th colspan=\"3\" halign=\"left\">Total Visitors</th>\n",
              "    </tr>\n",
              "    <tr>\n",
              "      <th>Device Category</th>\n",
              "      <th>desktop</th>\n",
              "      <th>mobile</th>\n",
              "      <th>tablet</th>\n",
              "      <th>desktop</th>\n",
              "      <th>mobile</th>\n",
              "      <th>tablet</th>\n",
              "      <th>desktop</th>\n",
              "      <th>mobile</th>\n",
              "      <th>tablet</th>\n",
              "    </tr>\n",
              "    <tr>\n",
              "      <th>Date</th>\n",
              "      <th></th>\n",
              "      <th></th>\n",
              "      <th></th>\n",
              "      <th></th>\n",
              "      <th></th>\n",
              "      <th></th>\n",
              "      <th></th>\n",
              "      <th></th>\n",
              "      <th></th>\n",
              "    </tr>\n",
              "  </thead>\n",
              "  <tbody>\n",
              "    <tr>\n",
              "      <th>2019-06-26</th>\n",
              "      <td>32.394944</td>\n",
              "      <td>48.672402</td>\n",
              "      <td>44.497656</td>\n",
              "      <td>1078.000000</td>\n",
              "      <td>835.851064</td>\n",
              "      <td>77.814815</td>\n",
              "      <td>894.437500</td>\n",
              "      <td>642.574468</td>\n",
              "      <td>64.814815</td>\n",
              "    </tr>\n",
              "    <tr>\n",
              "      <th>2019-06-27</th>\n",
              "      <td>50.778923</td>\n",
              "      <td>55.180274</td>\n",
              "      <td>47.058824</td>\n",
              "      <td>953.480769</td>\n",
              "      <td>790.500000</td>\n",
              "      <td>93.647059</td>\n",
              "      <td>813.153846</td>\n",
              "      <td>635.142857</td>\n",
              "      <td>75.470588</td>\n",
              "    </tr>\n",
              "    <tr>\n",
              "      <th>2019-06-28</th>\n",
              "      <td>42.412381</td>\n",
              "      <td>53.702514</td>\n",
              "      <td>55.248658</td>\n",
              "      <td>728.851064</td>\n",
              "      <td>902.729730</td>\n",
              "      <td>72.875000</td>\n",
              "      <td>604.893617</td>\n",
              "      <td>725.324324</td>\n",
              "      <td>61.625000</td>\n",
              "    </tr>\n",
              "    <tr>\n",
              "      <th>2019-06-29</th>\n",
              "      <td>35.244142</td>\n",
              "      <td>48.952851</td>\n",
              "      <td>25.000000</td>\n",
              "      <td>210.684211</td>\n",
              "      <td>549.027027</td>\n",
              "      <td>78.000000</td>\n",
              "      <td>192.315789</td>\n",
              "      <td>467.108108</td>\n",
              "      <td>58.500000</td>\n",
              "    </tr>\n",
              "    <tr>\n",
              "      <th>2019-06-30</th>\n",
              "      <td>40.833044</td>\n",
              "      <td>46.124542</td>\n",
              "      <td>39.668914</td>\n",
              "      <td>228.375000</td>\n",
              "      <td>584.307692</td>\n",
              "      <td>122.142857</td>\n",
              "      <td>196.843750</td>\n",
              "      <td>517.038462</td>\n",
              "      <td>103.714286</td>\n",
              "    </tr>\n",
              "  </tbody>\n",
              "</table>\n",
              "</div>"
            ],
            "text/plain": [
              "                Bounce Rate             ... Total Visitors            \n",
              "Device Category     desktop     mobile  ...         mobile      tablet\n",
              "Date                                    ...                           \n",
              "2019-06-26        32.394944  48.672402  ...     642.574468   64.814815\n",
              "2019-06-27        50.778923  55.180274  ...     635.142857   75.470588\n",
              "2019-06-28        42.412381  53.702514  ...     725.324324   61.625000\n",
              "2019-06-29        35.244142  48.952851  ...     467.108108   58.500000\n",
              "2019-06-30        40.833044  46.124542  ...     517.038462  103.714286\n",
              "\n",
              "[5 rows x 9 columns]"
            ]
          },
          "metadata": {
            "tags": []
          },
          "execution_count": 113
        }
      ]
    },
    {
      "cell_type": "markdown",
      "metadata": {
        "id": "IV44nF0CTuAf"
      },
      "source": [
        "When we stack the `traffic` DataFrame, we shrink the number of levels on its column by one: `traffic` now has 1-level column which is `Device Category`: "
      ]
    },
    {
      "cell_type": "code",
      "metadata": {
        "id": "NUFzW9ovTuAf",
        "colab": {
          "base_uri": "https://localhost:8080/",
          "height": 317
        },
        "outputId": "9c21db03-ef46-4fbd-c1d2-f0c5e5a4b9ab"
      },
      "source": [
        "traffic.stack().head(8)"
      ],
      "execution_count": null,
      "outputs": [
        {
          "output_type": "execute_result",
          "data": {
            "text/html": [
              "<div>\n",
              "<style scoped>\n",
              "    .dataframe tbody tr th:only-of-type {\n",
              "        vertical-align: middle;\n",
              "    }\n",
              "\n",
              "    .dataframe tbody tr th {\n",
              "        vertical-align: top;\n",
              "    }\n",
              "\n",
              "    .dataframe thead th {\n",
              "        text-align: right;\n",
              "    }\n",
              "</style>\n",
              "<table border=\"1\" class=\"dataframe\">\n",
              "  <thead>\n",
              "    <tr style=\"text-align: right;\">\n",
              "      <th></th>\n",
              "      <th></th>\n",
              "      <th>Bounce Rate</th>\n",
              "      <th>Sessions</th>\n",
              "      <th>Total Visitors</th>\n",
              "    </tr>\n",
              "    <tr>\n",
              "      <th>Date</th>\n",
              "      <th>Device Category</th>\n",
              "      <th></th>\n",
              "      <th></th>\n",
              "      <th></th>\n",
              "    </tr>\n",
              "  </thead>\n",
              "  <tbody>\n",
              "    <tr>\n",
              "      <th rowspan=\"3\" valign=\"top\">2019-06-01</th>\n",
              "      <th>desktop</th>\n",
              "      <td>41.455099</td>\n",
              "      <td>337.921687</td>\n",
              "      <td>314.909639</td>\n",
              "    </tr>\n",
              "    <tr>\n",
              "      <th>mobile</th>\n",
              "      <td>64.462710</td>\n",
              "      <td>582.246269</td>\n",
              "      <td>477.708955</td>\n",
              "    </tr>\n",
              "    <tr>\n",
              "      <th>tablet</th>\n",
              "      <td>20.012573</td>\n",
              "      <td>115.878788</td>\n",
              "      <td>115.878788</td>\n",
              "    </tr>\n",
              "    <tr>\n",
              "      <th rowspan=\"3\" valign=\"top\">2019-06-02</th>\n",
              "      <th>desktop</th>\n",
              "      <td>32.372644</td>\n",
              "      <td>320.876543</td>\n",
              "      <td>305.611111</td>\n",
              "    </tr>\n",
              "    <tr>\n",
              "      <th>mobile</th>\n",
              "      <td>46.659636</td>\n",
              "      <td>916.636364</td>\n",
              "      <td>741.898990</td>\n",
              "    </tr>\n",
              "    <tr>\n",
              "      <th>tablet</th>\n",
              "      <td>44.833929</td>\n",
              "      <td>132.492308</td>\n",
              "      <td>131.892308</td>\n",
              "    </tr>\n",
              "    <tr>\n",
              "      <th rowspan=\"2\" valign=\"top\">2019-06-03</th>\n",
              "      <th>desktop</th>\n",
              "      <td>28.904192</td>\n",
              "      <td>821.010471</td>\n",
              "      <td>744.178010</td>\n",
              "    </tr>\n",
              "    <tr>\n",
              "      <th>mobile</th>\n",
              "      <td>43.962397</td>\n",
              "      <td>891.817610</td>\n",
              "      <td>695.792453</td>\n",
              "    </tr>\n",
              "  </tbody>\n",
              "</table>\n",
              "</div>"
            ],
            "text/plain": [
              "                            Bounce Rate    Sessions  Total Visitors\n",
              "Date       Device Category                                         \n",
              "2019-06-01 desktop            41.455099  337.921687      314.909639\n",
              "           mobile             64.462710  582.246269      477.708955\n",
              "           tablet             20.012573  115.878788      115.878788\n",
              "2019-06-02 desktop            32.372644  320.876543      305.611111\n",
              "           mobile             46.659636  916.636364      741.898990\n",
              "           tablet             44.833929  132.492308      131.892308\n",
              "2019-06-03 desktop            28.904192  821.010471      744.178010\n",
              "           mobile             43.962397  891.817610      695.792453"
            ]
          },
          "metadata": {
            "tags": []
          },
          "execution_count": 114
        }
      ]
    },
    {
      "cell_type": "markdown",
      "metadata": {
        "id": "t33WRIdvTuAg"
      },
      "source": [
        "`unstack()` does the opposite: it \"shifts\" the levels from index axis onto column axis. Try and create a stack DataFrame, and then apply `unstack` on the new DataFrame to see it return to the original shape:"
      ]
    },
    {
      "cell_type": "code",
      "metadata": {
        "id": "P8Hj3xudTuAg",
        "colab": {
          "base_uri": "https://localhost:8080/",
          "height": 214
        },
        "outputId": "9cbddf53-2955-4dbd-be41-96a8d77e82c4"
      },
      "source": [
        "## Your code below\n"
      ],
      "execution_count": null,
      "outputs": [
        {
          "output_type": "execute_result",
          "data": {
            "text/html": [
              "<div>\n",
              "<style scoped>\n",
              "    .dataframe tbody tr th:only-of-type {\n",
              "        vertical-align: middle;\n",
              "    }\n",
              "\n",
              "    .dataframe tbody tr th {\n",
              "        vertical-align: top;\n",
              "    }\n",
              "\n",
              "    .dataframe thead tr th {\n",
              "        text-align: left;\n",
              "    }\n",
              "\n",
              "    .dataframe thead tr:last-of-type th {\n",
              "        text-align: right;\n",
              "    }\n",
              "</style>\n",
              "<table border=\"1\" class=\"dataframe\">\n",
              "  <thead>\n",
              "    <tr>\n",
              "      <th></th>\n",
              "      <th colspan=\"3\" halign=\"left\">Bounce Rate</th>\n",
              "      <th colspan=\"3\" halign=\"left\">Sessions</th>\n",
              "      <th colspan=\"3\" halign=\"left\">Total Visitors</th>\n",
              "    </tr>\n",
              "    <tr>\n",
              "      <th>Device Category</th>\n",
              "      <th>desktop</th>\n",
              "      <th>mobile</th>\n",
              "      <th>tablet</th>\n",
              "      <th>desktop</th>\n",
              "      <th>mobile</th>\n",
              "      <th>tablet</th>\n",
              "      <th>desktop</th>\n",
              "      <th>mobile</th>\n",
              "      <th>tablet</th>\n",
              "    </tr>\n",
              "    <tr>\n",
              "      <th>Date</th>\n",
              "      <th></th>\n",
              "      <th></th>\n",
              "      <th></th>\n",
              "      <th></th>\n",
              "      <th></th>\n",
              "      <th></th>\n",
              "      <th></th>\n",
              "      <th></th>\n",
              "      <th></th>\n",
              "    </tr>\n",
              "  </thead>\n",
              "  <tbody>\n",
              "    <tr>\n",
              "      <th>2019-06-01</th>\n",
              "      <td>41.455099</td>\n",
              "      <td>64.462710</td>\n",
              "      <td>20.012573</td>\n",
              "      <td>337.921687</td>\n",
              "      <td>582.246269</td>\n",
              "      <td>115.878788</td>\n",
              "      <td>314.909639</td>\n",
              "      <td>477.708955</td>\n",
              "      <td>115.878788</td>\n",
              "    </tr>\n",
              "    <tr>\n",
              "      <th>2019-06-02</th>\n",
              "      <td>32.372644</td>\n",
              "      <td>46.659636</td>\n",
              "      <td>44.833929</td>\n",
              "      <td>320.876543</td>\n",
              "      <td>916.636364</td>\n",
              "      <td>132.492308</td>\n",
              "      <td>305.611111</td>\n",
              "      <td>741.898990</td>\n",
              "      <td>131.892308</td>\n",
              "    </tr>\n",
              "    <tr>\n",
              "      <th>2019-06-03</th>\n",
              "      <td>28.904192</td>\n",
              "      <td>43.962397</td>\n",
              "      <td>NaN</td>\n",
              "      <td>821.010471</td>\n",
              "      <td>891.817610</td>\n",
              "      <td>NaN</td>\n",
              "      <td>744.178010</td>\n",
              "      <td>695.792453</td>\n",
              "      <td>NaN</td>\n",
              "    </tr>\n",
              "  </tbody>\n",
              "</table>\n",
              "</div>"
            ],
            "text/plain": [
              "                Bounce Rate             ... Total Visitors            \n",
              "Device Category     desktop     mobile  ...         mobile      tablet\n",
              "Date                                    ...                           \n",
              "2019-06-01        41.455099  64.462710  ...     477.708955  115.878788\n",
              "2019-06-02        32.372644  46.659636  ...     741.898990  131.892308\n",
              "2019-06-03        28.904192  43.962397  ...     695.792453         NaN\n",
              "\n",
              "[3 rows x 9 columns]"
            ]
          },
          "metadata": {
            "tags": []
          },
          "execution_count": 115
        }
      ]
    },
    {
      "cell_type": "markdown",
      "metadata": {
        "id": "vcgnsF4VTuAg"
      },
      "source": [
        "**Discussion:**\n",
        "\n",
        "Which of the following statement is correct?\n",
        "\n",
        "- [ ] `stack()` changes the DataFrame from wide to long\n",
        "- [ ] `unstack()` changes the DataFrame from long to wide\n",
        "- [ ] `unstack()` changes the DataFrame from wide to long"
      ]
    },
    {
      "cell_type": "markdown",
      "metadata": {
        "id": "I2tzrMIhTuAg"
      },
      "source": [
        "### Melt\n",
        "\n",
        "Speaking of reshaping a DataFrame from wide format to long, another method that should be in your toolset is `melt()`. Consider the following DataFrame, which is created from `pandas` MultiIndex Slicers method, `.xs()`:"
      ]
    },
    {
      "cell_type": "code",
      "metadata": {
        "id": "PGouHhiyTuAg",
        "colab": {
          "base_uri": "https://localhost:8080/",
          "height": 227
        },
        "outputId": "c27ce5e5-eede-4bbe-9f23-29a32f1121f4"
      },
      "source": [
        "mobile = traffic.xs(['mobile'], level = ['Device Category'], axis = 1)\n",
        "mobile.head()"
      ],
      "execution_count": null,
      "outputs": [
        {
          "output_type": "execute_result",
          "data": {
            "text/html": [
              "<div>\n",
              "<style scoped>\n",
              "    .dataframe tbody tr th:only-of-type {\n",
              "        vertical-align: middle;\n",
              "    }\n",
              "\n",
              "    .dataframe tbody tr th {\n",
              "        vertical-align: top;\n",
              "    }\n",
              "\n",
              "    .dataframe thead th {\n",
              "        text-align: right;\n",
              "    }\n",
              "</style>\n",
              "<table border=\"1\" class=\"dataframe\">\n",
              "  <thead>\n",
              "    <tr style=\"text-align: right;\">\n",
              "      <th></th>\n",
              "      <th>Bounce Rate</th>\n",
              "      <th>Sessions</th>\n",
              "      <th>Total Visitors</th>\n",
              "    </tr>\n",
              "    <tr>\n",
              "      <th>Date</th>\n",
              "      <th></th>\n",
              "      <th></th>\n",
              "      <th></th>\n",
              "    </tr>\n",
              "  </thead>\n",
              "  <tbody>\n",
              "    <tr>\n",
              "      <th>2019-06-01</th>\n",
              "      <td>64.462710</td>\n",
              "      <td>582.246269</td>\n",
              "      <td>477.708955</td>\n",
              "    </tr>\n",
              "    <tr>\n",
              "      <th>2019-06-02</th>\n",
              "      <td>46.659636</td>\n",
              "      <td>916.636364</td>\n",
              "      <td>741.898990</td>\n",
              "    </tr>\n",
              "    <tr>\n",
              "      <th>2019-06-03</th>\n",
              "      <td>43.962397</td>\n",
              "      <td>891.817610</td>\n",
              "      <td>695.792453</td>\n",
              "    </tr>\n",
              "    <tr>\n",
              "      <th>2019-06-04</th>\n",
              "      <td>57.369383</td>\n",
              "      <td>837.184211</td>\n",
              "      <td>684.184211</td>\n",
              "    </tr>\n",
              "    <tr>\n",
              "      <th>2019-06-05</th>\n",
              "      <td>59.074780</td>\n",
              "      <td>647.034091</td>\n",
              "      <td>519.465909</td>\n",
              "    </tr>\n",
              "  </tbody>\n",
              "</table>\n",
              "</div>"
            ],
            "text/plain": [
              "            Bounce Rate    Sessions  Total Visitors\n",
              "Date                                               \n",
              "2019-06-01    64.462710  582.246269      477.708955\n",
              "2019-06-02    46.659636  916.636364      741.898990\n",
              "2019-06-03    43.962397  891.817610      695.792453\n",
              "2019-06-04    57.369383  837.184211      684.184211\n",
              "2019-06-05    59.074780  647.034091      519.465909"
            ]
          },
          "metadata": {
            "tags": []
          },
          "execution_count": 116
        }
      ]
    },
    {
      "cell_type": "code",
      "metadata": {
        "id": "O3dPY8McTuAh",
        "colab": {
          "base_uri": "https://localhost:8080/"
        },
        "outputId": "32bc1acd-64a2-4657-d5e6-5ac27a300adf"
      },
      "source": [
        "mobile.shape"
      ],
      "execution_count": null,
      "outputs": [
        {
          "output_type": "execute_result",
          "data": {
            "text/plain": [
              "(30, 3)"
            ]
          },
          "metadata": {
            "tags": []
          },
          "execution_count": 117
        }
      ]
    },
    {
      "cell_type": "markdown",
      "metadata": {
        "id": "owO8kwh6TuAh"
      },
      "source": [
        "The DataFrame above is wide: it has 35 rows and 3 columns. The `melt()` function gathers all the columns into one and store the value corresponding to each column such that the resulting DataFrame has 35 * 3 = 74 rows, along with the identifier and values columns:"
      ]
    },
    {
      "cell_type": "code",
      "metadata": {
        "id": "O5ffsHpZTuAh",
        "colab": {
          "base_uri": "https://localhost:8080/",
          "height": 406
        },
        "outputId": "c64a450b-f85a-40e5-d4de-361511343cd3"
      },
      "source": [
        "mobile_melted = mobile.melt()\n",
        "mobile_melted"
      ],
      "execution_count": null,
      "outputs": [
        {
          "output_type": "execute_result",
          "data": {
            "text/html": [
              "<div>\n",
              "<style scoped>\n",
              "    .dataframe tbody tr th:only-of-type {\n",
              "        vertical-align: middle;\n",
              "    }\n",
              "\n",
              "    .dataframe tbody tr th {\n",
              "        vertical-align: top;\n",
              "    }\n",
              "\n",
              "    .dataframe thead th {\n",
              "        text-align: right;\n",
              "    }\n",
              "</style>\n",
              "<table border=\"1\" class=\"dataframe\">\n",
              "  <thead>\n",
              "    <tr style=\"text-align: right;\">\n",
              "      <th></th>\n",
              "      <th>variable</th>\n",
              "      <th>value</th>\n",
              "    </tr>\n",
              "  </thead>\n",
              "  <tbody>\n",
              "    <tr>\n",
              "      <th>0</th>\n",
              "      <td>Bounce Rate</td>\n",
              "      <td>64.462710</td>\n",
              "    </tr>\n",
              "    <tr>\n",
              "      <th>1</th>\n",
              "      <td>Bounce Rate</td>\n",
              "      <td>46.659636</td>\n",
              "    </tr>\n",
              "    <tr>\n",
              "      <th>2</th>\n",
              "      <td>Bounce Rate</td>\n",
              "      <td>43.962397</td>\n",
              "    </tr>\n",
              "    <tr>\n",
              "      <th>3</th>\n",
              "      <td>Bounce Rate</td>\n",
              "      <td>57.369383</td>\n",
              "    </tr>\n",
              "    <tr>\n",
              "      <th>4</th>\n",
              "      <td>Bounce Rate</td>\n",
              "      <td>59.074780</td>\n",
              "    </tr>\n",
              "    <tr>\n",
              "      <th>...</th>\n",
              "      <td>...</td>\n",
              "      <td>...</td>\n",
              "    </tr>\n",
              "    <tr>\n",
              "      <th>85</th>\n",
              "      <td>Total Visitors</td>\n",
              "      <td>642.574468</td>\n",
              "    </tr>\n",
              "    <tr>\n",
              "      <th>86</th>\n",
              "      <td>Total Visitors</td>\n",
              "      <td>635.142857</td>\n",
              "    </tr>\n",
              "    <tr>\n",
              "      <th>87</th>\n",
              "      <td>Total Visitors</td>\n",
              "      <td>725.324324</td>\n",
              "    </tr>\n",
              "    <tr>\n",
              "      <th>88</th>\n",
              "      <td>Total Visitors</td>\n",
              "      <td>467.108108</td>\n",
              "    </tr>\n",
              "    <tr>\n",
              "      <th>89</th>\n",
              "      <td>Total Visitors</td>\n",
              "      <td>517.038462</td>\n",
              "    </tr>\n",
              "  </tbody>\n",
              "</table>\n",
              "<p>90 rows × 2 columns</p>\n",
              "</div>"
            ],
            "text/plain": [
              "          variable       value\n",
              "0      Bounce Rate   64.462710\n",
              "1      Bounce Rate   46.659636\n",
              "2      Bounce Rate   43.962397\n",
              "3      Bounce Rate   57.369383\n",
              "4      Bounce Rate   59.074780\n",
              "..             ...         ...\n",
              "85  Total Visitors  642.574468\n",
              "86  Total Visitors  635.142857\n",
              "87  Total Visitors  725.324324\n",
              "88  Total Visitors  467.108108\n",
              "89  Total Visitors  517.038462\n",
              "\n",
              "[90 rows x 2 columns]"
            ]
          },
          "metadata": {
            "tags": []
          },
          "execution_count": 118
        }
      ]
    },
    {
      "cell_type": "code",
      "metadata": {
        "id": "1Axzp8udTuAh",
        "outputId": "eaf74a30-e4c9-46e7-bb09-01e01497caf7"
      },
      "source": [
        "mobile_melted.shape"
      ],
      "execution_count": null,
      "outputs": [
        {
          "output_type": "execute_result",
          "data": {
            "text/plain": [
              "(90, 2)"
            ]
          },
          "metadata": {
            "tags": []
          },
          "execution_count": 60
        }
      ]
    },
    {
      "cell_type": "markdown",
      "metadata": {
        "id": "mf2fStfkTuAi"
      },
      "source": [
        "We can optionally specify one or more columns to be identifier variables (`id_vars`), which treat all other columns as value variables (`value_vars`):"
      ]
    },
    {
      "cell_type": "code",
      "metadata": {
        "id": "TL7bocSNTuAi",
        "colab": {
          "base_uri": "https://localhost:8080/",
          "height": 197
        },
        "outputId": "f86685d0-192a-4fb9-bd8c-3494e9b47fe5"
      },
      "source": [
        "mobile.reset_index().melt(id_vars='Date').head()"
      ],
      "execution_count": null,
      "outputs": [
        {
          "output_type": "execute_result",
          "data": {
            "text/html": [
              "<div>\n",
              "<style scoped>\n",
              "    .dataframe tbody tr th:only-of-type {\n",
              "        vertical-align: middle;\n",
              "    }\n",
              "\n",
              "    .dataframe tbody tr th {\n",
              "        vertical-align: top;\n",
              "    }\n",
              "\n",
              "    .dataframe thead th {\n",
              "        text-align: right;\n",
              "    }\n",
              "</style>\n",
              "<table border=\"1\" class=\"dataframe\">\n",
              "  <thead>\n",
              "    <tr style=\"text-align: right;\">\n",
              "      <th></th>\n",
              "      <th>Date</th>\n",
              "      <th>variable</th>\n",
              "      <th>value</th>\n",
              "    </tr>\n",
              "  </thead>\n",
              "  <tbody>\n",
              "    <tr>\n",
              "      <th>0</th>\n",
              "      <td>2019-06-01</td>\n",
              "      <td>Bounce Rate</td>\n",
              "      <td>64.462710</td>\n",
              "    </tr>\n",
              "    <tr>\n",
              "      <th>1</th>\n",
              "      <td>2019-06-02</td>\n",
              "      <td>Bounce Rate</td>\n",
              "      <td>46.659636</td>\n",
              "    </tr>\n",
              "    <tr>\n",
              "      <th>2</th>\n",
              "      <td>2019-06-03</td>\n",
              "      <td>Bounce Rate</td>\n",
              "      <td>43.962397</td>\n",
              "    </tr>\n",
              "    <tr>\n",
              "      <th>3</th>\n",
              "      <td>2019-06-04</td>\n",
              "      <td>Bounce Rate</td>\n",
              "      <td>57.369383</td>\n",
              "    </tr>\n",
              "    <tr>\n",
              "      <th>4</th>\n",
              "      <td>2019-06-05</td>\n",
              "      <td>Bounce Rate</td>\n",
              "      <td>59.074780</td>\n",
              "    </tr>\n",
              "  </tbody>\n",
              "</table>\n",
              "</div>"
            ],
            "text/plain": [
              "         Date     variable      value\n",
              "0  2019-06-01  Bounce Rate  64.462710\n",
              "1  2019-06-02  Bounce Rate  46.659636\n",
              "2  2019-06-03  Bounce Rate  43.962397\n",
              "3  2019-06-04  Bounce Rate  57.369383\n",
              "4  2019-06-05  Bounce Rate  59.074780"
            ]
          },
          "metadata": {
            "tags": []
          },
          "execution_count": 119
        }
      ]
    },
    {
      "cell_type": "markdown",
      "metadata": {
        "id": "vOpqrMGETuAi"
      },
      "source": [
        "## Group By\n",
        "\n",
        "Reshaping data is an important component of any data wrangling toolkit as it allows the analyst to \"massage\" the data into the desired shape for further processing. \n",
        "\n",
        "Another equally important technique is the group by operation. Analysts having some experience with SQL or other data analysis toolsets (R's `tidyverse` for example) will find the group by operation a familiar strategy in many analysis-heavy workflow.\n",
        "\n",
        "Consider the following DataFrame:"
      ]
    },
    {
      "cell_type": "code",
      "metadata": {
        "id": "vSo92pVLTuAi",
        "outputId": "d59405fc-193d-4e0d-ac71-ca57ace18947"
      },
      "source": [
        "# extract datetime values from index\n",
        "mobile.index = pd.to_datetime(mobile.index)\n",
        "mobile['Weekday'] = mobile.index.weekday_name\n",
        "mobile['Weeknumber'] = mobile.index.week\n",
        "\n",
        "# create 'Visitors Growth' variable\n",
        "mobile['Visitors Growth'] = mobile['Total Visitors'].diff()\n",
        "mobile = mobile.round(2)\n",
        "mobile.tail()"
      ],
      "execution_count": null,
      "outputs": [
        {
          "output_type": "stream",
          "text": [
            "/home/tanesya/anaconda3/lib/python3.7/site-packages/ipykernel_launcher.py:3: SettingWithCopyWarning: \n",
            "A value is trying to be set on a copy of a slice from a DataFrame.\n",
            "Try using .loc[row_indexer,col_indexer] = value instead\n",
            "\n",
            "See the caveats in the documentation: http://pandas.pydata.org/pandas-docs/stable/indexing.html#indexing-view-versus-copy\n",
            "  This is separate from the ipykernel package so we can avoid doing imports until\n",
            "/home/tanesya/anaconda3/lib/python3.7/site-packages/ipykernel_launcher.py:4: SettingWithCopyWarning: \n",
            "A value is trying to be set on a copy of a slice from a DataFrame.\n",
            "Try using .loc[row_indexer,col_indexer] = value instead\n",
            "\n",
            "See the caveats in the documentation: http://pandas.pydata.org/pandas-docs/stable/indexing.html#indexing-view-versus-copy\n",
            "  after removing the cwd from sys.path.\n",
            "/home/tanesya/anaconda3/lib/python3.7/site-packages/ipykernel_launcher.py:7: SettingWithCopyWarning: \n",
            "A value is trying to be set on a copy of a slice from a DataFrame.\n",
            "Try using .loc[row_indexer,col_indexer] = value instead\n",
            "\n",
            "See the caveats in the documentation: http://pandas.pydata.org/pandas-docs/stable/indexing.html#indexing-view-versus-copy\n",
            "  import sys\n"
          ],
          "name": "stderr"
        },
        {
          "output_type": "execute_result",
          "data": {
            "text/html": [
              "<div>\n",
              "<style scoped>\n",
              "    .dataframe tbody tr th:only-of-type {\n",
              "        vertical-align: middle;\n",
              "    }\n",
              "\n",
              "    .dataframe tbody tr th {\n",
              "        vertical-align: top;\n",
              "    }\n",
              "\n",
              "    .dataframe thead th {\n",
              "        text-align: right;\n",
              "    }\n",
              "</style>\n",
              "<table border=\"1\" class=\"dataframe\">\n",
              "  <thead>\n",
              "    <tr style=\"text-align: right;\">\n",
              "      <th></th>\n",
              "      <th>Bounce Rate</th>\n",
              "      <th>Sessions</th>\n",
              "      <th>Total Visitors</th>\n",
              "      <th>Weekday</th>\n",
              "      <th>Weeknumber</th>\n",
              "      <th>Visitors Growth</th>\n",
              "    </tr>\n",
              "    <tr>\n",
              "      <th>Date</th>\n",
              "      <th></th>\n",
              "      <th></th>\n",
              "      <th></th>\n",
              "      <th></th>\n",
              "      <th></th>\n",
              "      <th></th>\n",
              "    </tr>\n",
              "  </thead>\n",
              "  <tbody>\n",
              "    <tr>\n",
              "      <th>2019-06-26</th>\n",
              "      <td>48.67</td>\n",
              "      <td>835.85</td>\n",
              "      <td>642.57</td>\n",
              "      <td>Wednesday</td>\n",
              "      <td>26</td>\n",
              "      <td>-37.09</td>\n",
              "    </tr>\n",
              "    <tr>\n",
              "      <th>2019-06-27</th>\n",
              "      <td>55.18</td>\n",
              "      <td>790.50</td>\n",
              "      <td>635.14</td>\n",
              "      <td>Thursday</td>\n",
              "      <td>26</td>\n",
              "      <td>-7.43</td>\n",
              "    </tr>\n",
              "    <tr>\n",
              "      <th>2019-06-28</th>\n",
              "      <td>53.70</td>\n",
              "      <td>902.73</td>\n",
              "      <td>725.32</td>\n",
              "      <td>Friday</td>\n",
              "      <td>26</td>\n",
              "      <td>90.18</td>\n",
              "    </tr>\n",
              "    <tr>\n",
              "      <th>2019-06-29</th>\n",
              "      <td>48.95</td>\n",
              "      <td>549.03</td>\n",
              "      <td>467.11</td>\n",
              "      <td>Saturday</td>\n",
              "      <td>26</td>\n",
              "      <td>-258.22</td>\n",
              "    </tr>\n",
              "    <tr>\n",
              "      <th>2019-06-30</th>\n",
              "      <td>46.12</td>\n",
              "      <td>584.31</td>\n",
              "      <td>517.04</td>\n",
              "      <td>Sunday</td>\n",
              "      <td>26</td>\n",
              "      <td>49.93</td>\n",
              "    </tr>\n",
              "  </tbody>\n",
              "</table>\n",
              "</div>"
            ],
            "text/plain": [
              "            Bounce Rate  Sessions  Total Visitors    Weekday  Weeknumber  \\\n",
              "Date                                                                       \n",
              "2019-06-26        48.67    835.85          642.57  Wednesday          26   \n",
              "2019-06-27        55.18    790.50          635.14   Thursday          26   \n",
              "2019-06-28        53.70    902.73          725.32     Friday          26   \n",
              "2019-06-29        48.95    549.03          467.11   Saturday          26   \n",
              "2019-06-30        46.12    584.31          517.04     Sunday          26   \n",
              "\n",
              "            Visitors Growth  \n",
              "Date                         \n",
              "2019-06-26           -37.09  \n",
              "2019-06-27            -7.43  \n",
              "2019-06-28            90.18  \n",
              "2019-06-29          -258.22  \n",
              "2019-06-30            49.93  "
            ]
          },
          "metadata": {
            "tags": []
          },
          "execution_count": 62
        }
      ]
    },
    {
      "cell_type": "markdown",
      "metadata": {
        "id": "kx-fY4ttTuAj"
      },
      "source": [
        "Pay special attention to how the `Visitors Growth` column was created. It's the difference between the `Total Visitors` value of the web traffic on a given day and the following day.\n",
        "\n",
        "Supposed we want to compare the `Visitors Growth` between each `Weekday`; On average, does the visitors either increasing or decreasing on weekends?"
      ]
    },
    {
      "cell_type": "code",
      "metadata": {
        "id": "m5GD8tY5TuAj",
        "outputId": "8f900cc9-bb22-4635-f8fc-7e7fcec37baa"
      },
      "source": [
        "mobile.groupby('Weekday').mean()"
      ],
      "execution_count": null,
      "outputs": [
        {
          "output_type": "execute_result",
          "data": {
            "text/html": [
              "<div>\n",
              "<style scoped>\n",
              "    .dataframe tbody tr th:only-of-type {\n",
              "        vertical-align: middle;\n",
              "    }\n",
              "\n",
              "    .dataframe tbody tr th {\n",
              "        vertical-align: top;\n",
              "    }\n",
              "\n",
              "    .dataframe thead th {\n",
              "        text-align: right;\n",
              "    }\n",
              "</style>\n",
              "<table border=\"1\" class=\"dataframe\">\n",
              "  <thead>\n",
              "    <tr style=\"text-align: right;\">\n",
              "      <th></th>\n",
              "      <th>Bounce Rate</th>\n",
              "      <th>Sessions</th>\n",
              "      <th>Total Visitors</th>\n",
              "      <th>Weeknumber</th>\n",
              "      <th>Visitors Growth</th>\n",
              "    </tr>\n",
              "    <tr>\n",
              "      <th>Weekday</th>\n",
              "      <th></th>\n",
              "      <th></th>\n",
              "      <th></th>\n",
              "      <th></th>\n",
              "      <th></th>\n",
              "    </tr>\n",
              "  </thead>\n",
              "  <tbody>\n",
              "    <tr>\n",
              "      <th>Friday</th>\n",
              "      <td>40.7625</td>\n",
              "      <td>666.6525</td>\n",
              "      <td>543.8975</td>\n",
              "      <td>24.5</td>\n",
              "      <td>5.8025</td>\n",
              "    </tr>\n",
              "    <tr>\n",
              "      <th>Monday</th>\n",
              "      <td>55.5275</td>\n",
              "      <td>837.1525</td>\n",
              "      <td>659.2650</td>\n",
              "      <td>24.5</td>\n",
              "      <td>95.5575</td>\n",
              "    </tr>\n",
              "    <tr>\n",
              "      <th>Saturday</th>\n",
              "      <td>55.0600</td>\n",
              "      <td>530.5520</td>\n",
              "      <td>444.1480</td>\n",
              "      <td>24.0</td>\n",
              "      <td>-108.1375</td>\n",
              "    </tr>\n",
              "    <tr>\n",
              "      <th>Sunday</th>\n",
              "      <td>46.6780</td>\n",
              "      <td>643.3920</td>\n",
              "      <td>554.3720</td>\n",
              "      <td>24.0</td>\n",
              "      <td>110.2220</td>\n",
              "    </tr>\n",
              "    <tr>\n",
              "      <th>Thursday</th>\n",
              "      <td>43.8775</td>\n",
              "      <td>669.6950</td>\n",
              "      <td>538.0900</td>\n",
              "      <td>24.5</td>\n",
              "      <td>-97.4375</td>\n",
              "    </tr>\n",
              "    <tr>\n",
              "      <th>Tuesday</th>\n",
              "      <td>54.1175</td>\n",
              "      <td>827.4225</td>\n",
              "      <td>677.4175</td>\n",
              "      <td>24.5</td>\n",
              "      <td>18.1500</td>\n",
              "    </tr>\n",
              "    <tr>\n",
              "      <th>Wednesday</th>\n",
              "      <td>55.0175</td>\n",
              "      <td>811.3625</td>\n",
              "      <td>635.5300</td>\n",
              "      <td>24.5</td>\n",
              "      <td>-41.8875</td>\n",
              "    </tr>\n",
              "  </tbody>\n",
              "</table>\n",
              "</div>"
            ],
            "text/plain": [
              "           Bounce Rate  Sessions  Total Visitors  Weeknumber  Visitors Growth\n",
              "Weekday                                                                      \n",
              "Friday         40.7625  666.6525        543.8975        24.5           5.8025\n",
              "Monday         55.5275  837.1525        659.2650        24.5          95.5575\n",
              "Saturday       55.0600  530.5520        444.1480        24.0        -108.1375\n",
              "Sunday         46.6780  643.3920        554.3720        24.0         110.2220\n",
              "Thursday       43.8775  669.6950        538.0900        24.5         -97.4375\n",
              "Tuesday        54.1175  827.4225        677.4175        24.5          18.1500\n",
              "Wednesday      55.0175  811.3625        635.5300        24.5         -41.8875"
            ]
          },
          "metadata": {
            "tags": []
          },
          "execution_count": 63
        }
      ]
    },
    {
      "cell_type": "markdown",
      "metadata": {
        "id": "F0N02FPyTuAj"
      },
      "source": [
        "We can pass in multiple columns to the `.groupby()` call like so:"
      ]
    },
    {
      "cell_type": "code",
      "metadata": {
        "id": "5aKaTVIrTuAk",
        "outputId": "55acfa04-a5b0-46a9-d4e2-e34ec5895531"
      },
      "source": [
        "mobile.groupby(by = ['Weekday','Weeknumber']).mean().head(8)"
      ],
      "execution_count": null,
      "outputs": [
        {
          "output_type": "execute_result",
          "data": {
            "text/html": [
              "<div>\n",
              "<style scoped>\n",
              "    .dataframe tbody tr th:only-of-type {\n",
              "        vertical-align: middle;\n",
              "    }\n",
              "\n",
              "    .dataframe tbody tr th {\n",
              "        vertical-align: top;\n",
              "    }\n",
              "\n",
              "    .dataframe thead th {\n",
              "        text-align: right;\n",
              "    }\n",
              "</style>\n",
              "<table border=\"1\" class=\"dataframe\">\n",
              "  <thead>\n",
              "    <tr style=\"text-align: right;\">\n",
              "      <th></th>\n",
              "      <th></th>\n",
              "      <th>Bounce Rate</th>\n",
              "      <th>Sessions</th>\n",
              "      <th>Total Visitors</th>\n",
              "      <th>Visitors Growth</th>\n",
              "    </tr>\n",
              "    <tr>\n",
              "      <th>Weekday</th>\n",
              "      <th>Weeknumber</th>\n",
              "      <th></th>\n",
              "      <th></th>\n",
              "      <th></th>\n",
              "      <th></th>\n",
              "    </tr>\n",
              "  </thead>\n",
              "  <tbody>\n",
              "    <tr>\n",
              "      <th rowspan=\"4\" valign=\"top\">Friday</th>\n",
              "      <th>23</th>\n",
              "      <td>18.30</td>\n",
              "      <td>573.93</td>\n",
              "      <td>481.85</td>\n",
              "      <td>19.15</td>\n",
              "    </tr>\n",
              "    <tr>\n",
              "      <th>24</th>\n",
              "      <td>46.84</td>\n",
              "      <td>536.12</td>\n",
              "      <td>421.89</td>\n",
              "      <td>11.45</td>\n",
              "    </tr>\n",
              "    <tr>\n",
              "      <th>25</th>\n",
              "      <td>44.21</td>\n",
              "      <td>653.83</td>\n",
              "      <td>546.53</td>\n",
              "      <td>-97.57</td>\n",
              "    </tr>\n",
              "    <tr>\n",
              "      <th>26</th>\n",
              "      <td>53.70</td>\n",
              "      <td>902.73</td>\n",
              "      <td>725.32</td>\n",
              "      <td>90.18</td>\n",
              "    </tr>\n",
              "    <tr>\n",
              "      <th rowspan=\"4\" valign=\"top\">Monday</th>\n",
              "      <th>23</th>\n",
              "      <td>43.96</td>\n",
              "      <td>891.82</td>\n",
              "      <td>695.79</td>\n",
              "      <td>-46.11</td>\n",
              "    </tr>\n",
              "    <tr>\n",
              "      <th>24</th>\n",
              "      <td>57.75</td>\n",
              "      <td>682.20</td>\n",
              "      <td>546.37</td>\n",
              "      <td>-19.51</td>\n",
              "    </tr>\n",
              "    <tr>\n",
              "      <th>25</th>\n",
              "      <td>59.75</td>\n",
              "      <td>894.61</td>\n",
              "      <td>695.76</td>\n",
              "      <td>283.68</td>\n",
              "    </tr>\n",
              "    <tr>\n",
              "      <th>26</th>\n",
              "      <td>60.65</td>\n",
              "      <td>879.98</td>\n",
              "      <td>699.14</td>\n",
              "      <td>164.17</td>\n",
              "    </tr>\n",
              "  </tbody>\n",
              "</table>\n",
              "</div>"
            ],
            "text/plain": [
              "                    Bounce Rate  Sessions  Total Visitors  Visitors Growth\n",
              "Weekday Weeknumber                                                        \n",
              "Friday  23                18.30    573.93          481.85            19.15\n",
              "        24                46.84    536.12          421.89            11.45\n",
              "        25                44.21    653.83          546.53           -97.57\n",
              "        26                53.70    902.73          725.32            90.18\n",
              "Monday  23                43.96    891.82          695.79           -46.11\n",
              "        24                57.75    682.20          546.37           -19.51\n",
              "        25                59.75    894.61          695.76           283.68\n",
              "        26                60.65    879.98          699.14           164.17"
            ]
          },
          "metadata": {
            "tags": []
          },
          "execution_count": 64
        }
      ]
    },
    {
      "cell_type": "markdown",
      "metadata": {
        "id": "_yAyXQXmTuAk"
      },
      "source": [
        "Before we going into some practice, let's look at some **group by** strategies when dealing with MultiIndex DataFrames. Consider the following DataFrame:"
      ]
    },
    {
      "cell_type": "code",
      "metadata": {
        "id": "7fAh6ah6TuAk",
        "outputId": "9b18bf78-dd53-4b42-f871-e3d5c3dfbc46"
      },
      "source": [
        "traffic.stack().head(9)"
      ],
      "execution_count": null,
      "outputs": [
        {
          "output_type": "execute_result",
          "data": {
            "text/html": [
              "<div>\n",
              "<style scoped>\n",
              "    .dataframe tbody tr th:only-of-type {\n",
              "        vertical-align: middle;\n",
              "    }\n",
              "\n",
              "    .dataframe tbody tr th {\n",
              "        vertical-align: top;\n",
              "    }\n",
              "\n",
              "    .dataframe thead th {\n",
              "        text-align: right;\n",
              "    }\n",
              "</style>\n",
              "<table border=\"1\" class=\"dataframe\">\n",
              "  <thead>\n",
              "    <tr style=\"text-align: right;\">\n",
              "      <th></th>\n",
              "      <th></th>\n",
              "      <th>Bounce Rate</th>\n",
              "      <th>Sessions</th>\n",
              "      <th>Total Visitors</th>\n",
              "    </tr>\n",
              "    <tr>\n",
              "      <th>Date</th>\n",
              "      <th>Device Category</th>\n",
              "      <th></th>\n",
              "      <th></th>\n",
              "      <th></th>\n",
              "    </tr>\n",
              "  </thead>\n",
              "  <tbody>\n",
              "    <tr>\n",
              "      <th rowspan=\"3\" valign=\"top\">2019-06-01</th>\n",
              "      <th>desktop</th>\n",
              "      <td>41.455099</td>\n",
              "      <td>337.921687</td>\n",
              "      <td>314.909639</td>\n",
              "    </tr>\n",
              "    <tr>\n",
              "      <th>mobile</th>\n",
              "      <td>64.462710</td>\n",
              "      <td>582.246269</td>\n",
              "      <td>477.708955</td>\n",
              "    </tr>\n",
              "    <tr>\n",
              "      <th>tablet</th>\n",
              "      <td>20.012573</td>\n",
              "      <td>115.878788</td>\n",
              "      <td>115.878788</td>\n",
              "    </tr>\n",
              "    <tr>\n",
              "      <th rowspan=\"3\" valign=\"top\">2019-06-02</th>\n",
              "      <th>desktop</th>\n",
              "      <td>32.372644</td>\n",
              "      <td>320.876543</td>\n",
              "      <td>305.611111</td>\n",
              "    </tr>\n",
              "    <tr>\n",
              "      <th>mobile</th>\n",
              "      <td>46.659636</td>\n",
              "      <td>916.636364</td>\n",
              "      <td>741.898990</td>\n",
              "    </tr>\n",
              "    <tr>\n",
              "      <th>tablet</th>\n",
              "      <td>44.833929</td>\n",
              "      <td>132.492308</td>\n",
              "      <td>131.892308</td>\n",
              "    </tr>\n",
              "    <tr>\n",
              "      <th rowspan=\"3\" valign=\"top\">2019-06-03</th>\n",
              "      <th>desktop</th>\n",
              "      <td>28.904192</td>\n",
              "      <td>821.010471</td>\n",
              "      <td>744.178010</td>\n",
              "    </tr>\n",
              "    <tr>\n",
              "      <th>mobile</th>\n",
              "      <td>43.962397</td>\n",
              "      <td>891.817610</td>\n",
              "      <td>695.792453</td>\n",
              "    </tr>\n",
              "    <tr>\n",
              "      <th>tablet</th>\n",
              "      <td>85.697323</td>\n",
              "      <td>270.419355</td>\n",
              "      <td>115.870968</td>\n",
              "    </tr>\n",
              "  </tbody>\n",
              "</table>\n",
              "</div>"
            ],
            "text/plain": [
              "                            Bounce Rate    Sessions  Total Visitors\n",
              "Date       Device Category                                         \n",
              "2019-06-01 desktop            41.455099  337.921687      314.909639\n",
              "           mobile             64.462710  582.246269      477.708955\n",
              "           tablet             20.012573  115.878788      115.878788\n",
              "2019-06-02 desktop            32.372644  320.876543      305.611111\n",
              "           mobile             46.659636  916.636364      741.898990\n",
              "           tablet             44.833929  132.492308      131.892308\n",
              "2019-06-03 desktop            28.904192  821.010471      744.178010\n",
              "           mobile             43.962397  891.817610      695.792453\n",
              "           tablet             85.697323  270.419355      115.870968"
            ]
          },
          "metadata": {
            "tags": []
          },
          "execution_count": 65
        }
      ]
    },
    {
      "cell_type": "markdown",
      "metadata": {
        "id": "IRljCSqzTuAl"
      },
      "source": [
        "On the Columns, there is 1 level. On the Index, there are 2 levels: `Date` and `Device Category` respectively. Supposed we want to groupby the second level of the axis (`Device Category`), we can pass in `axis=0` (referring to the row) and `level=1` (referring to the second level of index). \n",
        "\n",
        "The following groups it by the device category and aggregate the values from the remaining levels using the `sum`: "
      ]
    },
    {
      "cell_type": "code",
      "metadata": {
        "scrolled": true,
        "id": "m6RMANYFTuAm",
        "outputId": "7b3c6aaf-4cc8-43ae-e24a-d5a025363994"
      },
      "source": [
        "traffic.stack().groupby(level = 1, axis = 0).sum()"
      ],
      "execution_count": null,
      "outputs": [
        {
          "output_type": "execute_result",
          "data": {
            "text/html": [
              "<div>\n",
              "<style scoped>\n",
              "    .dataframe tbody tr th:only-of-type {\n",
              "        vertical-align: middle;\n",
              "    }\n",
              "\n",
              "    .dataframe tbody tr th {\n",
              "        vertical-align: top;\n",
              "    }\n",
              "\n",
              "    .dataframe thead th {\n",
              "        text-align: right;\n",
              "    }\n",
              "</style>\n",
              "<table border=\"1\" class=\"dataframe\">\n",
              "  <thead>\n",
              "    <tr style=\"text-align: right;\">\n",
              "      <th></th>\n",
              "      <th>Bounce Rate</th>\n",
              "      <th>Sessions</th>\n",
              "      <th>Total Visitors</th>\n",
              "    </tr>\n",
              "    <tr>\n",
              "      <th>Device Category</th>\n",
              "      <th></th>\n",
              "      <th></th>\n",
              "      <th></th>\n",
              "    </tr>\n",
              "  </thead>\n",
              "  <tbody>\n",
              "    <tr>\n",
              "      <th>desktop</th>\n",
              "      <td>1166.914829</td>\n",
              "      <td>20366.955036</td>\n",
              "      <td>17909.948695</td>\n",
              "    </tr>\n",
              "    <tr>\n",
              "      <th>mobile</th>\n",
              "      <td>1505.916541</td>\n",
              "      <td>21118.878445</td>\n",
              "      <td>17209.416402</td>\n",
              "    </tr>\n",
              "    <tr>\n",
              "      <th>tablet</th>\n",
              "      <td>1187.790763</td>\n",
              "      <td>3293.201097</td>\n",
              "      <td>2701.731334</td>\n",
              "    </tr>\n",
              "  </tbody>\n",
              "</table>\n",
              "</div>"
            ],
            "text/plain": [
              "                 Bounce Rate      Sessions  Total Visitors\n",
              "Device Category                                           \n",
              "desktop          1166.914829  20366.955036    17909.948695\n",
              "mobile           1505.916541  21118.878445    17209.416402\n",
              "tablet           1187.790763   3293.201097     2701.731334"
            ]
          },
          "metadata": {
            "tags": []
          },
          "execution_count": 66
        }
      ]
    },
    {
      "cell_type": "markdown",
      "metadata": {
        "id": "iKvZljQGTuAn"
      },
      "source": [
        "**Discussion:**\n",
        "\n",
        "1. During June, which date has the highest Visitor growth for each desktop, mobile, and tablet? \n",
        "<br>\n",
        "<br>\n",
        "2. Read `data_input/techcrunch.csv`, a dataset that stores fundraising rounds and amounts from startup companies of different categories around the US. Use `groupby` and perform a `median` aggregation. Which `category` raised the most amount in funding on average (use the `median`):\n",
        "\n",
        "    - [ ] `mobile`\n",
        "    - [ ] `cleantech`\n",
        "    - [ ] `biotech`\n",
        "    - [ ] `consulting`\n",
        "<br>\n",
        "<br>\n",
        "3. Among all companies in San Francisco, which of the following are not among the top 5 most funded (highest `raisedAmt`) companies?\n",
        "<br>\n",
        "    - Hint: You may need to subset for companies where `city` is `San Francisco`, then group by `company` and `sum` on `raisedAmt` within each group. If it's helpful, you may consider chaining `sort_values()` and set `ascending=False` to get the DataFrame sorted by `raisedAmt` from largest to smallest\n",
        "\n",
        "    - [ ] `OpenTable`\n",
        "    - [ ] `Friendster`\n",
        "    - [ ] `Facebook`\n",
        "    - [ ] `Snapfish`"
      ]
    },
    {
      "cell_type": "code",
      "metadata": {
        "id": "iyHLfx1aTuAn"
      },
      "source": [
        "# Your code below\n",
        "\n",
        "# -- Refer to solution key 3"
      ],
      "execution_count": null,
      "outputs": []
    },
    {
      "cell_type": "markdown",
      "metadata": {
        "id": "2VHiNp91TuAo"
      },
      "source": [
        "---\n",
        "\n",
        "# Working with SQL Databases\n",
        "\n",
        "There are a great number of python modules that provide functionalities to work with databases of all variants and flavors. For a MySQL database, we may form a connection using `pymysql` or one of many other alternatives:\n",
        "\n",
        "```\n",
        "import pymysql\n",
        "conn = pymysql.connect(\n",
        "    host=host,\n",
        "    port=port,\n",
        "    user=user,\n",
        "    password=password,\n",
        "    db=database)\n",
        "```\n",
        "\n",
        "We can then use `pd.read_sql_query()`, passing in the connection:\n",
        "```\n",
        "sales = pd.read_sql_query(\"SELECT * FROM sales\", conn)\n",
        "```\n",
        "\n",
        "BigQuery data source also works well with data frame object. To do that, however, we'll need a pandas extension called `pandas_gbq` that enables us to connect to a remote da source. Once you have the package installed, use the following to authenticate your user account:\n",
        "\n",
        "```\n",
        "import pandas_gbq\n",
        "import pydata_google_auth\n",
        "\n",
        "SCOPES = [\n",
        "    'https://www.googleapis.com/auth/cloud-platform',\n",
        "    'https://www.googleapis.com/auth/drive',\n",
        "]\n",
        "\n",
        "credentials = pydata_google_auth.get_user_credentials(\n",
        "    SCOPES,\n",
        "    auth_local_webserver=True)\n",
        "```\n",
        "\n",
        "Once you have your account set up, you can query using `read_gbq()` function to get a data frame. You will also need to specify your project ID from your Google Cloud platform:\n",
        "\n",
        "```\n",
        "df = pandas_gbq.read_gbq(\n",
        "    \"SELECT * FROM `db.table` LIMIT 10;\",\n",
        "    project_id='bigqueryconnection',\n",
        "    credentials=credentials,\n",
        "```\n",
        "\n",
        "Going back into `pandas`, under the hood, it uses SQLAlchemy so any database supported by that library will work. This isn't something you need to worry about at this stage of your learning journey, but for the sake for practice, let's also see how a connection URI for a SQLite database looks like:"
      ]
    },
    {
      "cell_type": "code",
      "metadata": {
        "id": "P-rT-JBrTuAo",
        "outputId": "e3cd1293-826b-4f38-8ad6-fb2adfce4491"
      },
      "source": [
        "import sqlite3\n",
        "conn = sqlite3.connect(\"data_input/chinook.db\")\n",
        "\n",
        "albums = pd.read_sql_query(\"SELECT * FROM albums\", conn)\n",
        "albums.head()"
      ],
      "execution_count": null,
      "outputs": [
        {
          "output_type": "execute_result",
          "data": {
            "text/html": [
              "<div>\n",
              "<style scoped>\n",
              "    .dataframe tbody tr th:only-of-type {\n",
              "        vertical-align: middle;\n",
              "    }\n",
              "\n",
              "    .dataframe tbody tr th {\n",
              "        vertical-align: top;\n",
              "    }\n",
              "\n",
              "    .dataframe thead th {\n",
              "        text-align: right;\n",
              "    }\n",
              "</style>\n",
              "<table border=\"1\" class=\"dataframe\">\n",
              "  <thead>\n",
              "    <tr style=\"text-align: right;\">\n",
              "      <th></th>\n",
              "      <th>AlbumId</th>\n",
              "      <th>Title</th>\n",
              "      <th>ArtistId</th>\n",
              "    </tr>\n",
              "  </thead>\n",
              "  <tbody>\n",
              "    <tr>\n",
              "      <th>0</th>\n",
              "      <td>1</td>\n",
              "      <td>For Those About To Rock We Salute You</td>\n",
              "      <td>1</td>\n",
              "    </tr>\n",
              "    <tr>\n",
              "      <th>1</th>\n",
              "      <td>2</td>\n",
              "      <td>Balls to the Wall</td>\n",
              "      <td>2</td>\n",
              "    </tr>\n",
              "    <tr>\n",
              "      <th>2</th>\n",
              "      <td>3</td>\n",
              "      <td>Restless and Wild</td>\n",
              "      <td>2</td>\n",
              "    </tr>\n",
              "    <tr>\n",
              "      <th>3</th>\n",
              "      <td>4</td>\n",
              "      <td>Let There Be Rock</td>\n",
              "      <td>1</td>\n",
              "    </tr>\n",
              "    <tr>\n",
              "      <th>4</th>\n",
              "      <td>5</td>\n",
              "      <td>Big Ones</td>\n",
              "      <td>3</td>\n",
              "    </tr>\n",
              "  </tbody>\n",
              "</table>\n",
              "</div>"
            ],
            "text/plain": [
              "   AlbumId                                  Title  ArtistId\n",
              "0        1  For Those About To Rock We Salute You         1\n",
              "1        2                      Balls to the Wall         2\n",
              "2        3                      Restless and Wild         2\n",
              "3        4                      Let There Be Rock         1\n",
              "4        5                               Big Ones         3"
            ]
          },
          "metadata": {
            "tags": []
          },
          "execution_count": 68
        }
      ]
    },
    {
      "cell_type": "markdown",
      "metadata": {
        "id": "LJTC_h6NTuAp"
      },
      "source": [
        "In the above command, we asked for all columns of a table to be returned to us through the `SELECT *` command. Well, columns of which table? That would be `tables`. Together they form an SQL query:\n",
        "\n",
        "`SELECT * FROM albums`\n",
        "\n",
        "The database we're working with have a few tables populated with sample data. The database has the following schema:\n",
        "![](assets/chinookschema.png)"
      ]
    },
    {
      "cell_type": "markdown",
      "metadata": {
        "id": "FxoZJqjgTuAq"
      },
      "source": [
        "**Discussion:**\n",
        "\n",
        "We'll create a `DataFrame`: this time select all columns from the `artists` table. Recall that when we use `pd.read_sql_query()` command we pass in the SQL query as a string, and add a connection as the second parameter. Save the output as a `DataFrame`.\n",
        "\n",
        "Your DataFrame should be constructed like this:\n",
        "\n",
        "`__ = pd.read_sql_query(\"SELECT __ FROM __ \", conn)`\n",
        "\n",
        "Question:\n",
        "1. How many rows are there in your DataFrame?"
      ]
    },
    {
      "cell_type": "code",
      "metadata": {
        "id": "AWSQU7FhTuAq"
      },
      "source": [
        "## Your code below\n",
        "\n"
      ],
      "execution_count": null,
      "outputs": []
    },
    {
      "cell_type": "markdown",
      "metadata": {
        "id": "CsvwWyr_TuAq"
      },
      "source": [
        "The `pd.read_sql_query` is most commonly used with that two parameters above, but on its [official documentation](https://pandas.pydata.org/pandas-docs/stable/reference/api/pandas.read_sql_query.html) is a list of other parameters we can use as well. \n",
        "\n",
        "In the following cell, we use a similar SQL query with an additional `LIMIT` statement to limit the output to the first 5 records (rows). However, notice that we also set `index_col` so the specified column is recognized as the index:"
      ]
    },
    {
      "cell_type": "code",
      "metadata": {
        "id": "ip7PSdtkTuAr",
        "outputId": "efd81cc9-92b7-43bc-ab12-98595d3a4eb1"
      },
      "source": [
        "pd.read_sql_query(\"SELECT * FROM artists LIMIT 5\", \n",
        "                  conn, \n",
        "                  index_col='ArtistId')"
      ],
      "execution_count": null,
      "outputs": [
        {
          "output_type": "execute_result",
          "data": {
            "text/html": [
              "<div>\n",
              "<style scoped>\n",
              "    .dataframe tbody tr th:only-of-type {\n",
              "        vertical-align: middle;\n",
              "    }\n",
              "\n",
              "    .dataframe tbody tr th {\n",
              "        vertical-align: top;\n",
              "    }\n",
              "\n",
              "    .dataframe thead th {\n",
              "        text-align: right;\n",
              "    }\n",
              "</style>\n",
              "<table border=\"1\" class=\"dataframe\">\n",
              "  <thead>\n",
              "    <tr style=\"text-align: right;\">\n",
              "      <th></th>\n",
              "      <th>Name</th>\n",
              "    </tr>\n",
              "    <tr>\n",
              "      <th>ArtistId</th>\n",
              "      <th></th>\n",
              "    </tr>\n",
              "  </thead>\n",
              "  <tbody>\n",
              "    <tr>\n",
              "      <th>1</th>\n",
              "      <td>AC/DC</td>\n",
              "    </tr>\n",
              "    <tr>\n",
              "      <th>2</th>\n",
              "      <td>Accept</td>\n",
              "    </tr>\n",
              "    <tr>\n",
              "      <th>3</th>\n",
              "      <td>Aerosmith</td>\n",
              "    </tr>\n",
              "    <tr>\n",
              "      <th>4</th>\n",
              "      <td>Alanis Morissette</td>\n",
              "    </tr>\n",
              "    <tr>\n",
              "      <th>5</th>\n",
              "      <td>Alice In Chains</td>\n",
              "    </tr>\n",
              "  </tbody>\n",
              "</table>\n",
              "</div>"
            ],
            "text/plain": [
              "                       Name\n",
              "ArtistId                   \n",
              "1                     AC/DC\n",
              "2                    Accept\n",
              "3                 Aerosmith\n",
              "4         Alanis Morissette\n",
              "5           Alice In Chains"
            ]
          },
          "metadata": {
            "tags": []
          },
          "execution_count": 70
        }
      ]
    },
    {
      "cell_type": "markdown",
      "metadata": {
        "id": "XCGkwwxITuAr"
      },
      "source": [
        "## SQL Joins\n",
        "\n",
        "`JOIN` statements are used to combine records from two tables. We can have as many `JOIN` operations as we want in a SQL query.\n",
        "\n",
        "Below is a diagram of the different types of SQL `JOIN` operations:\n",
        "\n",
        "![](assets/sqljoins.png)\n",
        "\n",
        "Credit: Data & Object Factory, LLC\n",
        "\n",
        "In most business scenarios though, a `LEFT JOIN` is almost always the type of `JOIN` you want - it is very direct (and therefore easy to reason about). Left join return all records in the left table regardless if any of those records have a match in the right table.\n",
        "\n",
        "The `INNER JOIN` is also very intuitive and easily understood. This query return all of the records in the left table that has a matching record in the right table.\n",
        "\n",
        "> As a personal side note, I've worked at companies where `RIGHT JOIN` is outright forbidden in favor of `LEFT JOIN`: directness and ease-of-understanding aside, all right joins can be replaced by the opposite left join. \n",
        "> \n",
        "> The `OUTER JOIN` (also referred to as `FULL JOIN`) is also quite uncommon in practice. Performance reason aside, an outer join return all of the records from both tables regardless if there is a match or not, resulting in a DataFrame that has potentially a lot of `NULL` values."
      ]
    },
    {
      "cell_type": "markdown",
      "metadata": {
        "id": "ORB3-Qa1TuAr"
      },
      "source": [
        "Consider the database schema illustraation again and pay attention to two tables and their respective columns:\n",
        "\n",
        "1. `albums`: \n",
        "    - `AlbumId`, `Title`, `ArtistId`\n",
        "\n",
        "2. `artists`: `\n",
        "    - `ArtistId`, `Name`    \n",
        "\n",
        "We want a `pandas` DataFrame containing the `AlbumId`, `Title` and `Name`. Notice that `Name` is from the `artists` table while the other columns are from the `albums` table. What is a reasonable strategy?\n",
        "\n",
        "The most straightforward solution is the `LEFT JOIN`, let's see an example:"
      ]
    },
    {
      "cell_type": "code",
      "metadata": {
        "id": "sWLdQFiKTuAs",
        "outputId": "8ae3f21c-2dc6-4497-d039-3453426bbe9f"
      },
      "source": [
        "albums = pd.read_sql_query(\"SELECT AlbumId, Title, a.Name \\\n",
        "                           FROM albums \\\n",
        "                           LEFT JOIN artists as a \\\n",
        "                           ON a.ArtistId = albums.ArtistId\", conn)\n",
        "albums.head()"
      ],
      "execution_count": null,
      "outputs": [
        {
          "output_type": "execute_result",
          "data": {
            "text/html": [
              "<div>\n",
              "<style scoped>\n",
              "    .dataframe tbody tr th:only-of-type {\n",
              "        vertical-align: middle;\n",
              "    }\n",
              "\n",
              "    .dataframe tbody tr th {\n",
              "        vertical-align: top;\n",
              "    }\n",
              "\n",
              "    .dataframe thead th {\n",
              "        text-align: right;\n",
              "    }\n",
              "</style>\n",
              "<table border=\"1\" class=\"dataframe\">\n",
              "  <thead>\n",
              "    <tr style=\"text-align: right;\">\n",
              "      <th></th>\n",
              "      <th>AlbumId</th>\n",
              "      <th>Title</th>\n",
              "      <th>Name</th>\n",
              "    </tr>\n",
              "  </thead>\n",
              "  <tbody>\n",
              "    <tr>\n",
              "      <th>0</th>\n",
              "      <td>1</td>\n",
              "      <td>For Those About To Rock We Salute You</td>\n",
              "      <td>AC/DC</td>\n",
              "    </tr>\n",
              "    <tr>\n",
              "      <th>1</th>\n",
              "      <td>2</td>\n",
              "      <td>Balls to the Wall</td>\n",
              "      <td>Accept</td>\n",
              "    </tr>\n",
              "    <tr>\n",
              "      <th>2</th>\n",
              "      <td>3</td>\n",
              "      <td>Restless and Wild</td>\n",
              "      <td>Accept</td>\n",
              "    </tr>\n",
              "    <tr>\n",
              "      <th>3</th>\n",
              "      <td>4</td>\n",
              "      <td>Let There Be Rock</td>\n",
              "      <td>AC/DC</td>\n",
              "    </tr>\n",
              "    <tr>\n",
              "      <th>4</th>\n",
              "      <td>5</td>\n",
              "      <td>Big Ones</td>\n",
              "      <td>Aerosmith</td>\n",
              "    </tr>\n",
              "  </tbody>\n",
              "</table>\n",
              "</div>"
            ],
            "text/plain": [
              "   AlbumId                                  Title       Name\n",
              "0        1  For Those About To Rock We Salute You      AC/DC\n",
              "1        2                      Balls to the Wall     Accept\n",
              "2        3                      Restless and Wild     Accept\n",
              "3        4                      Let There Be Rock      AC/DC\n",
              "4        5                               Big Ones  Aerosmith"
            ]
          },
          "metadata": {
            "tags": []
          },
          "execution_count": 71
        }
      ]
    },
    {
      "cell_type": "markdown",
      "metadata": {
        "id": "qI8kRi87TuAs"
      },
      "source": [
        "Notice that in the code above, we place a backslash (`\\`) character so we have line continuation and the newline will be ignored. This allows SQL to treat the entire query string as if they were essentially one line."
      ]
    },
    {
      "cell_type": "code",
      "metadata": {
        "scrolled": true,
        "id": "PQwCWKW7TuAt",
        "outputId": "4ae1ce88-7a9c-4620-8e5c-9f8eb79587f2"
      },
      "source": [
        "pd.read_sql_query(\"SELECT * FROM albums\", conn).head()"
      ],
      "execution_count": null,
      "outputs": [
        {
          "output_type": "execute_result",
          "data": {
            "text/html": [
              "<div>\n",
              "<style scoped>\n",
              "    .dataframe tbody tr th:only-of-type {\n",
              "        vertical-align: middle;\n",
              "    }\n",
              "\n",
              "    .dataframe tbody tr th {\n",
              "        vertical-align: top;\n",
              "    }\n",
              "\n",
              "    .dataframe thead th {\n",
              "        text-align: right;\n",
              "    }\n",
              "</style>\n",
              "<table border=\"1\" class=\"dataframe\">\n",
              "  <thead>\n",
              "    <tr style=\"text-align: right;\">\n",
              "      <th></th>\n",
              "      <th>AlbumId</th>\n",
              "      <th>Title</th>\n",
              "      <th>ArtistId</th>\n",
              "    </tr>\n",
              "  </thead>\n",
              "  <tbody>\n",
              "    <tr>\n",
              "      <th>0</th>\n",
              "      <td>1</td>\n",
              "      <td>For Those About To Rock We Salute You</td>\n",
              "      <td>1</td>\n",
              "    </tr>\n",
              "    <tr>\n",
              "      <th>1</th>\n",
              "      <td>2</td>\n",
              "      <td>Balls to the Wall</td>\n",
              "      <td>2</td>\n",
              "    </tr>\n",
              "    <tr>\n",
              "      <th>2</th>\n",
              "      <td>3</td>\n",
              "      <td>Restless and Wild</td>\n",
              "      <td>2</td>\n",
              "    </tr>\n",
              "    <tr>\n",
              "      <th>3</th>\n",
              "      <td>4</td>\n",
              "      <td>Let There Be Rock</td>\n",
              "      <td>1</td>\n",
              "    </tr>\n",
              "    <tr>\n",
              "      <th>4</th>\n",
              "      <td>5</td>\n",
              "      <td>Big Ones</td>\n",
              "      <td>3</td>\n",
              "    </tr>\n",
              "  </tbody>\n",
              "</table>\n",
              "</div>"
            ],
            "text/plain": [
              "   AlbumId                                  Title  ArtistId\n",
              "0        1  For Those About To Rock We Salute You         1\n",
              "1        2                      Balls to the Wall         2\n",
              "2        3                      Restless and Wild         2\n",
              "3        4                      Let There Be Rock         1\n",
              "4        5                               Big Ones         3"
            ]
          },
          "metadata": {
            "tags": []
          },
          "execution_count": 72
        }
      ]
    },
    {
      "cell_type": "markdown",
      "metadata": {
        "id": "sQ1SvmXrTuAt"
      },
      "source": [
        "**Discussion:**\n",
        "\n",
        "Consider the database schema illustration again and pay attention to two tables and their respective columns:\n",
        "\n",
        "1. `albums`: `AlbumId`, `Title`, `ArtistId`\n",
        "\n",
        "2. `tracks`: `TrackId`, `Name`, `AlbumId`, `GenreId`, ... `UnitPrice` \n",
        "    \n",
        "3. `genres`: `GenreId`, `Name`"
      ]
    },
    {
      "cell_type": "markdown",
      "metadata": {
        "id": "bnsNJaZhTuAt"
      },
      "source": [
        "Create a `DataFrame` containing all columns from the `tracks` table; Additionally, it should also contain:\n",
        "    - The `Title` column from the `albums` table\n",
        "    - The `Name` column from the `genres` table \n",
        "\n",
        "> **Hint 1**: In your `SELECT` statement, you can use `SELECT tracks.* FROM TRACKS` to select all columns from the `TRACKS` table\n",
        "> \n",
        "> **Hint 2**: When we write `SELECT tracks.Name as tracksName`, we are renaming the output column from `Name` to `tracksName` using a technique called column aliasing. You may optionally consider doing this for columns that share the same name across different tables \n",
        "\n",
        "Set the `TrackId`column to be the index. The resulting `DataFrame` should has 11 columns.\n",
        "\n",
        "Give your `DataFrame` a name: name it `tracks`. Perform EDA on `tracks` to answer the following question:\n",
        "\n",
        "1. Use `tail()` to inspect the last 5 rows of data. Which genre is present in the last 5 rows of our `tracks` DataFrame (Check all that apply)?\n",
        "    - [ ] Latin\n",
        "    - [ ] Classical\n",
        "    - [ ] Soundtrack\n",
        "    - [ ] Pop\n",
        "  \n",
        "  \n",
        "2. Apply `pd.crosstab(..., columns='count')`, `.value_counts()`, or any other techniques you've learned to compute the frequency table of Genres in your DataFrame. Which is among the top 3 most represented genres in the `tracks` DataFrame?\n",
        "    - [ ] Latin\n",
        "    - [ ] Classical\n",
        "    - [ ] Soundtrack\n",
        "    - [ ] Pop\n",
        "  \n",
        "  \n",
        "3. Use `groupby()` on Album Title and compute the `mean()` on the `UnitPrice` of album. You will realize that most albums are priced at 0.99 (`mean`) but there are several albums where the `mean()` is 1.99. Which of the Album has a mean of 0.99 `UnitPrice`:\n",
        "    - [ ] The Office\n",
        "    - [ ] Aquaman\n",
        "    - [ ] Battlestar Galactica: The Story So Far\n",
        "    - [ ] Every Kind of Light"
      ]
    },
    {
      "cell_type": "code",
      "metadata": {
        "id": "enxPdZqDTuAu"
      },
      "source": [
        "## Your code below\n",
        "\n",
        "# -- Refer to solution key 4"
      ],
      "execution_count": null,
      "outputs": []
    },
    {
      "cell_type": "markdown",
      "metadata": {
        "id": "DxACxB0iTuAu"
      },
      "source": [
        "## WHERE statements\n",
        "\n",
        "We've seen how to use do some of the most common SQL operations this far. In particular, we have:\n",
        "\n",
        "- Learned how to write `SELECT` statements  \n",
        "- Use `index_col` in the `pd.read_sql_query()` method  \n",
        "- SQL Join operations\n",
        "- Use SQL Aliases\n",
        "\n",
        "In the following example, we'll look at one more technique in the SQL arsenal: the `WHERE` clause\n",
        "\n",
        "A `WHERE` clause is followed by a **condition**. If we want to query for all invoices where country of the billing address is Germany, we can add a `Where` clause to our sql query string:"
      ]
    },
    {
      "cell_type": "code",
      "metadata": {
        "id": "ewvnTtuqTuAu",
        "outputId": "3c0983fd-a5c6-465b-835c-a8fbc6ded6d1"
      },
      "source": [
        "germany = pd.read_sql_query(\"SELECT * FROM invoices WHERE BillingCountry = 'Germany'\", conn)\n",
        "germany.head()"
      ],
      "execution_count": null,
      "outputs": [
        {
          "output_type": "execute_result",
          "data": {
            "text/html": [
              "<div>\n",
              "<style scoped>\n",
              "    .dataframe tbody tr th:only-of-type {\n",
              "        vertical-align: middle;\n",
              "    }\n",
              "\n",
              "    .dataframe tbody tr th {\n",
              "        vertical-align: top;\n",
              "    }\n",
              "\n",
              "    .dataframe thead th {\n",
              "        text-align: right;\n",
              "    }\n",
              "</style>\n",
              "<table border=\"1\" class=\"dataframe\">\n",
              "  <thead>\n",
              "    <tr style=\"text-align: right;\">\n",
              "      <th></th>\n",
              "      <th>InvoiceId</th>\n",
              "      <th>CustomerId</th>\n",
              "      <th>InvoiceDate</th>\n",
              "      <th>BillingAddress</th>\n",
              "      <th>BillingCity</th>\n",
              "      <th>BillingState</th>\n",
              "      <th>BillingCountry</th>\n",
              "      <th>BillingPostalCode</th>\n",
              "      <th>Total</th>\n",
              "    </tr>\n",
              "  </thead>\n",
              "  <tbody>\n",
              "    <tr>\n",
              "      <th>0</th>\n",
              "      <td>1</td>\n",
              "      <td>2</td>\n",
              "      <td>2009-01-01 00:00:00</td>\n",
              "      <td>Theodor-Heuss-Straße 34</td>\n",
              "      <td>Stuttgart</td>\n",
              "      <td>None</td>\n",
              "      <td>Germany</td>\n",
              "      <td>70174</td>\n",
              "      <td>1.98</td>\n",
              "    </tr>\n",
              "    <tr>\n",
              "      <th>1</th>\n",
              "      <td>6</td>\n",
              "      <td>37</td>\n",
              "      <td>2009-01-19 00:00:00</td>\n",
              "      <td>Berger Straße 10</td>\n",
              "      <td>Frankfurt</td>\n",
              "      <td>None</td>\n",
              "      <td>Germany</td>\n",
              "      <td>60316</td>\n",
              "      <td>0.99</td>\n",
              "    </tr>\n",
              "    <tr>\n",
              "      <th>2</th>\n",
              "      <td>7</td>\n",
              "      <td>38</td>\n",
              "      <td>2009-02-01 00:00:00</td>\n",
              "      <td>Barbarossastraße 19</td>\n",
              "      <td>Berlin</td>\n",
              "      <td>None</td>\n",
              "      <td>Germany</td>\n",
              "      <td>10779</td>\n",
              "      <td>1.98</td>\n",
              "    </tr>\n",
              "    <tr>\n",
              "      <th>3</th>\n",
              "      <td>12</td>\n",
              "      <td>2</td>\n",
              "      <td>2009-02-11 00:00:00</td>\n",
              "      <td>Theodor-Heuss-Straße 34</td>\n",
              "      <td>Stuttgart</td>\n",
              "      <td>None</td>\n",
              "      <td>Germany</td>\n",
              "      <td>70174</td>\n",
              "      <td>13.86</td>\n",
              "    </tr>\n",
              "    <tr>\n",
              "      <th>4</th>\n",
              "      <td>29</td>\n",
              "      <td>36</td>\n",
              "      <td>2009-05-05 00:00:00</td>\n",
              "      <td>Tauentzienstraße 8</td>\n",
              "      <td>Berlin</td>\n",
              "      <td>None</td>\n",
              "      <td>Germany</td>\n",
              "      <td>10789</td>\n",
              "      <td>1.98</td>\n",
              "    </tr>\n",
              "  </tbody>\n",
              "</table>\n",
              "</div>"
            ],
            "text/plain": [
              "   InvoiceId  CustomerId          InvoiceDate           BillingAddress  \\\n",
              "0          1           2  2009-01-01 00:00:00  Theodor-Heuss-Straße 34   \n",
              "1          6          37  2009-01-19 00:00:00         Berger Straße 10   \n",
              "2          7          38  2009-02-01 00:00:00      Barbarossastraße 19   \n",
              "3         12           2  2009-02-11 00:00:00  Theodor-Heuss-Straße 34   \n",
              "4         29          36  2009-05-05 00:00:00       Tauentzienstraße 8   \n",
              "\n",
              "  BillingCity BillingState BillingCountry BillingPostalCode  Total  \n",
              "0   Stuttgart         None        Germany             70174   1.98  \n",
              "1   Frankfurt         None        Germany             60316   0.99  \n",
              "2      Berlin         None        Germany             10779   1.98  \n",
              "3   Stuttgart         None        Germany             70174  13.86  \n",
              "4      Berlin         None        Germany             10789   1.98  "
            ]
          },
          "metadata": {
            "tags": []
          },
          "execution_count": 74
        }
      ]
    },
    {
      "cell_type": "markdown",
      "metadata": {
        "id": "cfhpWZesTuAu"
      },
      "source": [
        "`WHERE` conditions can be combined with `AND`, `OR` and `NOT`. Supposed we want to create a DataFrame containing all invoices where the billing country is **not** Indonesia, we can do the following:"
      ]
    },
    {
      "cell_type": "code",
      "metadata": {
        "scrolled": true,
        "id": "b67aOi6KTuAv",
        "outputId": "3e8669f5-b1c1-4941-bd4e-fefdf5eb898a"
      },
      "source": [
        "international = pd.read_sql_query(\"SELECT * FROM invoices WHERE NOT BillingCountry = 'Indonesia'\", conn)\n",
        "international.head()"
      ],
      "execution_count": null,
      "outputs": [
        {
          "output_type": "execute_result",
          "data": {
            "text/html": [
              "<div>\n",
              "<style scoped>\n",
              "    .dataframe tbody tr th:only-of-type {\n",
              "        vertical-align: middle;\n",
              "    }\n",
              "\n",
              "    .dataframe tbody tr th {\n",
              "        vertical-align: top;\n",
              "    }\n",
              "\n",
              "    .dataframe thead th {\n",
              "        text-align: right;\n",
              "    }\n",
              "</style>\n",
              "<table border=\"1\" class=\"dataframe\">\n",
              "  <thead>\n",
              "    <tr style=\"text-align: right;\">\n",
              "      <th></th>\n",
              "      <th>InvoiceId</th>\n",
              "      <th>CustomerId</th>\n",
              "      <th>InvoiceDate</th>\n",
              "      <th>BillingAddress</th>\n",
              "      <th>BillingCity</th>\n",
              "      <th>BillingState</th>\n",
              "      <th>BillingCountry</th>\n",
              "      <th>BillingPostalCode</th>\n",
              "      <th>Total</th>\n",
              "    </tr>\n",
              "  </thead>\n",
              "  <tbody>\n",
              "    <tr>\n",
              "      <th>0</th>\n",
              "      <td>1</td>\n",
              "      <td>2</td>\n",
              "      <td>2009-01-01 00:00:00</td>\n",
              "      <td>Theodor-Heuss-Straße 34</td>\n",
              "      <td>Stuttgart</td>\n",
              "      <td>None</td>\n",
              "      <td>Germany</td>\n",
              "      <td>70174</td>\n",
              "      <td>1.98</td>\n",
              "    </tr>\n",
              "    <tr>\n",
              "      <th>1</th>\n",
              "      <td>2</td>\n",
              "      <td>4</td>\n",
              "      <td>2009-01-02 00:00:00</td>\n",
              "      <td>Ullevålsveien 14</td>\n",
              "      <td>Oslo</td>\n",
              "      <td>None</td>\n",
              "      <td>Norway</td>\n",
              "      <td>0171</td>\n",
              "      <td>3.96</td>\n",
              "    </tr>\n",
              "    <tr>\n",
              "      <th>2</th>\n",
              "      <td>3</td>\n",
              "      <td>8</td>\n",
              "      <td>2009-01-03 00:00:00</td>\n",
              "      <td>Grétrystraat 63</td>\n",
              "      <td>Brussels</td>\n",
              "      <td>None</td>\n",
              "      <td>Belgium</td>\n",
              "      <td>1000</td>\n",
              "      <td>5.94</td>\n",
              "    </tr>\n",
              "    <tr>\n",
              "      <th>3</th>\n",
              "      <td>4</td>\n",
              "      <td>14</td>\n",
              "      <td>2009-01-06 00:00:00</td>\n",
              "      <td>8210 111 ST NW</td>\n",
              "      <td>Edmonton</td>\n",
              "      <td>AB</td>\n",
              "      <td>Canada</td>\n",
              "      <td>T6G 2C7</td>\n",
              "      <td>8.91</td>\n",
              "    </tr>\n",
              "    <tr>\n",
              "      <th>4</th>\n",
              "      <td>5</td>\n",
              "      <td>23</td>\n",
              "      <td>2009-01-11 00:00:00</td>\n",
              "      <td>69 Salem Street</td>\n",
              "      <td>Boston</td>\n",
              "      <td>MA</td>\n",
              "      <td>USA</td>\n",
              "      <td>2113</td>\n",
              "      <td>13.86</td>\n",
              "    </tr>\n",
              "  </tbody>\n",
              "</table>\n",
              "</div>"
            ],
            "text/plain": [
              "   InvoiceId  CustomerId          InvoiceDate           BillingAddress  \\\n",
              "0          1           2  2009-01-01 00:00:00  Theodor-Heuss-Straße 34   \n",
              "1          2           4  2009-01-02 00:00:00         Ullevålsveien 14   \n",
              "2          3           8  2009-01-03 00:00:00          Grétrystraat 63   \n",
              "3          4          14  2009-01-06 00:00:00           8210 111 ST NW   \n",
              "4          5          23  2009-01-11 00:00:00          69 Salem Street   \n",
              "\n",
              "  BillingCity BillingState BillingCountry BillingPostalCode  Total  \n",
              "0   Stuttgart         None        Germany             70174   1.98  \n",
              "1        Oslo         None         Norway              0171   3.96  \n",
              "2    Brussels         None        Belgium              1000   5.94  \n",
              "3    Edmonton           AB         Canada           T6G 2C7   8.91  \n",
              "4      Boston           MA            USA              2113  13.86  "
            ]
          },
          "metadata": {
            "tags": []
          },
          "execution_count": 75
        }
      ]
    },
    {
      "cell_type": "markdown",
      "metadata": {
        "id": "ofb_vg8kTuAv"
      },
      "source": [
        "**Discussion:**\n",
        "\n",
        "\n",
        "Let's try by first constructing a DataFrame using the `read_sql_query()` method that we've grown familiar to. We want to develop a simple sales visualization report of our top 5 key markets (`Country` column in `customers`) ranked by Sales (`Total` column in `invoices`). \n",
        "\n",
        "We also want to identify our top 5 customers by name (`FirstName`, `LastName`) in the report.\n",
        "\n",
        "Last but not least, we want the report to include a day-of-week analysis on sales performance, and for that we will need the `InvoiceDate` column. \n",
        "\n",
        "> **Hint 1**: `pandas` has built-in methods of extracting the name of day in a week. We've seen this in Part 2 of this specialization (**Working with Datetime chapter**). An example usage is:\n",
        ">\n",
        "> `x['InvoiceDOW'] = x['InvoiceDate'].dt.weekday_name`\n",
        ">\n",
        ">  **Hint 2**: In `read_sql_query`, you can use the `parse_dates='InvoiceDate'` argument to have the specified column parsed as date, saving you from a `to_datetime()` conversion"
      ]
    },
    {
      "cell_type": "code",
      "metadata": {
        "id": "lS0lruqrTuAv"
      },
      "source": [
        "## Your code below\n",
        "\n"
      ],
      "execution_count": null,
      "outputs": []
    },
    {
      "cell_type": "markdown",
      "metadata": {
        "id": "m_CQVQ5tTuAv"
      },
      "source": [
        "By modifying SQL query above, try to answer the following questions:"
      ]
    },
    {
      "cell_type": "markdown",
      "metadata": {
        "id": "Pkry8k-nTuAv"
      },
      "source": [
        "1. Which of the following customers are among the top 5 customers ranked by their respective total (`Total`)? Choose all that apply.\n",
        "    - [ ] Victor Stevens\n",
        "    - [ ] Hugh O'Reilly\n",
        "    - [ ] Puja Srivastava\n",
        "    - [ ] Ellie Sullivan\n",
        "\n",
        "2. Which of the following countries are among the top 5 grossing country ranked by their respective total (`Total`)? Choose all that apply.\n",
        "    - [ ] United Kingdom\n",
        "    - [ ] Germany\n",
        "    - [ ] Portugal\n",
        "    - [ ] India\n",
        "    \n",
        "3. How many sales transactions (or records, or rows) were from each of the top 5 countries?\n",
        "    - Answer:"
      ]
    },
    {
      "cell_type": "code",
      "metadata": {
        "id": "W02-HC8qTuAw"
      },
      "source": [
        "## Your code below\n",
        "\n",
        "# -- Refer to solution key 5"
      ],
      "execution_count": null,
      "outputs": []
    },
    {
      "cell_type": "markdown",
      "metadata": {
        "id": "AVgAvBx8TuAw"
      },
      "source": [
        "---\n",
        "\n",
        "# Reference Answer"
      ]
    },
    {
      "cell_type": "markdown",
      "metadata": {
        "id": "ADwgET4_TuAw"
      },
      "source": [
        "### 1 - Working with DataFrame"
      ]
    },
    {
      "cell_type": "code",
      "metadata": {
        "id": "Eyiv2IC0TuAw"
      },
      "source": [
        "elec = pd.read_csv(\"data_input/amazon-electronic.csv\", index_col=1)"
      ],
      "execution_count": null,
      "outputs": []
    },
    {
      "cell_type": "code",
      "metadata": {
        "id": "bkSOECIcTuAw",
        "outputId": "30498c2d-aa1e-480a-f8cd-b9657275b12c"
      },
      "source": [
        "elec.head(n=8)"
      ],
      "execution_count": null,
      "outputs": [
        {
          "output_type": "execute_result",
          "data": {
            "text/html": [
              "<div>\n",
              "<style scoped>\n",
              "    .dataframe tbody tr th:only-of-type {\n",
              "        vertical-align: middle;\n",
              "    }\n",
              "\n",
              "    .dataframe tbody tr th {\n",
              "        vertical-align: top;\n",
              "    }\n",
              "\n",
              "    .dataframe thead th {\n",
              "        text-align: right;\n",
              "    }\n",
              "</style>\n",
              "<table border=\"1\" class=\"dataframe\">\n",
              "  <thead>\n",
              "    <tr style=\"text-align: right;\">\n",
              "      <th></th>\n",
              "      <th>id</th>\n",
              "      <th>date</th>\n",
              "      <th>categories</th>\n",
              "      <th>brand</th>\n",
              "      <th>name</th>\n",
              "      <th>merchant</th>\n",
              "      <th>quantity</th>\n",
              "      <th>unit_price</th>\n",
              "    </tr>\n",
              "    <tr>\n",
              "      <th>product_id</th>\n",
              "      <th></th>\n",
              "      <th></th>\n",
              "      <th></th>\n",
              "      <th></th>\n",
              "      <th></th>\n",
              "      <th></th>\n",
              "      <th></th>\n",
              "      <th></th>\n",
              "    </tr>\n",
              "  </thead>\n",
              "  <tbody>\n",
              "    <tr>\n",
              "      <th>44342</th>\n",
              "      <td>1</td>\n",
              "      <td>2017-03-02</td>\n",
              "      <td>Camera &amp; Photo</td>\n",
              "      <td>Panasonic</td>\n",
              "      <td>Lumix G 25mm f/1.7 ASPH. Lens</td>\n",
              "      <td>Bestbuy.com</td>\n",
              "      <td>1</td>\n",
              "      <td>201.99</td>\n",
              "    </tr>\n",
              "    <tr>\n",
              "      <th>46876</th>\n",
              "      <td>2</td>\n",
              "      <td>2017-03-02</td>\n",
              "      <td>Camera &amp; Photo</td>\n",
              "      <td>Sony</td>\n",
              "      <td>Cyber-shot DSC-WX220 Digital Camera (Black)</td>\n",
              "      <td>Bestbuy.com</td>\n",
              "      <td>1</td>\n",
              "      <td>159.99</td>\n",
              "    </tr>\n",
              "    <tr>\n",
              "      <th>12136</th>\n",
              "      <td>3</td>\n",
              "      <td>2017-03-02</td>\n",
              "      <td>Camera &amp; Photo</td>\n",
              "      <td>Sony</td>\n",
              "      <td>Sony - BC-TRX Battery Charger - Black</td>\n",
              "      <td>Bestbuy.com</td>\n",
              "      <td>1</td>\n",
              "      <td>26.99</td>\n",
              "    </tr>\n",
              "    <tr>\n",
              "      <th>79238</th>\n",
              "      <td>6</td>\n",
              "      <td>2017-03-03</td>\n",
              "      <td>Accessories &amp; Supplies</td>\n",
              "      <td>Insignia</td>\n",
              "      <td>Insignia - Fixed TV Wall Mount For Most 40-70\"...</td>\n",
              "      <td>Bestbuy.com</td>\n",
              "      <td>1</td>\n",
              "      <td>56.99</td>\n",
              "    </tr>\n",
              "    <tr>\n",
              "      <th>46643</th>\n",
              "      <td>7</td>\n",
              "      <td>2017-03-03</td>\n",
              "      <td>Camera &amp; Photo</td>\n",
              "      <td>Sony</td>\n",
              "      <td>Cyber-shot DSC-RX100 V Digital Camera</td>\n",
              "      <td>Bestbuy.com</td>\n",
              "      <td>1</td>\n",
              "      <td>849.99</td>\n",
              "    </tr>\n",
              "    <tr>\n",
              "      <th>9472</th>\n",
              "      <td>8</td>\n",
              "      <td>2017-03-03</td>\n",
              "      <td>Camera &amp; Photo</td>\n",
              "      <td>Yamaha</td>\n",
              "      <td>R-S202 Stereo Receiver with Bluetooth (Black)</td>\n",
              "      <td>Bestbuy.com</td>\n",
              "      <td>1</td>\n",
              "      <td>125.99</td>\n",
              "    </tr>\n",
              "    <tr>\n",
              "      <th>11868</th>\n",
              "      <td>9</td>\n",
              "      <td>2017-03-03</td>\n",
              "      <td>Car &amp; Vehicle Electronics</td>\n",
              "      <td>Alpine</td>\n",
              "      <td>Alpine - 5 x 7\" 2-Way Coaxial Car Speakers wit...</td>\n",
              "      <td>Bestbuy.com</td>\n",
              "      <td>1</td>\n",
              "      <td>74.99</td>\n",
              "    </tr>\n",
              "    <tr>\n",
              "      <th>50731</th>\n",
              "      <td>10</td>\n",
              "      <td>2017-03-03</td>\n",
              "      <td>Car &amp; Vehicle Electronics</td>\n",
              "      <td>Alpine</td>\n",
              "      <td>Alpine - 6 x 9\" 2-Way Coaxial Car Speakers wit...</td>\n",
              "      <td>Bestbuy.com</td>\n",
              "      <td>1</td>\n",
              "      <td>54.99</td>\n",
              "    </tr>\n",
              "  </tbody>\n",
              "</table>\n",
              "</div>"
            ],
            "text/plain": [
              "            id        date                 categories      brand  \\\n",
              "product_id                                                         \n",
              "44342        1  2017-03-02             Camera & Photo  Panasonic   \n",
              "46876        2  2017-03-02             Camera & Photo       Sony   \n",
              "12136        3  2017-03-02             Camera & Photo       Sony   \n",
              "79238        6  2017-03-03     Accessories & Supplies   Insignia   \n",
              "46643        7  2017-03-03             Camera & Photo       Sony   \n",
              "9472         8  2017-03-03             Camera & Photo     Yamaha   \n",
              "11868        9  2017-03-03  Car & Vehicle Electronics     Alpine   \n",
              "50731       10  2017-03-03  Car & Vehicle Electronics     Alpine   \n",
              "\n",
              "                                                         name     merchant  \\\n",
              "product_id                                                                   \n",
              "44342                           Lumix G 25mm f/1.7 ASPH. Lens  Bestbuy.com   \n",
              "46876             Cyber-shot DSC-WX220 Digital Camera (Black)  Bestbuy.com   \n",
              "12136                   Sony - BC-TRX Battery Charger - Black  Bestbuy.com   \n",
              "79238       Insignia - Fixed TV Wall Mount For Most 40-70\"...  Bestbuy.com   \n",
              "46643                   Cyber-shot DSC-RX100 V Digital Camera  Bestbuy.com   \n",
              "9472            R-S202 Stereo Receiver with Bluetooth (Black)  Bestbuy.com   \n",
              "11868       Alpine - 5 x 7\" 2-Way Coaxial Car Speakers wit...  Bestbuy.com   \n",
              "50731       Alpine - 6 x 9\" 2-Way Coaxial Car Speakers wit...  Bestbuy.com   \n",
              "\n",
              "            quantity  unit_price  \n",
              "product_id                        \n",
              "44342              1      201.99  \n",
              "46876              1      159.99  \n",
              "12136              1       26.99  \n",
              "79238              1       56.99  \n",
              "46643              1      849.99  \n",
              "9472               1      125.99  \n",
              "11868              1       74.99  \n",
              "50731              1       54.99  "
            ]
          },
          "metadata": {
            "tags": []
          },
          "execution_count": 79
        }
      ]
    },
    {
      "cell_type": "code",
      "metadata": {
        "scrolled": true,
        "id": "6WQc8xxvTuAx",
        "outputId": "e8d8e75a-e01e-49ee-e21d-1409f7b0cf6e"
      },
      "source": [
        "elec.tail(n=4)"
      ],
      "execution_count": null,
      "outputs": [
        {
          "output_type": "execute_result",
          "data": {
            "text/html": [
              "<div>\n",
              "<style scoped>\n",
              "    .dataframe tbody tr th:only-of-type {\n",
              "        vertical-align: middle;\n",
              "    }\n",
              "\n",
              "    .dataframe tbody tr th {\n",
              "        vertical-align: top;\n",
              "    }\n",
              "\n",
              "    .dataframe thead th {\n",
              "        text-align: right;\n",
              "    }\n",
              "</style>\n",
              "<table border=\"1\" class=\"dataframe\">\n",
              "  <thead>\n",
              "    <tr style=\"text-align: right;\">\n",
              "      <th></th>\n",
              "      <th>id</th>\n",
              "      <th>date</th>\n",
              "      <th>categories</th>\n",
              "      <th>brand</th>\n",
              "      <th>name</th>\n",
              "      <th>merchant</th>\n",
              "      <th>quantity</th>\n",
              "      <th>unit_price</th>\n",
              "    </tr>\n",
              "    <tr>\n",
              "      <th>product_id</th>\n",
              "      <th></th>\n",
              "      <th></th>\n",
              "      <th></th>\n",
              "      <th></th>\n",
              "      <th></th>\n",
              "      <th></th>\n",
              "      <th></th>\n",
              "      <th></th>\n",
              "    </tr>\n",
              "  </thead>\n",
              "  <tbody>\n",
              "    <tr>\n",
              "      <th>9246</th>\n",
              "      <td>3549</td>\n",
              "      <td>2018-07-25</td>\n",
              "      <td>Home Audio</td>\n",
              "      <td>Yamaha</td>\n",
              "      <td>NS-IW480CWH In-Ceiling 8 Natural Sound Three-W...</td>\n",
              "      <td>bhphotovideo.com</td>\n",
              "      <td>1</td>\n",
              "      <td>179.95</td>\n",
              "    </tr>\n",
              "    <tr>\n",
              "      <th>70524</th>\n",
              "      <td>3550</td>\n",
              "      <td>2018-07-25</td>\n",
              "      <td>Home Audio</td>\n",
              "      <td>Yamaha</td>\n",
              "      <td>NS-SP1800BL 5.1-Channel Home Theater System (B...</td>\n",
              "      <td>bhphotovideo.com</td>\n",
              "      <td>1</td>\n",
              "      <td>149.95</td>\n",
              "    </tr>\n",
              "    <tr>\n",
              "      <th>75152</th>\n",
              "      <td>3551</td>\n",
              "      <td>2018-07-25</td>\n",
              "      <td>Portable Audio &amp; Video</td>\n",
              "      <td>Denon</td>\n",
              "      <td>HEOS 5 Wireless Speaker System (Series 2, White)</td>\n",
              "      <td>bhphotovideo.com</td>\n",
              "      <td>1</td>\n",
              "      <td>399.00</td>\n",
              "    </tr>\n",
              "    <tr>\n",
              "      <th>22214</th>\n",
              "      <td>3552</td>\n",
              "      <td>2018-07-25</td>\n",
              "      <td>TV &amp; Video</td>\n",
              "      <td>Sony</td>\n",
              "      <td>W650D-Series 48-Class Full HD Smart LED TV</td>\n",
              "      <td>bhphotovideo.com</td>\n",
              "      <td>1</td>\n",
              "      <td>448.00</td>\n",
              "    </tr>\n",
              "  </tbody>\n",
              "</table>\n",
              "</div>"
            ],
            "text/plain": [
              "              id        date              categories   brand  \\\n",
              "product_id                                                     \n",
              "9246        3549  2018-07-25              Home Audio  Yamaha   \n",
              "70524       3550  2018-07-25              Home Audio  Yamaha   \n",
              "75152       3551  2018-07-25  Portable Audio & Video   Denon   \n",
              "22214       3552  2018-07-25              TV & Video    Sony   \n",
              "\n",
              "                                                         name  \\\n",
              "product_id                                                      \n",
              "9246        NS-IW480CWH In-Ceiling 8 Natural Sound Three-W...   \n",
              "70524       NS-SP1800BL 5.1-Channel Home Theater System (B...   \n",
              "75152        HEOS 5 Wireless Speaker System (Series 2, White)   \n",
              "22214              W650D-Series 48-Class Full HD Smart LED TV   \n",
              "\n",
              "                    merchant  quantity  unit_price  \n",
              "product_id                                          \n",
              "9246        bhphotovideo.com         1      179.95  \n",
              "70524       bhphotovideo.com         1      149.95  \n",
              "75152       bhphotovideo.com         1      399.00  \n",
              "22214       bhphotovideo.com         1      448.00  "
            ]
          },
          "metadata": {
            "tags": []
          },
          "execution_count": 80
        }
      ]
    },
    {
      "cell_type": "markdown",
      "metadata": {
        "id": "rzqKhtWmTuAx"
      },
      "source": [
        "### 2 - Conditional Subsetting"
      ]
    },
    {
      "cell_type": "code",
      "metadata": {
        "id": "ZvPbFI5nTuAx",
        "outputId": "5bf85207-8c99-4200-cd63-19054024d1fd"
      },
      "source": [
        "elec[elec.date == \"2018-05-26\"].shape"
      ],
      "execution_count": null,
      "outputs": [
        {
          "output_type": "execute_result",
          "data": {
            "text/plain": [
              "(84, 8)"
            ]
          },
          "metadata": {
            "tags": []
          },
          "execution_count": 81
        }
      ]
    },
    {
      "cell_type": "code",
      "metadata": {
        "id": "qwUAOSjfTuAx",
        "outputId": "0c6ad19d-fa55-407c-a9c3-32bc9d9a5a60"
      },
      "source": [
        "elec[(elec.date == \"2018-05-26\") & (elec.categories == \"Computers & Accessories\")].shape"
      ],
      "execution_count": null,
      "outputs": [
        {
          "output_type": "execute_result",
          "data": {
            "text/plain": [
              "(19, 8)"
            ]
          },
          "metadata": {
            "tags": []
          },
          "execution_count": 82
        }
      ]
    },
    {
      "cell_type": "code",
      "metadata": {
        "id": "07bLYJDSTuAy",
        "outputId": "848aee37-3f95-465f-b9de-bd7899b6a58b"
      },
      "source": [
        "elec[elec.merchant == \"Walmart.com\"].shape"
      ],
      "execution_count": null,
      "outputs": [
        {
          "output_type": "execute_result",
          "data": {
            "text/plain": [
              "(308, 8)"
            ]
          },
          "metadata": {
            "tags": []
          },
          "execution_count": 83
        }
      ]
    },
    {
      "cell_type": "markdown",
      "metadata": {
        "id": "6f6URmIwTuAy"
      },
      "source": [
        "### 3 - Data Reshaping"
      ]
    },
    {
      "cell_type": "code",
      "metadata": {
        "id": "7qFI3stLTuAy",
        "outputId": "71a61a27-dca4-41c1-f784-03299ab4f33d"
      },
      "source": [
        "# read data\n",
        "techcrunch = pd.read_csv(\"data_input/techcrunch.csv\")\n",
        "\n",
        "# Answer for No. 2:\n",
        "techcrunch.groupby('category').median().sort_values('raisedAmt',ascending = 0)\n",
        "\n",
        "# Answer for No. 3:\n",
        "techcrunch[techcrunch.city == 'San Francisco'].groupby('company').sum().sort_values('raisedAmt', ascending = 0).head(5)"
      ],
      "execution_count": null,
      "outputs": [
        {
          "output_type": "execute_result",
          "data": {
            "text/html": [
              "<div>\n",
              "<style scoped>\n",
              "    .dataframe tbody tr th:only-of-type {\n",
              "        vertical-align: middle;\n",
              "    }\n",
              "\n",
              "    .dataframe tbody tr th {\n",
              "        vertical-align: top;\n",
              "    }\n",
              "\n",
              "    .dataframe thead th {\n",
              "        text-align: right;\n",
              "    }\n",
              "</style>\n",
              "<table border=\"1\" class=\"dataframe\">\n",
              "  <thead>\n",
              "    <tr style=\"text-align: right;\">\n",
              "      <th></th>\n",
              "      <th>numEmps</th>\n",
              "      <th>raisedAmt</th>\n",
              "    </tr>\n",
              "    <tr>\n",
              "      <th>company</th>\n",
              "      <th></th>\n",
              "      <th></th>\n",
              "    </tr>\n",
              "  </thead>\n",
              "  <tbody>\n",
              "    <tr>\n",
              "      <th>Slide</th>\n",
              "      <td>128.0</td>\n",
              "      <td>58000000</td>\n",
              "    </tr>\n",
              "    <tr>\n",
              "      <th>freebase</th>\n",
              "      <td>0.0</td>\n",
              "      <td>57500000</td>\n",
              "    </tr>\n",
              "    <tr>\n",
              "      <th>OpenTable</th>\n",
              "      <td>0.0</td>\n",
              "      <td>48000000</td>\n",
              "    </tr>\n",
              "    <tr>\n",
              "      <th>Friendster</th>\n",
              "      <td>1860.0</td>\n",
              "      <td>45400000</td>\n",
              "    </tr>\n",
              "    <tr>\n",
              "      <th>Snapfish</th>\n",
              "      <td>0.0</td>\n",
              "      <td>43500000</td>\n",
              "    </tr>\n",
              "  </tbody>\n",
              "</table>\n",
              "</div>"
            ],
            "text/plain": [
              "            numEmps  raisedAmt\n",
              "company                       \n",
              "Slide         128.0   58000000\n",
              "freebase        0.0   57500000\n",
              "OpenTable       0.0   48000000\n",
              "Friendster   1860.0   45400000\n",
              "Snapfish        0.0   43500000"
            ]
          },
          "metadata": {
            "tags": []
          },
          "execution_count": 97
        }
      ]
    },
    {
      "cell_type": "markdown",
      "metadata": {
        "id": "q5qpmX6LTuAz"
      },
      "source": [
        "### 4 - SQL Exploratory Data Analysis"
      ]
    },
    {
      "cell_type": "code",
      "metadata": {
        "id": "2jB30hbeTuAz",
        "outputId": "360b05e0-4041-486c-ca73-ccd1945ec6a0"
      },
      "source": [
        "import sqlite3\n",
        "\n",
        "conn = sqlite3.connect(\"data_input/chinook.db\")\n",
        "\n",
        "albums = pd.read_sql_query(\"SELECT Name from genres\", conn)\n",
        "albums.head()"
      ],
      "execution_count": null,
      "outputs": [
        {
          "output_type": "execute_result",
          "data": {
            "text/html": [
              "<div>\n",
              "<style scoped>\n",
              "    .dataframe tbody tr th:only-of-type {\n",
              "        vertical-align: middle;\n",
              "    }\n",
              "\n",
              "    .dataframe tbody tr th {\n",
              "        vertical-align: top;\n",
              "    }\n",
              "\n",
              "    .dataframe thead th {\n",
              "        text-align: right;\n",
              "    }\n",
              "</style>\n",
              "<table border=\"1\" class=\"dataframe\">\n",
              "  <thead>\n",
              "    <tr style=\"text-align: right;\">\n",
              "      <th></th>\n",
              "      <th>Name</th>\n",
              "    </tr>\n",
              "  </thead>\n",
              "  <tbody>\n",
              "    <tr>\n",
              "      <th>0</th>\n",
              "      <td>Rock</td>\n",
              "    </tr>\n",
              "    <tr>\n",
              "      <th>1</th>\n",
              "      <td>Jazz</td>\n",
              "    </tr>\n",
              "    <tr>\n",
              "      <th>2</th>\n",
              "      <td>Metal</td>\n",
              "    </tr>\n",
              "    <tr>\n",
              "      <th>3</th>\n",
              "      <td>Alternative &amp; Punk</td>\n",
              "    </tr>\n",
              "    <tr>\n",
              "      <th>4</th>\n",
              "      <td>Rock And Roll</td>\n",
              "    </tr>\n",
              "  </tbody>\n",
              "</table>\n",
              "</div>"
            ],
            "text/plain": [
              "                 Name\n",
              "0                Rock\n",
              "1                Jazz\n",
              "2               Metal\n",
              "3  Alternative & Punk\n",
              "4       Rock And Roll"
            ]
          },
          "metadata": {
            "tags": []
          },
          "execution_count": 84
        }
      ]
    },
    {
      "cell_type": "code",
      "metadata": {
        "id": "1ThK4J-ETuAz"
      },
      "source": [
        "tracks = pd.read_sql_query(\"SELECT tracks.*, \\\n",
        "                           albums.AlbumId, albums.Title as AlbumTitle, albums.ArtistId, \\\n",
        "                           genres.Name as GenreName \\\n",
        "                           FROM tracks \\\n",
        "                           LEFT JOIN genres \\\n",
        "                           ON genres.GenreId = tracks.GenreId \\\n",
        "                           LEFT JOIN albums \\\n",
        "                           ON albums.AlbumId = tracks.AlbumId\", conn)"
      ],
      "execution_count": null,
      "outputs": []
    },
    {
      "cell_type": "code",
      "metadata": {
        "scrolled": false,
        "id": "iq-jbSzITuAz",
        "outputId": "6d538dba-3a92-4308-9cde-a0d4cd38cc6c"
      },
      "source": [
        "tracks.tail()\n",
        "\n",
        "# Answer: Classical"
      ],
      "execution_count": null,
      "outputs": [
        {
          "output_type": "execute_result",
          "data": {
            "text/html": [
              "<div>\n",
              "<style scoped>\n",
              "    .dataframe tbody tr th:only-of-type {\n",
              "        vertical-align: middle;\n",
              "    }\n",
              "\n",
              "    .dataframe tbody tr th {\n",
              "        vertical-align: top;\n",
              "    }\n",
              "\n",
              "    .dataframe thead th {\n",
              "        text-align: right;\n",
              "    }\n",
              "</style>\n",
              "<table border=\"1\" class=\"dataframe\">\n",
              "  <thead>\n",
              "    <tr style=\"text-align: right;\">\n",
              "      <th></th>\n",
              "      <th>TrackId</th>\n",
              "      <th>Name</th>\n",
              "      <th>AlbumId</th>\n",
              "      <th>MediaTypeId</th>\n",
              "      <th>GenreId</th>\n",
              "      <th>Composer</th>\n",
              "      <th>Milliseconds</th>\n",
              "      <th>Bytes</th>\n",
              "      <th>UnitPrice</th>\n",
              "      <th>AlbumId</th>\n",
              "      <th>AlbumTitle</th>\n",
              "      <th>ArtistId</th>\n",
              "      <th>GenreName</th>\n",
              "    </tr>\n",
              "  </thead>\n",
              "  <tbody>\n",
              "    <tr>\n",
              "      <th>3498</th>\n",
              "      <td>3499</td>\n",
              "      <td>Pini Di Roma (Pinien Von Rom) \\ I Pini Della V...</td>\n",
              "      <td>343</td>\n",
              "      <td>2</td>\n",
              "      <td>24</td>\n",
              "      <td>None</td>\n",
              "      <td>286741</td>\n",
              "      <td>4718950</td>\n",
              "      <td>0.99</td>\n",
              "      <td>343</td>\n",
              "      <td>Respighi:Pines of Rome</td>\n",
              "      <td>226</td>\n",
              "      <td>Classical</td>\n",
              "    </tr>\n",
              "    <tr>\n",
              "      <th>3499</th>\n",
              "      <td>3500</td>\n",
              "      <td>String Quartet No. 12 in C Minor, D. 703 \"Quar...</td>\n",
              "      <td>344</td>\n",
              "      <td>2</td>\n",
              "      <td>24</td>\n",
              "      <td>Franz Schubert</td>\n",
              "      <td>139200</td>\n",
              "      <td>2283131</td>\n",
              "      <td>0.99</td>\n",
              "      <td>344</td>\n",
              "      <td>Schubert: The Late String Quartets &amp; String Qu...</td>\n",
              "      <td>272</td>\n",
              "      <td>Classical</td>\n",
              "    </tr>\n",
              "    <tr>\n",
              "      <th>3500</th>\n",
              "      <td>3501</td>\n",
              "      <td>L'orfeo, Act 3, Sinfonia (Orchestra)</td>\n",
              "      <td>345</td>\n",
              "      <td>2</td>\n",
              "      <td>24</td>\n",
              "      <td>Claudio Monteverdi</td>\n",
              "      <td>66639</td>\n",
              "      <td>1189062</td>\n",
              "      <td>0.99</td>\n",
              "      <td>345</td>\n",
              "      <td>Monteverdi: L'Orfeo</td>\n",
              "      <td>273</td>\n",
              "      <td>Classical</td>\n",
              "    </tr>\n",
              "    <tr>\n",
              "      <th>3501</th>\n",
              "      <td>3502</td>\n",
              "      <td>Quintet for Horn, Violin, 2 Violas, and Cello ...</td>\n",
              "      <td>346</td>\n",
              "      <td>2</td>\n",
              "      <td>24</td>\n",
              "      <td>Wolfgang Amadeus Mozart</td>\n",
              "      <td>221331</td>\n",
              "      <td>3665114</td>\n",
              "      <td>0.99</td>\n",
              "      <td>346</td>\n",
              "      <td>Mozart: Chamber Music</td>\n",
              "      <td>274</td>\n",
              "      <td>Classical</td>\n",
              "    </tr>\n",
              "    <tr>\n",
              "      <th>3502</th>\n",
              "      <td>3503</td>\n",
              "      <td>Koyaanisqatsi</td>\n",
              "      <td>347</td>\n",
              "      <td>2</td>\n",
              "      <td>10</td>\n",
              "      <td>Philip Glass</td>\n",
              "      <td>206005</td>\n",
              "      <td>3305164</td>\n",
              "      <td>0.99</td>\n",
              "      <td>347</td>\n",
              "      <td>Koyaanisqatsi (Soundtrack from the Motion Pict...</td>\n",
              "      <td>275</td>\n",
              "      <td>Soundtrack</td>\n",
              "    </tr>\n",
              "  </tbody>\n",
              "</table>\n",
              "</div>"
            ],
            "text/plain": [
              "      TrackId                                               Name  AlbumId  \\\n",
              "3498     3499  Pini Di Roma (Pinien Von Rom) \\ I Pini Della V...      343   \n",
              "3499     3500  String Quartet No. 12 in C Minor, D. 703 \"Quar...      344   \n",
              "3500     3501               L'orfeo, Act 3, Sinfonia (Orchestra)      345   \n",
              "3501     3502  Quintet for Horn, Violin, 2 Violas, and Cello ...      346   \n",
              "3502     3503                                      Koyaanisqatsi      347   \n",
              "\n",
              "      MediaTypeId  GenreId                 Composer  Milliseconds    Bytes  \\\n",
              "3498            2       24                     None        286741  4718950   \n",
              "3499            2       24           Franz Schubert        139200  2283131   \n",
              "3500            2       24       Claudio Monteverdi         66639  1189062   \n",
              "3501            2       24  Wolfgang Amadeus Mozart        221331  3665114   \n",
              "3502            2       10             Philip Glass        206005  3305164   \n",
              "\n",
              "      UnitPrice  AlbumId                                         AlbumTitle  \\\n",
              "3498       0.99      343                             Respighi:Pines of Rome   \n",
              "3499       0.99      344  Schubert: The Late String Quartets & String Qu...   \n",
              "3500       0.99      345                                Monteverdi: L'Orfeo   \n",
              "3501       0.99      346                              Mozart: Chamber Music   \n",
              "3502       0.99      347  Koyaanisqatsi (Soundtrack from the Motion Pict...   \n",
              "\n",
              "      ArtistId   GenreName  \n",
              "3498       226   Classical  \n",
              "3499       272   Classical  \n",
              "3500       273   Classical  \n",
              "3501       274   Classical  \n",
              "3502       275  Soundtrack  "
            ]
          },
          "metadata": {
            "tags": []
          },
          "execution_count": 86
        }
      ]
    },
    {
      "cell_type": "code",
      "metadata": {
        "id": "0nkGvVBWTuA0",
        "outputId": "679a2838-5fb7-42ec-8bc3-6585c848410d"
      },
      "source": [
        "tracks.GenreName.value_counts(sort=True).head(3)\n",
        "\n",
        "#Answer: Latin"
      ],
      "execution_count": null,
      "outputs": [
        {
          "output_type": "execute_result",
          "data": {
            "text/plain": [
              "Rock     1297\n",
              "Latin     579\n",
              "Metal     374\n",
              "Name: GenreName, dtype: int64"
            ]
          },
          "metadata": {
            "tags": []
          },
          "execution_count": 87
        }
      ]
    },
    {
      "cell_type": "code",
      "metadata": {
        "id": "aV2QlHAWTuA0",
        "outputId": "35b37b33-ec2e-40e8-c357-118cd80dca74"
      },
      "source": [
        "price = tracks[['AlbumTitle','UnitPrice']].groupby('AlbumTitle').mean()\n",
        "\n",
        "price[price.UnitPrice == 1.99]\n",
        "\n",
        "# Answer: Every kind of light"
      ],
      "execution_count": null,
      "outputs": [
        {
          "output_type": "execute_result",
          "data": {
            "text/html": [
              "<div>\n",
              "<style scoped>\n",
              "    .dataframe tbody tr th:only-of-type {\n",
              "        vertical-align: middle;\n",
              "    }\n",
              "\n",
              "    .dataframe tbody tr th {\n",
              "        vertical-align: top;\n",
              "    }\n",
              "\n",
              "    .dataframe thead th {\n",
              "        text-align: right;\n",
              "    }\n",
              "</style>\n",
              "<table border=\"1\" class=\"dataframe\">\n",
              "  <thead>\n",
              "    <tr style=\"text-align: right;\">\n",
              "      <th></th>\n",
              "      <th>UnitPrice</th>\n",
              "    </tr>\n",
              "    <tr>\n",
              "      <th>AlbumTitle</th>\n",
              "      <th></th>\n",
              "    </tr>\n",
              "  </thead>\n",
              "  <tbody>\n",
              "    <tr>\n",
              "      <th>Aquaman</th>\n",
              "      <td>1.99</td>\n",
              "    </tr>\n",
              "    <tr>\n",
              "      <th>Battlestar Galactica: The Story So Far</th>\n",
              "      <td>1.99</td>\n",
              "    </tr>\n",
              "    <tr>\n",
              "      <th>The Office, Season 1</th>\n",
              "      <td>1.99</td>\n",
              "    </tr>\n",
              "    <tr>\n",
              "      <th>The Office, Season 2</th>\n",
              "      <td>1.99</td>\n",
              "    </tr>\n",
              "  </tbody>\n",
              "</table>\n",
              "</div>"
            ],
            "text/plain": [
              "                                        UnitPrice\n",
              "AlbumTitle                                       \n",
              "Aquaman                                      1.99\n",
              "Battlestar Galactica: The Story So Far       1.99\n",
              "The Office, Season 1                         1.99\n",
              "The Office, Season 2                         1.99"
            ]
          },
          "metadata": {
            "tags": []
          },
          "execution_count": 88
        }
      ]
    },
    {
      "cell_type": "markdown",
      "metadata": {
        "id": "znltnQOBTuA0"
      },
      "source": [
        "### 5 - SQL Where Clause"
      ]
    },
    {
      "cell_type": "code",
      "metadata": {
        "id": "KVpzyshlTuA0"
      },
      "source": [
        "df = pd.read_sql_query(\"SELECT customers.Country, customers.FirstName, customers.LastName, \\\n",
        "                                   invoices.Total, invoices.InvoiceDate \\\n",
        "                                   FROM customers \\\n",
        "                                   LEFT JOIN invoices \\\n",
        "                                   ON invoices.CustomerId = customers.CustomerId\",\n",
        "                                  conn, parse_dates='InvoiceDate')"
      ],
      "execution_count": null,
      "outputs": []
    },
    {
      "cell_type": "code",
      "metadata": {
        "id": "fOJsN9oHTuA0",
        "outputId": "191c0a37-567f-4903-ed93-575cabe430cf"
      },
      "source": [
        "pd.read_sql_query(\"SELECT customers.Country, customers.FirstName, customers.LastName, \\\n",
        "                                   sum(invoices.Total) as Total, invoices.InvoiceDate \\\n",
        "                                   FROM customers \\\n",
        "                                   LEFT JOIN invoices \\\n",
        "                                   ON invoices.CustomerId = customers.CustomerId\\\n",
        "                                   GROUP BY FirstName,LastName \\\n",
        "                                   ORDER BY Total DESC \\\n",
        "                                   LIMIT 5\", \n",
        "                                  conn, parse_dates='InvoiceDate')\n",
        "\n",
        "# Answer: Hugh O'Reilly"
      ],
      "execution_count": null,
      "outputs": [
        {
          "output_type": "execute_result",
          "data": {
            "text/html": [
              "<div>\n",
              "<style scoped>\n",
              "    .dataframe tbody tr th:only-of-type {\n",
              "        vertical-align: middle;\n",
              "    }\n",
              "\n",
              "    .dataframe tbody tr th {\n",
              "        vertical-align: top;\n",
              "    }\n",
              "\n",
              "    .dataframe thead th {\n",
              "        text-align: right;\n",
              "    }\n",
              "</style>\n",
              "<table border=\"1\" class=\"dataframe\">\n",
              "  <thead>\n",
              "    <tr style=\"text-align: right;\">\n",
              "      <th></th>\n",
              "      <th>Country</th>\n",
              "      <th>FirstName</th>\n",
              "      <th>LastName</th>\n",
              "      <th>Total</th>\n",
              "      <th>InvoiceDate</th>\n",
              "    </tr>\n",
              "  </thead>\n",
              "  <tbody>\n",
              "    <tr>\n",
              "      <th>0</th>\n",
              "      <td>Czech Republic</td>\n",
              "      <td>Helena</td>\n",
              "      <td>Holý</td>\n",
              "      <td>49.62</td>\n",
              "      <td>2009-07-11</td>\n",
              "    </tr>\n",
              "    <tr>\n",
              "      <th>1</th>\n",
              "      <td>USA</td>\n",
              "      <td>Richard</td>\n",
              "      <td>Cunningham</td>\n",
              "      <td>47.62</td>\n",
              "      <td>2009-11-07</td>\n",
              "    </tr>\n",
              "    <tr>\n",
              "      <th>2</th>\n",
              "      <td>Chile</td>\n",
              "      <td>Luis</td>\n",
              "      <td>Rojas</td>\n",
              "      <td>46.62</td>\n",
              "      <td>2009-04-04</td>\n",
              "    </tr>\n",
              "    <tr>\n",
              "      <th>3</th>\n",
              "      <td>Ireland</td>\n",
              "      <td>Hugh</td>\n",
              "      <td>O'Reilly</td>\n",
              "      <td>45.62</td>\n",
              "      <td>2009-02-03</td>\n",
              "    </tr>\n",
              "    <tr>\n",
              "      <th>4</th>\n",
              "      <td>Hungary</td>\n",
              "      <td>Ladislav</td>\n",
              "      <td>Kovács</td>\n",
              "      <td>45.62</td>\n",
              "      <td>2010-01-08</td>\n",
              "    </tr>\n",
              "  </tbody>\n",
              "</table>\n",
              "</div>"
            ],
            "text/plain": [
              "          Country FirstName    LastName  Total InvoiceDate\n",
              "0  Czech Republic    Helena        Holý  49.62  2009-07-11\n",
              "1             USA   Richard  Cunningham  47.62  2009-11-07\n",
              "2           Chile      Luis       Rojas  46.62  2009-04-04\n",
              "3         Ireland      Hugh    O'Reilly  45.62  2009-02-03\n",
              "4         Hungary  Ladislav      Kovács  45.62  2010-01-08"
            ]
          },
          "metadata": {
            "tags": []
          },
          "execution_count": 90
        }
      ]
    },
    {
      "cell_type": "code",
      "metadata": {
        "id": "ezobmWdnTuA1",
        "outputId": "b0c767e9-ef32-4403-eed0-c0f93472e07b"
      },
      "source": [
        "pd.read_sql_query(\"SELECT customers.Country, customers.FirstName, customers.LastName, \\\n",
        "                                   sum(invoices.Total) as Total, invoices.InvoiceDate \\\n",
        "                                   FROM customers \\\n",
        "                                   LEFT JOIN invoices \\\n",
        "                                   ON invoices.CustomerId = customers.CustomerId\\\n",
        "                                   GROUP BY Country \\\n",
        "                                   ORDER BY Total DESC\\\n",
        "                                   LIMIT 5\", \n",
        "                                  conn, parse_dates='InvoiceDate')\n",
        "\n",
        "# Answer: Germany"
      ],
      "execution_count": null,
      "outputs": [
        {
          "output_type": "execute_result",
          "data": {
            "text/html": [
              "<div>\n",
              "<style scoped>\n",
              "    .dataframe tbody tr th:only-of-type {\n",
              "        vertical-align: middle;\n",
              "    }\n",
              "\n",
              "    .dataframe tbody tr th {\n",
              "        vertical-align: top;\n",
              "    }\n",
              "\n",
              "    .dataframe thead th {\n",
              "        text-align: right;\n",
              "    }\n",
              "</style>\n",
              "<table border=\"1\" class=\"dataframe\">\n",
              "  <thead>\n",
              "    <tr style=\"text-align: right;\">\n",
              "      <th></th>\n",
              "      <th>Country</th>\n",
              "      <th>FirstName</th>\n",
              "      <th>LastName</th>\n",
              "      <th>Total</th>\n",
              "      <th>InvoiceDate</th>\n",
              "    </tr>\n",
              "  </thead>\n",
              "  <tbody>\n",
              "    <tr>\n",
              "      <th>0</th>\n",
              "      <td>USA</td>\n",
              "      <td>Frank</td>\n",
              "      <td>Harris</td>\n",
              "      <td>523.06</td>\n",
              "      <td>2009-02-19</td>\n",
              "    </tr>\n",
              "    <tr>\n",
              "      <th>1</th>\n",
              "      <td>Canada</td>\n",
              "      <td>François</td>\n",
              "      <td>Tremblay</td>\n",
              "      <td>303.96</td>\n",
              "      <td>2010-03-11</td>\n",
              "    </tr>\n",
              "    <tr>\n",
              "      <th>2</th>\n",
              "      <td>France</td>\n",
              "      <td>Camille</td>\n",
              "      <td>Bernard</td>\n",
              "      <td>195.10</td>\n",
              "      <td>2010-04-11</td>\n",
              "    </tr>\n",
              "    <tr>\n",
              "      <th>3</th>\n",
              "      <td>Brazil</td>\n",
              "      <td>Luís</td>\n",
              "      <td>Gonçalves</td>\n",
              "      <td>190.10</td>\n",
              "      <td>2010-03-11</td>\n",
              "    </tr>\n",
              "    <tr>\n",
              "      <th>4</th>\n",
              "      <td>Germany</td>\n",
              "      <td>Leonie</td>\n",
              "      <td>Köhler</td>\n",
              "      <td>156.48</td>\n",
              "      <td>2009-01-01</td>\n",
              "    </tr>\n",
              "  </tbody>\n",
              "</table>\n",
              "</div>"
            ],
            "text/plain": [
              "   Country FirstName   LastName   Total InvoiceDate\n",
              "0      USA     Frank     Harris  523.06  2009-02-19\n",
              "1   Canada  François   Tremblay  303.96  2010-03-11\n",
              "2   France   Camille    Bernard  195.10  2010-04-11\n",
              "3   Brazil      Luís  Gonçalves  190.10  2010-03-11\n",
              "4  Germany    Leonie     Köhler  156.48  2009-01-01"
            ]
          },
          "metadata": {
            "tags": []
          },
          "execution_count": 91
        }
      ]
    },
    {
      "cell_type": "code",
      "metadata": {
        "id": "Er9i6SCUTuA1",
        "outputId": "5e3b51a0-9c09-4989-a47f-7ed376b4d95e"
      },
      "source": [
        "pd.read_sql_query(\"SELECT customers.Country, customers.FirstName, customers.LastName, \\\n",
        "                                   sum(invoices.Total) as Total, invoices.InvoiceDate, count(invoices.InvoiceId) as Trans \\\n",
        "                                   FROM customers \\\n",
        "                                   LEFT JOIN invoices \\\n",
        "                                   ON invoices.CustomerId = customers.CustomerId\\\n",
        "                                   GROUP BY Country \\\n",
        "                                   ORDER BY Total DESC\\\n",
        "                                   LIMIT 5\", \n",
        "                                  conn, parse_dates='InvoiceDate')"
      ],
      "execution_count": null,
      "outputs": [
        {
          "output_type": "execute_result",
          "data": {
            "text/html": [
              "<div>\n",
              "<style scoped>\n",
              "    .dataframe tbody tr th:only-of-type {\n",
              "        vertical-align: middle;\n",
              "    }\n",
              "\n",
              "    .dataframe tbody tr th {\n",
              "        vertical-align: top;\n",
              "    }\n",
              "\n",
              "    .dataframe thead th {\n",
              "        text-align: right;\n",
              "    }\n",
              "</style>\n",
              "<table border=\"1\" class=\"dataframe\">\n",
              "  <thead>\n",
              "    <tr style=\"text-align: right;\">\n",
              "      <th></th>\n",
              "      <th>Country</th>\n",
              "      <th>FirstName</th>\n",
              "      <th>LastName</th>\n",
              "      <th>Total</th>\n",
              "      <th>InvoiceDate</th>\n",
              "      <th>Trans</th>\n",
              "    </tr>\n",
              "  </thead>\n",
              "  <tbody>\n",
              "    <tr>\n",
              "      <th>0</th>\n",
              "      <td>USA</td>\n",
              "      <td>Frank</td>\n",
              "      <td>Harris</td>\n",
              "      <td>523.06</td>\n",
              "      <td>2009-02-19</td>\n",
              "      <td>91</td>\n",
              "    </tr>\n",
              "    <tr>\n",
              "      <th>1</th>\n",
              "      <td>Canada</td>\n",
              "      <td>François</td>\n",
              "      <td>Tremblay</td>\n",
              "      <td>303.96</td>\n",
              "      <td>2010-03-11</td>\n",
              "      <td>56</td>\n",
              "    </tr>\n",
              "    <tr>\n",
              "      <th>2</th>\n",
              "      <td>France</td>\n",
              "      <td>Camille</td>\n",
              "      <td>Bernard</td>\n",
              "      <td>195.10</td>\n",
              "      <td>2010-04-11</td>\n",
              "      <td>35</td>\n",
              "    </tr>\n",
              "    <tr>\n",
              "      <th>3</th>\n",
              "      <td>Brazil</td>\n",
              "      <td>Luís</td>\n",
              "      <td>Gonçalves</td>\n",
              "      <td>190.10</td>\n",
              "      <td>2010-03-11</td>\n",
              "      <td>35</td>\n",
              "    </tr>\n",
              "    <tr>\n",
              "      <th>4</th>\n",
              "      <td>Germany</td>\n",
              "      <td>Leonie</td>\n",
              "      <td>Köhler</td>\n",
              "      <td>156.48</td>\n",
              "      <td>2009-01-01</td>\n",
              "      <td>28</td>\n",
              "    </tr>\n",
              "  </tbody>\n",
              "</table>\n",
              "</div>"
            ],
            "text/plain": [
              "   Country FirstName   LastName   Total InvoiceDate  Trans\n",
              "0      USA     Frank     Harris  523.06  2009-02-19     91\n",
              "1   Canada  François   Tremblay  303.96  2010-03-11     56\n",
              "2   France   Camille    Bernard  195.10  2010-04-11     35\n",
              "3   Brazil      Luís  Gonçalves  190.10  2010-03-11     35\n",
              "4  Germany    Leonie     Köhler  156.48  2009-01-01     28"
            ]
          },
          "metadata": {
            "tags": []
          },
          "execution_count": 92
        }
      ]
    }
  ]
}